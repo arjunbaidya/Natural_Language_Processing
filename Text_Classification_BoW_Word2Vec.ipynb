{
 "cells": [
  {
   "cell_type": "markdown",
   "id": "58859c12",
   "metadata": {},
   "source": [
    "### Description:\n",
    "\n",
    "We will be using a dataset called **\"Economic news article tone and relevance\"** from Figure-Eight which consists of approximately 8000 news articles, which were tagged as relevant or not relevant to the US Economy. Our goal in this notebook is to explore the process of training and testing text classifiers for this problem, using this dataset and some text classification algorithms: Naive Bayes, Logistic Regression, Random Forest implemented in sklearn."
   ]
  },
  {
   "cell_type": "code",
   "execution_count": 2,
   "id": "57429640",
   "metadata": {},
   "outputs": [],
   "source": [
    "import warnings\n",
    "warnings.filterwarnings('ignore')\n",
    "import numpy as np\n",
    "import pandas as pd\n",
    "import matplotlib.pyplot as plt \n",
    "import re\n",
    "import string\n",
    "from sklearn.model_selection import train_test_split\n",
    "from sklearn.feature_extraction.text import CountVectorizer\n",
    "from sklearn.naive_bayes import MultinomialNB, GaussianNB\n",
    "from sklearn.metrics import accuracy_score, f1_score, confusion_matrix, roc_auc_score\n",
    "from sklearn.linear_model import LogisticRegression\n",
    "import itertools\n",
    "import gensim\n",
    "from gensim.models.word2vec import Word2Vec\n",
    "import spacy\n",
    "from tqdm import tqdm"
   ]
  },
  {
   "cell_type": "markdown",
   "id": "98b3e169",
   "metadata": {},
   "source": [
    "Importing the dataset"
   ]
  },
  {
   "cell_type": "code",
   "execution_count": 3,
   "id": "1dd557cf",
   "metadata": {},
   "outputs": [
    {
     "data": {
      "text/html": [
       "<div>\n",
       "<style scoped>\n",
       "    .dataframe tbody tr th:only-of-type {\n",
       "        vertical-align: middle;\n",
       "    }\n",
       "\n",
       "    .dataframe tbody tr th {\n",
       "        vertical-align: top;\n",
       "    }\n",
       "\n",
       "    .dataframe thead th {\n",
       "        text-align: right;\n",
       "    }\n",
       "</style>\n",
       "<table border=\"1\" class=\"dataframe\">\n",
       "  <thead>\n",
       "    <tr style=\"text-align: right;\">\n",
       "      <th></th>\n",
       "      <th>_unit_id</th>\n",
       "      <th>_golden</th>\n",
       "      <th>_unit_state</th>\n",
       "      <th>_trusted_judgments</th>\n",
       "      <th>_last_judgment_at</th>\n",
       "      <th>positivity</th>\n",
       "      <th>positivity:confidence</th>\n",
       "      <th>relevance</th>\n",
       "      <th>relevance:confidence</th>\n",
       "      <th>articleid</th>\n",
       "      <th>date</th>\n",
       "      <th>headline</th>\n",
       "      <th>positivity_gold</th>\n",
       "      <th>relevance_gold</th>\n",
       "      <th>text</th>\n",
       "    </tr>\n",
       "  </thead>\n",
       "  <tbody>\n",
       "    <tr>\n",
       "      <th>0</th>\n",
       "      <td>842613455</td>\n",
       "      <td>False</td>\n",
       "      <td>finalized</td>\n",
       "      <td>3</td>\n",
       "      <td>12/5/15 17:48</td>\n",
       "      <td>3.0</td>\n",
       "      <td>0.6400</td>\n",
       "      <td>yes</td>\n",
       "      <td>0.640</td>\n",
       "      <td>wsj_398217788</td>\n",
       "      <td>8/14/91</td>\n",
       "      <td>Yields on CDs Fell in the Latest Week</td>\n",
       "      <td>NaN</td>\n",
       "      <td>NaN</td>\n",
       "      <td>NEW YORK -- Yields on most certificates of dep...</td>\n",
       "    </tr>\n",
       "    <tr>\n",
       "      <th>1</th>\n",
       "      <td>842613456</td>\n",
       "      <td>False</td>\n",
       "      <td>finalized</td>\n",
       "      <td>3</td>\n",
       "      <td>12/5/15 16:54</td>\n",
       "      <td>NaN</td>\n",
       "      <td>NaN</td>\n",
       "      <td>no</td>\n",
       "      <td>1.000</td>\n",
       "      <td>wsj_399019502</td>\n",
       "      <td>8/21/07</td>\n",
       "      <td>The Morning Brief: White House Seeks to Limit ...</td>\n",
       "      <td>NaN</td>\n",
       "      <td>NaN</td>\n",
       "      <td>The Wall Street Journal Online&lt;/br&gt;&lt;/br&gt;The Mo...</td>\n",
       "    </tr>\n",
       "    <tr>\n",
       "      <th>2</th>\n",
       "      <td>842613457</td>\n",
       "      <td>False</td>\n",
       "      <td>finalized</td>\n",
       "      <td>3</td>\n",
       "      <td>12/5/15 1:59</td>\n",
       "      <td>NaN</td>\n",
       "      <td>NaN</td>\n",
       "      <td>no</td>\n",
       "      <td>1.000</td>\n",
       "      <td>wsj_398284048</td>\n",
       "      <td>11/14/91</td>\n",
       "      <td>Banking Bill Negotiators Set Compromise --- Pl...</td>\n",
       "      <td>NaN</td>\n",
       "      <td>NaN</td>\n",
       "      <td>WASHINGTON -- In an effort to achieve banking ...</td>\n",
       "    </tr>\n",
       "    <tr>\n",
       "      <th>3</th>\n",
       "      <td>842613458</td>\n",
       "      <td>False</td>\n",
       "      <td>finalized</td>\n",
       "      <td>3</td>\n",
       "      <td>12/5/15 2:19</td>\n",
       "      <td>NaN</td>\n",
       "      <td>0.0000</td>\n",
       "      <td>no</td>\n",
       "      <td>0.675</td>\n",
       "      <td>wsj_397959018</td>\n",
       "      <td>6/16/86</td>\n",
       "      <td>Manager's Journal: Sniffing Out Drug Abusers I...</td>\n",
       "      <td>NaN</td>\n",
       "      <td>NaN</td>\n",
       "      <td>The statistics on the enormous costs of employ...</td>\n",
       "    </tr>\n",
       "    <tr>\n",
       "      <th>4</th>\n",
       "      <td>842613459</td>\n",
       "      <td>False</td>\n",
       "      <td>finalized</td>\n",
       "      <td>3</td>\n",
       "      <td>12/5/15 17:48</td>\n",
       "      <td>3.0</td>\n",
       "      <td>0.3257</td>\n",
       "      <td>yes</td>\n",
       "      <td>0.640</td>\n",
       "      <td>wsj_398838054</td>\n",
       "      <td>10/4/02</td>\n",
       "      <td>Currency Trading: Dollar Remains in Tight Rang...</td>\n",
       "      <td>NaN</td>\n",
       "      <td>NaN</td>\n",
       "      <td>NEW YORK -- Indecision marked the dollar's ton...</td>\n",
       "    </tr>\n",
       "  </tbody>\n",
       "</table>\n",
       "</div>"
      ],
      "text/plain": [
       "    _unit_id  _golden _unit_state  _trusted_judgments _last_judgment_at  \\\n",
       "0  842613455    False   finalized                   3     12/5/15 17:48   \n",
       "1  842613456    False   finalized                   3     12/5/15 16:54   \n",
       "2  842613457    False   finalized                   3      12/5/15 1:59   \n",
       "3  842613458    False   finalized                   3      12/5/15 2:19   \n",
       "4  842613459    False   finalized                   3     12/5/15 17:48   \n",
       "\n",
       "   positivity  positivity:confidence relevance  relevance:confidence  \\\n",
       "0         3.0                 0.6400       yes                 0.640   \n",
       "1         NaN                    NaN        no                 1.000   \n",
       "2         NaN                    NaN        no                 1.000   \n",
       "3         NaN                 0.0000        no                 0.675   \n",
       "4         3.0                 0.3257       yes                 0.640   \n",
       "\n",
       "       articleid      date                                           headline  \\\n",
       "0  wsj_398217788   8/14/91              Yields on CDs Fell in the Latest Week   \n",
       "1  wsj_399019502   8/21/07  The Morning Brief: White House Seeks to Limit ...   \n",
       "2  wsj_398284048  11/14/91  Banking Bill Negotiators Set Compromise --- Pl...   \n",
       "3  wsj_397959018   6/16/86  Manager's Journal: Sniffing Out Drug Abusers I...   \n",
       "4  wsj_398838054   10/4/02  Currency Trading: Dollar Remains in Tight Rang...   \n",
       "\n",
       "   positivity_gold  relevance_gold  \\\n",
       "0              NaN             NaN   \n",
       "1              NaN             NaN   \n",
       "2              NaN             NaN   \n",
       "3              NaN             NaN   \n",
       "4              NaN             NaN   \n",
       "\n",
       "                                                text  \n",
       "0  NEW YORK -- Yields on most certificates of dep...  \n",
       "1  The Wall Street Journal Online</br></br>The Mo...  \n",
       "2  WASHINGTON -- In an effort to achieve banking ...  \n",
       "3  The statistics on the enormous costs of employ...  \n",
       "4  NEW YORK -- Indecision marked the dollar's ton...  "
      ]
     },
     "execution_count": 3,
     "metadata": {},
     "output_type": "execute_result"
    }
   ],
   "source": [
    "data = pd.read_csv('Full-Economic-News-DFE-839861.csv', encoding=\"ISO-8859-1\")\n",
    "data.head()"
   ]
  },
  {
   "cell_type": "code",
   "execution_count": 4,
   "id": "a9497e88",
   "metadata": {},
   "outputs": [
    {
     "data": {
      "text/plain": [
       "(8000, 15)"
      ]
     },
     "execution_count": 4,
     "metadata": {},
     "output_type": "execute_result"
    }
   ],
   "source": [
    "data.shape"
   ]
  },
  {
   "cell_type": "code",
   "execution_count": 5,
   "id": "11f04dce",
   "metadata": {},
   "outputs": [
    {
     "data": {
      "text/plain": [
       "no          6571\n",
       "yes         1420\n",
       "not sure       9\n",
       "Name: relevance, dtype: int64"
      ]
     },
     "execution_count": 5,
     "metadata": {},
     "output_type": "execute_result"
    }
   ],
   "source": [
    "data['relevance'].value_counts()"
   ]
  },
  {
   "cell_type": "code",
   "execution_count": 6,
   "id": "d6364cb6",
   "metadata": {},
   "outputs": [
    {
     "data": {
      "text/plain": [
       "no          0.821375\n",
       "yes         0.177500\n",
       "not sure    0.001125\n",
       "Name: relevance, dtype: float64"
      ]
     },
     "execution_count": 6,
     "metadata": {},
     "output_type": "execute_result"
    }
   ],
   "source": [
    "data['relevance'].value_counts()/len(data)"
   ]
  },
  {
   "cell_type": "markdown",
   "id": "bfe4de6e",
   "metadata": {},
   "source": [
    "This is an imbalanced dataset so we have to deal with it accordingly. Most of the observations are not relevant to the US Economy. We will also drop the \"not sure\" observations. "
   ]
  },
  {
   "cell_type": "code",
   "execution_count": 7,
   "id": "ab3ed8cb",
   "metadata": {},
   "outputs": [
    {
     "data": {
      "text/plain": [
       "(7991, 15)"
      ]
     },
     "execution_count": 7,
     "metadata": {},
     "output_type": "execute_result"
    }
   ],
   "source": [
    "data = data[data['relevance'] != \"not sure\"]\n",
    "data.shape"
   ]
  },
  {
   "cell_type": "markdown",
   "id": "d8c43b8a",
   "metadata": {},
   "source": [
    "We only need the \"text\" and \"relevance\" columns in the dataset so we will remove the other columns."
   ]
  },
  {
   "cell_type": "code",
   "execution_count": 8,
   "id": "c18a8c4e",
   "metadata": {},
   "outputs": [
    {
     "data": {
      "text/html": [
       "<div>\n",
       "<style scoped>\n",
       "    .dataframe tbody tr th:only-of-type {\n",
       "        vertical-align: middle;\n",
       "    }\n",
       "\n",
       "    .dataframe tbody tr th {\n",
       "        vertical-align: top;\n",
       "    }\n",
       "\n",
       "    .dataframe thead th {\n",
       "        text-align: right;\n",
       "    }\n",
       "</style>\n",
       "<table border=\"1\" class=\"dataframe\">\n",
       "  <thead>\n",
       "    <tr style=\"text-align: right;\">\n",
       "      <th></th>\n",
       "      <th>text</th>\n",
       "      <th>relevance</th>\n",
       "    </tr>\n",
       "  </thead>\n",
       "  <tbody>\n",
       "    <tr>\n",
       "      <th>0</th>\n",
       "      <td>NEW YORK -- Yields on most certificates of dep...</td>\n",
       "      <td>yes</td>\n",
       "    </tr>\n",
       "    <tr>\n",
       "      <th>1</th>\n",
       "      <td>The Wall Street Journal Online&lt;/br&gt;&lt;/br&gt;The Mo...</td>\n",
       "      <td>no</td>\n",
       "    </tr>\n",
       "    <tr>\n",
       "      <th>2</th>\n",
       "      <td>WASHINGTON -- In an effort to achieve banking ...</td>\n",
       "      <td>no</td>\n",
       "    </tr>\n",
       "    <tr>\n",
       "      <th>3</th>\n",
       "      <td>The statistics on the enormous costs of employ...</td>\n",
       "      <td>no</td>\n",
       "    </tr>\n",
       "    <tr>\n",
       "      <th>4</th>\n",
       "      <td>NEW YORK -- Indecision marked the dollar's ton...</td>\n",
       "      <td>yes</td>\n",
       "    </tr>\n",
       "  </tbody>\n",
       "</table>\n",
       "</div>"
      ],
      "text/plain": [
       "                                                text relevance\n",
       "0  NEW YORK -- Yields on most certificates of dep...       yes\n",
       "1  The Wall Street Journal Online</br></br>The Mo...        no\n",
       "2  WASHINGTON -- In an effort to achieve banking ...        no\n",
       "3  The statistics on the enormous costs of employ...        no\n",
       "4  NEW YORK -- Indecision marked the dollar's ton...       yes"
      ]
     },
     "execution_count": 8,
     "metadata": {},
     "output_type": "execute_result"
    }
   ],
   "source": [
    "data = data[[\"text\",\"relevance\"]]\n",
    "data.head()"
   ]
  },
  {
   "cell_type": "markdown",
   "id": "ed90ed20",
   "metadata": {},
   "source": [
    "We need to change the values in the relevence to 0 and 1 since our ML algorithms requires it in that format. "
   ]
  },
  {
   "cell_type": "code",
   "execution_count": 9,
   "id": "08f9c1ed",
   "metadata": {},
   "outputs": [],
   "source": [
    "data['relevance'] = data['relevance'].map({'yes':1, 'no':0}) # 1 corresponds to relevant and 0 to not-relevant"
   ]
  },
  {
   "cell_type": "code",
   "execution_count": 10,
   "id": "442b55aa",
   "metadata": {},
   "outputs": [
    {
     "name": "stdout",
     "output_type": "stream",
     "text": [
      "<class 'pandas.core.frame.DataFrame'>\n",
      "Int64Index: 7991 entries, 0 to 7999\n",
      "Data columns (total 2 columns):\n",
      " #   Column     Non-Null Count  Dtype \n",
      "---  ------     --------------  ----- \n",
      " 0   text       7991 non-null   object\n",
      " 1   relevance  7991 non-null   int64 \n",
      "dtypes: int64(1), object(1)\n",
      "memory usage: 187.3+ KB\n"
     ]
    }
   ],
   "source": [
    "data.info()"
   ]
  },
  {
   "cell_type": "markdown",
   "id": "4eabb77f",
   "metadata": {},
   "source": [
    "Let's check for duplicates and remove them if any."
   ]
  },
  {
   "cell_type": "code",
   "execution_count": 11,
   "id": "13528320",
   "metadata": {},
   "outputs": [
    {
     "data": {
      "text/plain": [
       "6"
      ]
     },
     "execution_count": 11,
     "metadata": {},
     "output_type": "execute_result"
    }
   ],
   "source": [
    "data.duplicated().sum()"
   ]
  },
  {
   "cell_type": "code",
   "execution_count": 12,
   "id": "4e6486b4",
   "metadata": {},
   "outputs": [
    {
     "data": {
      "text/plain": [
       "(7985, 2)"
      ]
     },
     "execution_count": 12,
     "metadata": {},
     "output_type": "execute_result"
    }
   ],
   "source": [
    "data.drop_duplicates(inplace=True)\n",
    "data.shape"
   ]
  },
  {
   "cell_type": "markdown",
   "id": "0fd2458d",
   "metadata": {},
   "source": [
    "### Text Preprocessing"
   ]
  },
  {
   "cell_type": "code",
   "execution_count": 13,
   "id": "5482df3f",
   "metadata": {},
   "outputs": [],
   "source": [
    "from sklearn.feature_extraction.text import ENGLISH_STOP_WORDS\n",
    "nlp = spacy.load(\"en_core_web_sm\")\n",
    "\n",
    "def preprocess(text):\n",
    "        \n",
    "    # lowercasing\n",
    "    text = text.lower()\n",
    "    \n",
    "    # removing tags\n",
    "    pattern = re.compile('<.*?>')\n",
    "    text = pattern.sub(r' ', text)\n",
    "    \n",
    "    # remove urls\n",
    "    pattern = re.compile(r'https?://\\S+|www\\.\\S+')\n",
    "    text = pattern.sub(r' ', text)\n",
    "    \n",
    "    # remove punctuations and digits\n",
    "    text = \"\".join([ch for ch in text if ch not in string.punctuation and not ch.isdigit()])\n",
    "    \n",
    "    # remove stop words\n",
    "    text = \" \".join([w for w in text.split() if w not in ENGLISH_STOP_WORDS])\n",
    "    \n",
    "    # Creating our token object which is used to create documents with linguistic annotations\n",
    "    doc = nlp(text)\n",
    "\n",
    "    # Lemmatizing each token\n",
    "    tokens = [word.lemma_ for word in doc]\n",
    "       \n",
    "    return \" \".join(tokens)"
   ]
  },
  {
   "cell_type": "code",
   "execution_count": 14,
   "id": "b9a2dbe1",
   "metadata": {},
   "outputs": [],
   "source": [
    "data['text'] = data['text'].apply(preprocess)"
   ]
  },
  {
   "cell_type": "code",
   "execution_count": 15,
   "id": "13a942ba",
   "metadata": {},
   "outputs": [
    {
     "data": {
      "text/html": [
       "<div>\n",
       "<style scoped>\n",
       "    .dataframe tbody tr th:only-of-type {\n",
       "        vertical-align: middle;\n",
       "    }\n",
       "\n",
       "    .dataframe tbody tr th {\n",
       "        vertical-align: top;\n",
       "    }\n",
       "\n",
       "    .dataframe thead th {\n",
       "        text-align: right;\n",
       "    }\n",
       "</style>\n",
       "<table border=\"1\" class=\"dataframe\">\n",
       "  <thead>\n",
       "    <tr style=\"text-align: right;\">\n",
       "      <th></th>\n",
       "      <th>text</th>\n",
       "      <th>relevance</th>\n",
       "    </tr>\n",
       "  </thead>\n",
       "  <tbody>\n",
       "    <tr>\n",
       "      <th>0</th>\n",
       "      <td>new york yield certificate deposit offer major...</td>\n",
       "      <td>1</td>\n",
       "    </tr>\n",
       "    <tr>\n",
       "      <th>1</th>\n",
       "      <td>wall street journal online morning brief look ...</td>\n",
       "      <td>0</td>\n",
       "    </tr>\n",
       "    <tr>\n",
       "      <th>2</th>\n",
       "      <td>washington effort achieve banking reform senat...</td>\n",
       "      <td>0</td>\n",
       "    </tr>\n",
       "    <tr>\n",
       "      <th>3</th>\n",
       "      <td>statistic enormous cost employee drug abuse kn...</td>\n",
       "      <td>0</td>\n",
       "    </tr>\n",
       "    <tr>\n",
       "      <th>4</th>\n",
       "      <td>new york indecision mark dollar tone trader pa...</td>\n",
       "      <td>1</td>\n",
       "    </tr>\n",
       "  </tbody>\n",
       "</table>\n",
       "</div>"
      ],
      "text/plain": [
       "                                                text  relevance\n",
       "0  new york yield certificate deposit offer major...          1\n",
       "1  wall street journal online morning brief look ...          0\n",
       "2  washington effort achieve banking reform senat...          0\n",
       "3  statistic enormous cost employee drug abuse kn...          0\n",
       "4  new york indecision mark dollar tone trader pa...          1"
      ]
     },
     "execution_count": 15,
     "metadata": {},
     "output_type": "execute_result"
    }
   ],
   "source": [
    "data.head()"
   ]
  },
  {
   "cell_type": "markdown",
   "id": "44d5067b",
   "metadata": {},
   "source": [
    "### Modeling"
   ]
  },
  {
   "cell_type": "markdown",
   "id": "94ac26f4",
   "metadata": {},
   "source": [
    "Split data into training and test datasets"
   ]
  },
  {
   "cell_type": "code",
   "execution_count": 16,
   "id": "380e4dbb",
   "metadata": {},
   "outputs": [
    {
     "name": "stdout",
     "output_type": "stream",
     "text": [
      "(6388,) (1597,)\n"
     ]
    }
   ],
   "source": [
    "X = data['text']\n",
    "y = data['relevance'] \n",
    "\n",
    "X_train, X_test, y_train, y_test = train_test_split(X, y, test_size=0.2, stratify=y, random_state=40)\n",
    "print(X_train.shape, X_test.shape)"
   ]
  },
  {
   "cell_type": "markdown",
   "id": "f141c377",
   "metadata": {},
   "source": [
    "We will first use **Bag of Words (BoW)**"
   ]
  },
  {
   "cell_type": "code",
   "execution_count": 17,
   "id": "52dd2187",
   "metadata": {},
   "outputs": [],
   "source": [
    "cv = CountVectorizer()\n",
    "X_train_bow = cv.fit_transform(X_train).toarray()\n",
    "X_test_bow = cv.transform(X_test).toarray()"
   ]
  },
  {
   "cell_type": "code",
   "execution_count": 18,
   "id": "811f4652",
   "metadata": {},
   "outputs": [
    {
     "data": {
      "text/plain": [
       "((6388, 38170), (1597, 38170))"
      ]
     },
     "execution_count": 18,
     "metadata": {},
     "output_type": "execute_result"
    }
   ],
   "source": [
    "X_train_bow.shape, X_test_bow.shape"
   ]
  },
  {
   "cell_type": "markdown",
   "id": "3415e19f",
   "metadata": {},
   "source": [
    "The dimension of our feature vector is 61580"
   ]
  },
  {
   "cell_type": "markdown",
   "id": "bc08eca8",
   "metadata": {},
   "source": [
    "Let's use **Multinimial Naive Bayes** first"
   ]
  },
  {
   "cell_type": "code",
   "execution_count": 20,
   "id": "579376d6",
   "metadata": {},
   "outputs": [
    {
     "data": {
      "text/html": [
       "<style>#sk-container-id-1 {color: black;background-color: white;}#sk-container-id-1 pre{padding: 0;}#sk-container-id-1 div.sk-toggleable {background-color: white;}#sk-container-id-1 label.sk-toggleable__label {cursor: pointer;display: block;width: 100%;margin-bottom: 0;padding: 0.3em;box-sizing: border-box;text-align: center;}#sk-container-id-1 label.sk-toggleable__label-arrow:before {content: \"▸\";float: left;margin-right: 0.25em;color: #696969;}#sk-container-id-1 label.sk-toggleable__label-arrow:hover:before {color: black;}#sk-container-id-1 div.sk-estimator:hover label.sk-toggleable__label-arrow:before {color: black;}#sk-container-id-1 div.sk-toggleable__content {max-height: 0;max-width: 0;overflow: hidden;text-align: left;background-color: #f0f8ff;}#sk-container-id-1 div.sk-toggleable__content pre {margin: 0.2em;color: black;border-radius: 0.25em;background-color: #f0f8ff;}#sk-container-id-1 input.sk-toggleable__control:checked~div.sk-toggleable__content {max-height: 200px;max-width: 100%;overflow: auto;}#sk-container-id-1 input.sk-toggleable__control:checked~label.sk-toggleable__label-arrow:before {content: \"▾\";}#sk-container-id-1 div.sk-estimator input.sk-toggleable__control:checked~label.sk-toggleable__label {background-color: #d4ebff;}#sk-container-id-1 div.sk-label input.sk-toggleable__control:checked~label.sk-toggleable__label {background-color: #d4ebff;}#sk-container-id-1 input.sk-hidden--visually {border: 0;clip: rect(1px 1px 1px 1px);clip: rect(1px, 1px, 1px, 1px);height: 1px;margin: -1px;overflow: hidden;padding: 0;position: absolute;width: 1px;}#sk-container-id-1 div.sk-estimator {font-family: monospace;background-color: #f0f8ff;border: 1px dotted black;border-radius: 0.25em;box-sizing: border-box;margin-bottom: 0.5em;}#sk-container-id-1 div.sk-estimator:hover {background-color: #d4ebff;}#sk-container-id-1 div.sk-parallel-item::after {content: \"\";width: 100%;border-bottom: 1px solid gray;flex-grow: 1;}#sk-container-id-1 div.sk-label:hover label.sk-toggleable__label {background-color: #d4ebff;}#sk-container-id-1 div.sk-serial::before {content: \"\";position: absolute;border-left: 1px solid gray;box-sizing: border-box;top: 0;bottom: 0;left: 50%;z-index: 0;}#sk-container-id-1 div.sk-serial {display: flex;flex-direction: column;align-items: center;background-color: white;padding-right: 0.2em;padding-left: 0.2em;position: relative;}#sk-container-id-1 div.sk-item {position: relative;z-index: 1;}#sk-container-id-1 div.sk-parallel {display: flex;align-items: stretch;justify-content: center;background-color: white;position: relative;}#sk-container-id-1 div.sk-item::before, #sk-container-id-1 div.sk-parallel-item::before {content: \"\";position: absolute;border-left: 1px solid gray;box-sizing: border-box;top: 0;bottom: 0;left: 50%;z-index: -1;}#sk-container-id-1 div.sk-parallel-item {display: flex;flex-direction: column;z-index: 1;position: relative;background-color: white;}#sk-container-id-1 div.sk-parallel-item:first-child::after {align-self: flex-end;width: 50%;}#sk-container-id-1 div.sk-parallel-item:last-child::after {align-self: flex-start;width: 50%;}#sk-container-id-1 div.sk-parallel-item:only-child::after {width: 0;}#sk-container-id-1 div.sk-dashed-wrapped {border: 1px dashed gray;margin: 0 0.4em 0.5em 0.4em;box-sizing: border-box;padding-bottom: 0.4em;background-color: white;}#sk-container-id-1 div.sk-label label {font-family: monospace;font-weight: bold;display: inline-block;line-height: 1.2em;}#sk-container-id-1 div.sk-label-container {text-align: center;}#sk-container-id-1 div.sk-container {/* jupyter's `normalize.less` sets `[hidden] { display: none; }` but bootstrap.min.css set `[hidden] { display: none !important; }` so we also need the `!important` here to be able to override the default hidden behavior on the sphinx rendered scikit-learn.org. See: https://github.com/scikit-learn/scikit-learn/issues/21755 */display: inline-block !important;position: relative;}#sk-container-id-1 div.sk-text-repr-fallback {display: none;}</style><div id=\"sk-container-id-1\" class=\"sk-top-container\"><div class=\"sk-text-repr-fallback\"><pre>MultinomialNB()</pre><b>In a Jupyter environment, please rerun this cell to show the HTML representation or trust the notebook. <br />On GitHub, the HTML representation is unable to render, please try loading this page with nbviewer.org.</b></div><div class=\"sk-container\" hidden><div class=\"sk-item\"><div class=\"sk-estimator sk-toggleable\"><input class=\"sk-toggleable__control sk-hidden--visually\" id=\"sk-estimator-id-1\" type=\"checkbox\" checked><label for=\"sk-estimator-id-1\" class=\"sk-toggleable__label sk-toggleable__label-arrow\">MultinomialNB</label><div class=\"sk-toggleable__content\"><pre>MultinomialNB()</pre></div></div></div></div></div>"
      ],
      "text/plain": [
       "MultinomialNB()"
      ]
     },
     "execution_count": 20,
     "metadata": {},
     "output_type": "execute_result"
    }
   ],
   "source": [
    "nb = MultinomialNB()\n",
    "nb.fit(X_train_bow, y_train)"
   ]
  },
  {
   "cell_type": "code",
   "execution_count": 21,
   "id": "6b90e240",
   "metadata": {},
   "outputs": [
    {
     "name": "stdout",
     "output_type": "stream",
     "text": [
      "Model Accuracy: 0.7577\n",
      "ROC_AUC score: 0.7393\n"
     ]
    },
    {
     "data": {
      "text/plain": [
       "array([[1075,  238],\n",
       "       [ 149,  135]], dtype=int64)"
      ]
     },
     "execution_count": 21,
     "metadata": {},
     "output_type": "execute_result"
    }
   ],
   "source": [
    "y_preds = nb.predict(X_test_bow)\n",
    "print(\"Model Accuracy:\", round(accuracy_score(y_test, y_preds),4))\n",
    "y_pred_prob = nb.predict_proba(X_test_bow)[:, 1]\n",
    "print(\"ROC_AUC score:\", round(roc_auc_score(y_test, y_pred_prob),4))\n",
    "confusion_matrix(y_test, y_preds)"
   ]
  },
  {
   "cell_type": "markdown",
   "id": "f72788b4",
   "metadata": {},
   "source": [
    "Now we will run a loop to check the performances when we vary the number of max_features (restrict the no. of features to be used)"
   ]
  },
  {
   "cell_type": "code",
   "execution_count": 22,
   "id": "37a9fd53",
   "metadata": {},
   "outputs": [
    {
     "name": "stdout",
     "output_type": "stream",
     "text": [
      "ROC_AUC score: 0.7366 For N = 1000\n",
      "ROC_AUC score: 0.7425 For N = 2000\n",
      "ROC_AUC score: 0.7433 For N = 3000\n",
      "ROC_AUC score: 0.7463 For N = 4000\n",
      "ROC_AUC score: 0.7476 For N = 5000\n",
      "ROC_AUC score: 0.7479 For N = 6000\n",
      "ROC_AUC score: 0.7482 For N = 7000\n",
      "ROC_AUC score: 0.7484 For N = 8000\n",
      "ROC_AUC score: 0.7481 For N = 9000\n",
      "ROC_AUC score: 0.7485 For N = 10000\n",
      "ROC_AUC score: 0.7486 For N = 11000\n",
      "ROC_AUC score: 0.7489 For N = 12000\n",
      "ROC_AUC score: 0.7488 For N = 13000\n",
      "ROC_AUC score: 0.7488 For N = 14000\n",
      "ROC_AUC score: 0.7482 For N = 15000\n",
      "ROC_AUC score: 0.7478 For N = 16000\n",
      "ROC_AUC score: 0.7474 For N = 17000\n",
      "ROC_AUC score: 0.7469 For N = 18000\n",
      "ROC_AUC score: 0.7468 For N = 19000\n",
      "ROC_AUC score: 0.7466 For N = 20000\n"
     ]
    }
   ],
   "source": [
    "for N in range(1000, 21000, 1000):\n",
    "\n",
    "    cv = CountVectorizer(max_features=N)\n",
    "    X_train_bow = cv.fit_transform(X_train).toarray()\n",
    "    X_test_bow = cv.transform(X_test).toarray()\n",
    "\n",
    "    nb = MultinomialNB()\n",
    "    nb.fit(X_train_bow, y_train)\n",
    "\n",
    "    y_preds = nb.predict(X_test_bow)\n",
    "    #print(\"Model Accuracy:\", accuracy_score(y_test, y_preds))\n",
    "    y_pred_prob = nb.predict_proba(X_test_bow)[:, 1]\n",
    "    print(\"ROC_AUC score:\", round(roc_auc_score(y_test, y_pred_prob),4), \"For N =\", N)\n",
    "    confusion_matrix(y_test, y_preds)"
   ]
  },
  {
   "cell_type": "markdown",
   "id": "ae8d094e",
   "metadata": {},
   "source": [
    "Clearly, max_features of 12000 is the best here"
   ]
  },
  {
   "cell_type": "code",
   "execution_count": 23,
   "id": "42244757",
   "metadata": {},
   "outputs": [
    {
     "name": "stdout",
     "output_type": "stream",
     "text": [
      "Model Accuracy: 0.6982\n",
      "ROC_AUC score: 0.7489\n"
     ]
    },
    {
     "data": {
      "text/plain": [
       "array([[919, 394],\n",
       "       [ 88, 196]], dtype=int64)"
      ]
     },
     "execution_count": 23,
     "metadata": {},
     "output_type": "execute_result"
    }
   ],
   "source": [
    "# Re-train with best max_feature value\n",
    "\n",
    "cv = CountVectorizer(max_features=12000)\n",
    "X_train_bow = cv.fit_transform(X_train).toarray()\n",
    "X_test_bow = cv.transform(X_test).toarray()\n",
    "\n",
    "nb = MultinomialNB()\n",
    "nb.fit(X_train_bow, y_train)\n",
    "\n",
    "y_preds = nb.predict(X_test_bow)\n",
    "print(\"Model Accuracy:\", round(accuracy_score(y_test, y_preds),4))\n",
    "y_pred_prob = nb.predict_proba(X_test_bow)[:, 1]\n",
    "print(\"ROC_AUC score:\", round(roc_auc_score(y_test, y_pred_prob),4))\n",
    "confusion_matrix(y_test, y_preds)"
   ]
  },
  {
   "cell_type": "code",
   "execution_count": 24,
   "id": "c496ad07",
   "metadata": {},
   "outputs": [],
   "source": [
    "def plot_confusion_matrix(cm, classes,\n",
    "                          normalize=False,\n",
    "                          title='Confusion matrix',\n",
    "                          cmap=plt.cm.Paired):\n",
    "    \"\"\"\n",
    "    This function prints and plots the confusion matrix.\n",
    "    Normalization can be applied by setting `normalize=True`.\n",
    "    \"\"\"\n",
    "    if normalize:\n",
    "        cm = cm.astype('float') / cm.sum(axis=1)[:, np.newaxis]\n",
    "\n",
    "    plt.imshow(cm, interpolation='nearest', cmap=cmap)\n",
    "    plt.title(title)\n",
    "    plt.colorbar()\n",
    "    tick_marks = np.arange(len(classes))\n",
    "    plt.xticks(tick_marks, classes, rotation=45)\n",
    "    plt.yticks(tick_marks, classes)\n",
    "\n",
    "    fmt = '.2f' if normalize else 'd'\n",
    "    thresh = cm.max() / 2.\n",
    "    \n",
    "    for i, j in itertools.product(range(cm.shape[0]), range(cm.shape[1])):\n",
    "        plt.text(j, i, format(cm[i, j], fmt),\n",
    "                 horizontalalignment=\"center\",\n",
    "                 color=\"white\" if cm[i, j] > thresh else \"black\")\n",
    "\n",
    "    plt.tight_layout()\n",
    "    plt.ylabel('True label',fontsize=15)\n",
    "    plt.xlabel('Predicted label',fontsize=15)"
   ]
  },
  {
   "cell_type": "code",
   "execution_count": 25,
   "id": "74ed8b3c",
   "metadata": {},
   "outputs": [
    {
     "data": {
      "image/png": "[encoded data removed]",
      "text/plain": [
       "<Figure size 600x400 with 2 Axes>"
      ]
     },
     "metadata": {},
     "output_type": "display_data"
    }
   ],
   "source": [
    "# print the confusion matrix\n",
    "\n",
    "cnf_matrix = confusion_matrix(y_test, y_preds)\n",
    "plt.figure(figsize=(6,4))\n",
    "plot_confusion_matrix(cnf_matrix, classes=['Not Relevant','Relevant'], normalize=True,\n",
    "                      title='Confusion matrix')"
   ]
  },
  {
   "cell_type": "markdown",
   "id": "d57aebef",
   "metadata": {},
   "source": [
    "Let's try **Logistic Regression** now"
   ]
  },
  {
   "cell_type": "code",
   "execution_count": 26,
   "id": "e9ee63a2",
   "metadata": {},
   "outputs": [
    {
     "name": "stdout",
     "output_type": "stream",
     "text": [
      "Model Accuracy: 0.737\n",
      "ROC_AUC score: 0.7489\n",
      "Confusion Matrix\n",
      " [[1076  237]\n",
      " [ 183  101]]\n"
     ]
    },
    {
     "data": {
      "image/png": "[encoded data removed]",
      "text/plain": [
       "<Figure size 600x400 with 2 Axes>"
      ]
     },
     "metadata": {},
     "output_type": "display_data"
    }
   ],
   "source": [
    "lr = LogisticRegression(class_weight='balanced')  # For imbalanced dataset\n",
    "lr.fit(X_train_bow, y_train)\n",
    "\n",
    "y_preds = lr.predict(X_test_bow)\n",
    "print(\"Model Accuracy:\", round(accuracy_score(y_test, y_preds),4))\n",
    "y_pred_prob = nb.predict_proba(X_test_bow)[:, 1]\n",
    "print(\"ROC_AUC score:\", round(roc_auc_score(y_test, y_pred_prob),4))\n",
    "print(\"Confusion Matrix\\n\", confusion_matrix(y_test, y_preds))\n",
    "\n",
    "cnf_matrix = confusion_matrix(y_test, y_preds)\n",
    "plt.figure(figsize=(6,4))\n",
    "plot_confusion_matrix(cnf_matrix, classes=['Not Relevant','Relevant'], normalize=True,\n",
    "                      title='Confusion matrix')"
   ]
  },
  {
   "cell_type": "markdown",
   "id": "a19f787b",
   "metadata": {},
   "source": [
    "Let's try balancing the training dataset using **SMOTE technique** and then apply Logistic Regression"
   ]
  },
  {
   "cell_type": "code",
   "execution_count": 27,
   "id": "8657b4f6",
   "metadata": {},
   "outputs": [],
   "source": [
    "from imblearn.over_sampling import SMOTE\n",
    "\n",
    "smote = SMOTE()\n",
    "X_tr_bal, y_tr_bal = smote.fit_resample(X_train_bow, y_train)"
   ]
  },
  {
   "cell_type": "code",
   "execution_count": 28,
   "id": "778f52a7",
   "metadata": {},
   "outputs": [
    {
     "name": "stdout",
     "output_type": "stream",
     "text": [
      "Model Accuracy: 0.7445\n",
      "ROC_AUC score: 0.7489\n",
      "Confusion Matrix\n",
      " [[1105  208]\n",
      " [ 200   84]]\n"
     ]
    },
    {
     "data": {
      "image/png": "[encoded data removed]",
      "text/plain": [
       "<Figure size 600x400 with 2 Axes>"
      ]
     },
     "metadata": {},
     "output_type": "display_data"
    }
   ],
   "source": [
    "lr = LogisticRegression()\n",
    "lr.fit(X_tr_bal, y_tr_bal)\n",
    "\n",
    "y_preds = lr.predict(X_test_bow)\n",
    "print(\"Model Accuracy:\", round(accuracy_score(y_test, y_preds),4))\n",
    "y_pred_prob = nb.predict_proba(X_test_bow)[:, 1]\n",
    "print(\"ROC_AUC score:\", round(roc_auc_score(y_test, y_pred_prob),4))\n",
    "print(\"Confusion Matrix\\n\", confusion_matrix(y_test, y_preds))\n",
    "\n",
    "cnf_matrix = confusion_matrix(y_test, y_preds)\n",
    "plt.figure(figsize=(6,4))\n",
    "plot_confusion_matrix(cnf_matrix, classes=['Not Relevant','Relevant'], normalize=True,\n",
    "                      title='Confusion matrix')"
   ]
  },
  {
   "cell_type": "markdown",
   "id": "ce78603b",
   "metadata": {},
   "source": [
    "Performance hasn't improved with SMOTE technique"
   ]
  },
  {
   "cell_type": "markdown",
   "id": "1fde2a2b",
   "metadata": {},
   "source": [
    "Let's try balancing the training dataset using SMOTE technique and then apply Multinomila Naive Bayes"
   ]
  },
  {
   "cell_type": "code",
   "execution_count": 29,
   "id": "8001f099",
   "metadata": {},
   "outputs": [
    {
     "name": "stdout",
     "output_type": "stream",
     "text": [
      "Model Accuracy: 0.7157\n",
      "ROC_AUC score: 0.7387\n"
     ]
    },
    {
     "data": {
      "image/png": "[encoded data removed]",
      "text/plain": [
       "<Figure size 600x400 with 2 Axes>"
      ]
     },
     "metadata": {},
     "output_type": "display_data"
    }
   ],
   "source": [
    "cv = CountVectorizer(max_features=10000)\n",
    "X_train_bow = cv.fit_transform(X_train).toarray()\n",
    "X_test_bow = cv.transform(X_test).toarray()\n",
    "\n",
    "smote = SMOTE()\n",
    "X_tr_bal, y_tr_bal = smote.fit_resample(X_train_bow, y_train)\n",
    "\n",
    "nb = MultinomialNB()\n",
    "nb.fit(X_tr_bal, y_tr_bal)\n",
    "\n",
    "y_preds = nb.predict(X_test_bow)\n",
    "print(\"Model Accuracy:\", round(accuracy_score(y_test, y_preds),4))\n",
    "y_pred_prob = nb.predict_proba(X_test_bow)[:, 1]\n",
    "print(\"ROC_AUC score:\", round(roc_auc_score(y_test, y_pred_prob),4))\n",
    "confusion_matrix(y_test, y_preds)\n",
    "\n",
    "cnf_matrix = confusion_matrix(y_test, y_preds)\n",
    "plt.figure(figsize=(6,4))\n",
    "plot_confusion_matrix(cnf_matrix, classes=['Not Relevant','Relevant'], normalize=True,\n",
    "                      title='Confusion matrix')"
   ]
  },
  {
   "cell_type": "markdown",
   "id": "4bcdff28",
   "metadata": {},
   "source": [
    "Let's try **TF-IDF** now"
   ]
  },
  {
   "cell_type": "code",
   "execution_count": 30,
   "id": "cb559142",
   "metadata": {},
   "outputs": [],
   "source": [
    "from sklearn.feature_extraction.text import TfidfVectorizer\n",
    "\n",
    "tfifd = TfidfVectorizer()\n",
    "X_train_tfidf = tfifd.fit_transform(X_train).toarray()\n",
    "X_test_tfidf = tfifd.transform(X_test).toarray()"
   ]
  },
  {
   "cell_type": "code",
   "execution_count": 31,
   "id": "96ab9ad3",
   "metadata": {},
   "outputs": [
    {
     "name": "stdout",
     "output_type": "stream",
     "text": [
      "Model Accuracy: 0.8222\n",
      "ROC_AUC score: 0.6099\n",
      "[[1313    0]\n",
      " [ 284    0]]\n"
     ]
    },
    {
     "data": {
      "image/png": "[encoded data removed]",
      "text/plain": [
       "<Figure size 600x400 with 2 Axes>"
      ]
     },
     "metadata": {},
     "output_type": "display_data"
    }
   ],
   "source": [
    "nb = MultinomialNB()\n",
    "nb.fit(X_train_tfidf, y_train)\n",
    "\n",
    "y_preds = nb.predict(X_test_tfidf)\n",
    "print(\"Model Accuracy:\", round(accuracy_score(y_test, y_preds),4))\n",
    "y_pred_prob = nb.predict_proba(X_test_tfidf)[:, 1]\n",
    "print(\"ROC_AUC score:\", round(roc_auc_score(y_test, y_pred_prob),4))\n",
    "print(confusion_matrix(y_test, y_preds))\n",
    "\n",
    "cnf_matrix = confusion_matrix(y_test, y_preds)\n",
    "plt.figure(figsize=(6,4))\n",
    "plot_confusion_matrix(cnf_matrix, classes=['Not Relevant','Relevant'], normalize=True,\n",
    "                      title='Confusion matrix')"
   ]
  },
  {
   "cell_type": "markdown",
   "id": "3bdf7e5b",
   "metadata": {},
   "source": [
    "This was just a try-out. Clearly, TF-IDF is performing poorly since it's unable to identify the Positive class(Minority class) at all."
   ]
  },
  {
   "cell_type": "markdown",
   "id": "1fdda26c",
   "metadata": {},
   "source": [
    "Let's try **Word2Vec** now"
   ]
  },
  {
   "cell_type": "markdown",
   "id": "5f1067e2",
   "metadata": {},
   "source": [
    "We will first use a pre-trained Word2Vec embeddings"
   ]
  },
  {
   "cell_type": "code",
   "execution_count": 32,
   "id": "362819ae",
   "metadata": {},
   "outputs": [
    {
     "name": "stdout",
     "output_type": "stream",
     "text": [
      "['fasttext-wiki-news-subwords-300', 'conceptnet-numberbatch-17-06-300', 'word2vec-ruscorpora-300', 'word2vec-google-news-300', 'glove-wiki-gigaword-50', 'glove-wiki-gigaword-100', 'glove-wiki-gigaword-200', 'glove-wiki-gigaword-300', 'glove-twitter-25', 'glove-twitter-50', 'glove-twitter-100', 'glove-twitter-200', '__testing_word2vec-matrix-synopsis']\n"
     ]
    }
   ],
   "source": [
    "import gensim.downloader as api\n",
    "print(list(gensim.downloader.info()['models'].keys()))"
   ]
  },
  {
   "cell_type": "markdown",
   "id": "fae8c25b",
   "metadata": {},
   "source": [
    "We will use 'word2vec-google-news-300'"
   ]
  },
  {
   "cell_type": "code",
   "execution_count": 33,
   "id": "8f45febf",
   "metadata": {},
   "outputs": [],
   "source": [
    "#w2v = api.load('word2vec-google-news-300')\n",
    "#type(w2v)"
   ]
  },
  {
   "cell_type": "code",
   "execution_count": 34,
   "id": "f3e6f613",
   "metadata": {},
   "outputs": [],
   "source": [
    "#w2v.save('vectors.kv')"
   ]
  },
  {
   "cell_type": "code",
   "execution_count": 35,
   "id": "e7a0a05d",
   "metadata": {},
   "outputs": [],
   "source": [
    "#w2v['apple'][:10]"
   ]
  },
  {
   "cell_type": "code",
   "execution_count": 36,
   "id": "ee88aa19",
   "metadata": {},
   "outputs": [],
   "source": [
    "from gensim.models import KeyedVectors\n",
    "wv = KeyedVectors.load('vectors.kv')"
   ]
  },
  {
   "cell_type": "code",
   "execution_count": 37,
   "id": "57d50e66",
   "metadata": {},
   "outputs": [],
   "source": [
    "def sent_vectorizer(sentence):\n",
    "        \n",
    "    vector_size = wv.vector_size\n",
    "    sent_vec = np.zeros(vector_size)\n",
    "    \n",
    "    # Sentence vector will be mean of all the vectors of the words in the sentence \n",
    "    \n",
    "    num_words = 1\n",
    "    for w in sentence.split():\n",
    "        if w in wv:\n",
    "            num_words += 1\n",
    "            sent_vec += wv[w]\n",
    "    sent_vec = sent_vec/num_words\n",
    "    \n",
    "    return sent_vec"
   ]
  },
  {
   "cell_type": "code",
   "execution_count": 38,
   "id": "349522e0",
   "metadata": {},
   "outputs": [],
   "source": [
    "data['vectors'] = data['text'].apply(sent_vectorizer)"
   ]
  },
  {
   "cell_type": "code",
   "execution_count": 39,
   "id": "ea0bd5e6",
   "metadata": {},
   "outputs": [
    {
     "data": {
      "text/html": [
       "<div>\n",
       "<style scoped>\n",
       "    .dataframe tbody tr th:only-of-type {\n",
       "        vertical-align: middle;\n",
       "    }\n",
       "\n",
       "    .dataframe tbody tr th {\n",
       "        vertical-align: top;\n",
       "    }\n",
       "\n",
       "    .dataframe thead th {\n",
       "        text-align: right;\n",
       "    }\n",
       "</style>\n",
       "<table border=\"1\" class=\"dataframe\">\n",
       "  <thead>\n",
       "    <tr style=\"text-align: right;\">\n",
       "      <th></th>\n",
       "      <th>text</th>\n",
       "      <th>relevance</th>\n",
       "      <th>vectors</th>\n",
       "    </tr>\n",
       "  </thead>\n",
       "  <tbody>\n",
       "    <tr>\n",
       "      <th>0</th>\n",
       "      <td>new york yield certificate deposit offer major...</td>\n",
       "      <td>1</td>\n",
       "      <td>[-0.008020354480278201, 0.015729764612709602, ...</td>\n",
       "    </tr>\n",
       "    <tr>\n",
       "      <th>1</th>\n",
       "      <td>wall street journal online morning brief look ...</td>\n",
       "      <td>0</td>\n",
       "      <td>[-0.019708722551292347, -0.0005754845164646612...</td>\n",
       "    </tr>\n",
       "    <tr>\n",
       "      <th>2</th>\n",
       "      <td>washington effort achieve banking reform senat...</td>\n",
       "      <td>0</td>\n",
       "      <td>[-0.002248582197353244, 0.06608474254608154, -...</td>\n",
       "    </tr>\n",
       "    <tr>\n",
       "      <th>3</th>\n",
       "      <td>statistic enormous cost employee drug abuse kn...</td>\n",
       "      <td>0</td>\n",
       "      <td>[-0.04224824668163091, 0.015311397723297574, 0...</td>\n",
       "    </tr>\n",
       "    <tr>\n",
       "      <th>4</th>\n",
       "      <td>new york indecision mark dollar tone trader pa...</td>\n",
       "      <td>1</td>\n",
       "      <td>[-0.025871432345846424, -0.008529828942340353,...</td>\n",
       "    </tr>\n",
       "  </tbody>\n",
       "</table>\n",
       "</div>"
      ],
      "text/plain": [
       "                                                text  relevance  \\\n",
       "0  new york yield certificate deposit offer major...          1   \n",
       "1  wall street journal online morning brief look ...          0   \n",
       "2  washington effort achieve banking reform senat...          0   \n",
       "3  statistic enormous cost employee drug abuse kn...          0   \n",
       "4  new york indecision mark dollar tone trader pa...          1   \n",
       "\n",
       "                                             vectors  \n",
       "0  [-0.008020354480278201, 0.015729764612709602, ...  \n",
       "1  [-0.019708722551292347, -0.0005754845164646612...  \n",
       "2  [-0.002248582197353244, 0.06608474254608154, -...  \n",
       "3  [-0.04224824668163091, 0.015311397723297574, 0...  \n",
       "4  [-0.025871432345846424, -0.008529828942340353,...  "
      ]
     },
     "execution_count": 39,
     "metadata": {},
     "output_type": "execute_result"
    }
   ],
   "source": [
    "data.head()"
   ]
  },
  {
   "cell_type": "code",
   "execution_count": 40,
   "id": "0c3fdfeb",
   "metadata": {},
   "outputs": [],
   "source": [
    "X = data['vectors'].to_list()\n",
    "y = data['relevance'].to_list()\n",
    "\n",
    "X_train, X_test, y_train, y_test = train_test_split(X, y, test_size=0.2, stratify=y, random_state=40)"
   ]
  },
  {
   "cell_type": "code",
   "execution_count": 41,
   "id": "05653251",
   "metadata": {},
   "outputs": [
    {
     "name": "stdout",
     "output_type": "stream",
     "text": [
      "Model Accuracy: 0.6581\n",
      "ROC_AUC score: 0.7363\n"
     ]
    },
    {
     "data": {
      "image/png": "[encoded data removed]",
      "text/plain": [
       "<Figure size 600x400 with 2 Axes>"
      ]
     },
     "metadata": {},
     "output_type": "display_data"
    }
   ],
   "source": [
    "clf = GaussianNB()\n",
    "clf.fit(X_train, y_train)\n",
    "gaussian_nb = clf\n",
    "y_preds = clf.predict(X_test)\n",
    "print(\"Model Accuracy:\", round(accuracy_score(y_test, y_preds),4))\n",
    "y_pred_prob = clf.predict_proba(X_test)[:, 1]\n",
    "print(\"ROC_AUC score:\", round(roc_auc_score(y_test, y_pred_prob),4))\n",
    "confusion_matrix(y_test, y_preds)\n",
    "\n",
    "cnf_matrix = confusion_matrix(y_test, y_preds)\n",
    "plt.figure(figsize=(6,4))\n",
    "plot_confusion_matrix(cnf_matrix, classes=['Not Relevant','Relevant'], normalize=True,\n",
    "                      title='Confusion matrix')"
   ]
  },
  {
   "cell_type": "code",
   "execution_count": 42,
   "id": "235ce2b2",
   "metadata": {},
   "outputs": [
    {
     "name": "stdout",
     "output_type": "stream",
     "text": [
      "Model Accuracy: 0.6894\n",
      "ROC_AUC score: 0.7581\n"
     ]
    },
    {
     "data": {
      "image/png": "[encoded data removed]",
      "text/plain": [
       "<Figure size 600x400 with 2 Axes>"
      ]
     },
     "metadata": {},
     "output_type": "display_data"
    }
   ],
   "source": [
    "clf = LogisticRegression(class_weight='balanced')\n",
    "clf.fit(X_train, y_train)\n",
    "log_reg = clf\n",
    "\n",
    "y_preds = clf.predict(X_test)\n",
    "print(\"Model Accuracy:\", round(accuracy_score(y_test, y_preds),4))\n",
    "y_pred_prob = clf.predict_proba(X_test)[:, 1]\n",
    "print(\"ROC_AUC score:\", round(roc_auc_score(y_test, y_pred_prob),4))\n",
    "confusion_matrix(y_test, y_preds)\n",
    "\n",
    "cnf_matrix = confusion_matrix(y_test, y_preds)\n",
    "plt.figure(figsize=(6,4))\n",
    "plot_confusion_matrix(cnf_matrix, classes=['Not Relevant','Relevant'], normalize=True,\n",
    "                      title='Confusion matrix')"
   ]
  },
  {
   "cell_type": "markdown",
   "id": "85752c70",
   "metadata": {},
   "source": [
    "Applying the classifier on some random sentences to check"
   ]
  },
  {
   "cell_type": "code",
   "execution_count": 43,
   "id": "c430edc2",
   "metadata": {},
   "outputs": [],
   "source": [
    "# Let's see how it predicts on some given sentences\n",
    "\n",
    "def make_ready_for_model(text):\n",
    "    \n",
    "    text = preprocess(text)\n",
    "    return sent_vectorizer(text)"
   ]
  },
  {
   "cell_type": "code",
   "execution_count": 44,
   "id": "962ee7ac",
   "metadata": {},
   "outputs": [
    {
     "name": "stdout",
     "output_type": "stream",
     "text": [
      "News: Is the FED going to hike interest rates now?\n",
      "Gaussian Naive Bayes Prediction: Not Relevant\n",
      "Logistic Regression Prediction: Relevant\n",
      "\n",
      "\n",
      "News: This is an amazing pizza from my favourite restaurant!\n",
      "Gaussian Naive Bayes Prediction: Not Relevant\n",
      "Logistic Regression Prediction: Not Relevant\n",
      "\n",
      "\n",
      "News: A stock market crash is coming in the NYSE\n",
      "Gaussian Naive Bayes Prediction: Not Relevant\n",
      "Logistic Regression Prediction: Not Relevant\n",
      "\n",
      "\n",
      "News: I am just fooling around.\n",
      "Gaussian Naive Bayes Prediction: Not Relevant\n",
      "Logistic Regression Prediction: Not Relevant\n",
      "\n",
      "\n",
      "News: US economy is going to do well in the next quarter.\n",
      "Gaussian Naive Bayes Prediction: Not Relevant\n",
      "Logistic Regression Prediction: Relevant\n",
      "\n",
      "\n",
      "News: Who let the dogs out!!\n",
      "Gaussian Naive Bayes Prediction: Not Relevant\n",
      "Logistic Regression Prediction: Not Relevant\n",
      "\n",
      "\n"
     ]
    }
   ],
   "source": [
    "examples = [\"Is the FED going to hike interest rates now?\",\n",
    "         \"This is an amazing pizza from my favourite restaurant!\",\n",
    "         \"A stock market crash is coming in the NYSE\",\n",
    "         \"I am just fooling around.\",\n",
    "         \"US economy is going to do well in the next quarter.\",\n",
    "         \"Who let the dogs out!!\"\n",
    "        ]   \n",
    "\n",
    "for text in examples:\n",
    "    \n",
    "    print(\"News:\", text)\n",
    "    text_vec = make_ready_for_model(text)\n",
    "    \n",
    "    for clf, mod in [(gaussian_nb,\"Gaussian Naive Bayes\"), (log_reg,\"Logistic Regression\")]:        \n",
    "        print(mod,'Prediction: Relevant') if int(clf.predict([text_vec])) else print(mod,'Prediction: Not Relevant')\n",
    "    print(\"\\n\")"
   ]
  },
  {
   "cell_type": "markdown",
   "id": "65bd2a41",
   "metadata": {},
   "source": [
    "Naive Bayes is not performing well with the Minority Class but Logistic Regression is able to classify all correctly!"
   ]
  },
  {
   "cell_type": "markdown",
   "id": "e90c10bd",
   "metadata": {},
   "source": [
    "Now we will train **our own Word2Vec embeddings**"
   ]
  },
  {
   "cell_type": "code",
   "execution_count": 45,
   "id": "42700bd1",
   "metadata": {},
   "outputs": [],
   "source": [
    "from nltk import sent_tokenize\n",
    "from gensim.utils import simple_preprocess"
   ]
  },
  {
   "cell_type": "code",
   "execution_count": 46,
   "id": "3b63167d",
   "metadata": {},
   "outputs": [],
   "source": [
    "texts = []\n",
    "for doc in data['text']:\n",
    "    \n",
    "    raw_sent = sent_tokenize(doc)\n",
    "    for sent in raw_sent:\n",
    "        texts.append(simple_preprocess(sent))    "
   ]
  },
  {
   "cell_type": "code",
   "execution_count": 47,
   "id": "c7810ef2",
   "metadata": {},
   "outputs": [
    {
     "data": {
      "text/plain": [
       "(4386943, 4731025)"
      ]
     },
     "execution_count": 47,
     "metadata": {},
     "output_type": "execute_result"
    }
   ],
   "source": [
    "model = Word2Vec(window=10, min_count=2)\n",
    "model.build_vocab(texts)\n",
    "model.train(texts, total_examples=model.corpus_count, epochs=model.epochs)"
   ]
  },
  {
   "cell_type": "code",
   "execution_count": 48,
   "id": "5bf31002",
   "metadata": {},
   "outputs": [
    {
     "data": {
      "text/plain": [
       "20872"
      ]
     },
     "execution_count": 48,
     "metadata": {},
     "output_type": "execute_result"
    }
   ],
   "source": [
    "len(model.wv.index_to_key) # No. of words in the vocabulary"
   ]
  },
  {
   "cell_type": "code",
   "execution_count": 49,
   "id": "640d1a72",
   "metadata": {},
   "outputs": [],
   "source": [
    "def document_vector(doc):\n",
    "    \n",
    "    doc = [word for word in doc.split() if word in model.wv.index_to_key]\n",
    "    return np.mean(model.wv[doc], axis=0)"
   ]
  },
  {
   "cell_type": "code",
   "execution_count": 50,
   "id": "01049210",
   "metadata": {},
   "outputs": [
    {
     "name": "stderr",
     "output_type": "stream",
     "text": [
      "100%|██████████████████████████████████████████████████████████████████████████████| 7985/7985 [01:38<00:00, 80.96it/s]\n"
     ]
    }
   ],
   "source": [
    "X = []\n",
    "for doc in tqdm(data['text'].values):\n",
    "    X.append(document_vector(doc))"
   ]
  },
  {
   "cell_type": "code",
   "execution_count": 51,
   "id": "509d79d4",
   "metadata": {},
   "outputs": [],
   "source": [
    "X = np.array(X)\n",
    "y = data['relevance'].values"
   ]
  },
  {
   "cell_type": "code",
   "execution_count": 52,
   "id": "b58ad5cd",
   "metadata": {},
   "outputs": [
    {
     "name": "stdout",
     "output_type": "stream",
     "text": [
      "(6388, 100) (1597, 100)\n"
     ]
    }
   ],
   "source": [
    "X_train, X_test, y_train, y_test = train_test_split(X, y, test_size=0.2, stratify=y, random_state=40)\n",
    "print(X_train.shape, X_test.shape)"
   ]
  },
  {
   "cell_type": "code",
   "execution_count": 53,
   "id": "d20e2e57",
   "metadata": {},
   "outputs": [
    {
     "name": "stdout",
     "output_type": "stream",
     "text": [
      "Model Accuracy: 0.675\n",
      "ROC_AUC score: 0.7288\n"
     ]
    },
    {
     "data": {
      "image/png": "[encoded data removed]",
      "text/plain": [
       "<Figure size 600x400 with 2 Axes>"
      ]
     },
     "metadata": {},
     "output_type": "display_data"
    }
   ],
   "source": [
    "# Let's try Gaussian Naive Bayes first\n",
    "\n",
    "clf = GaussianNB()\n",
    "clf.fit(X_train, y_train)\n",
    "gaussian_nb = clf\n",
    "\n",
    "y_preds = clf.predict(X_test)\n",
    "print(\"Model Accuracy:\", round(accuracy_score(y_test, y_preds),4))\n",
    "y_pred_prob = clf.predict_proba(X_test)[:, 1]\n",
    "print(\"ROC_AUC score:\", round(roc_auc_score(y_test, y_pred_prob),4))\n",
    "confusion_matrix(y_test, y_preds)\n",
    "\n",
    "cnf_matrix = confusion_matrix(y_test, y_preds)\n",
    "plt.figure(figsize=(6,4))\n",
    "plot_confusion_matrix(cnf_matrix, classes=['Not Relevant','Relevant'], normalize=True,\n",
    "                      title='Confusion matrix')"
   ]
  },
  {
   "cell_type": "code",
   "execution_count": 54,
   "id": "8f27ca17",
   "metadata": {},
   "outputs": [
    {
     "name": "stdout",
     "output_type": "stream",
     "text": [
      "Model Accuracy: 0.6913\n",
      "ROC_AUC score: 0.7493\n"
     ]
    },
    {
     "data": {
      "image/png": "[encoded data removed]",
      "text/plain": [
       "<Figure size 600x400 with 2 Axes>"
      ]
     },
     "metadata": {},
     "output_type": "display_data"
    }
   ],
   "source": [
    "# Let's try Logistic Regression now\n",
    "\n",
    "clf = LogisticRegression(class_weight='balanced')\n",
    "clf.fit(X_train, y_train)\n",
    "log_reg = clf\n",
    "\n",
    "y_preds = clf.predict(X_test)\n",
    "print(\"Model Accuracy:\", round(accuracy_score(y_test, y_preds),4))\n",
    "y_pred_prob = clf.predict_proba(X_test)[:, 1]\n",
    "print(\"ROC_AUC score:\", round(roc_auc_score(y_test, y_pred_prob),4))\n",
    "confusion_matrix(y_test, y_preds)\n",
    "\n",
    "cnf_matrix = confusion_matrix(y_test, y_preds)\n",
    "plt.figure(figsize=(6,4))\n",
    "plot_confusion_matrix(cnf_matrix, classes=['Not Relevant','Relevant'], normalize=True,\n",
    "                      title='Confusion matrix')"
   ]
  },
  {
   "cell_type": "code",
   "execution_count": 55,
   "id": "7ec87838",
   "metadata": {},
   "outputs": [
    {
     "name": "stdout",
     "output_type": "stream",
     "text": [
      "News: Is the FED going to hike interest rates now?\n",
      "Gaussian Naive Bayes Prediction: Relevant\n",
      "Logistic Regression Prediction: Not Relevant\n",
      "\n",
      "\n",
      "News: This is an amazing pizza from my favourite restaurant!\n",
      "Gaussian Naive Bayes Prediction: Not Relevant\n",
      "Logistic Regression Prediction: Not Relevant\n",
      "\n",
      "\n",
      "News: A stock market crash is coming in the NYSE\n",
      "Gaussian Naive Bayes Prediction: Relevant\n",
      "Logistic Regression Prediction: Relevant\n",
      "\n",
      "\n",
      "News: I am just fooling around.\n",
      "Gaussian Naive Bayes Prediction: Not Relevant\n",
      "Logistic Regression Prediction: Not Relevant\n",
      "\n",
      "\n",
      "News: US economy is going to do well in the next quarter.\n",
      "Gaussian Naive Bayes Prediction: Relevant\n",
      "Logistic Regression Prediction: Relevant\n",
      "\n",
      "\n",
      "News: Who let the dogs out!!\n",
      "Gaussian Naive Bayes Prediction: Not Relevant\n",
      "Logistic Regression Prediction: Not Relevant\n",
      "\n",
      "\n"
     ]
    }
   ],
   "source": [
    "# Let's try out predictions over the new model\n",
    "\n",
    "def make_ready_for_model2(text):\n",
    "    \n",
    "    text = preprocess(text)\n",
    "    return document_vector(text)\n",
    "\n",
    "examples = [\"Is the FED going to hike interest rates now?\",\n",
    "         \"This is an amazing pizza from my favourite restaurant!\",\n",
    "         \"A stock market crash is coming in the NYSE\",\n",
    "         \"I am just fooling around.\",\n",
    "         \"US economy is going to do well in the next quarter.\",\n",
    "         \"Who let the dogs out!!\"\n",
    "        ]   \n",
    "\n",
    "for text in examples:\n",
    "    \n",
    "    print(\"News:\", text)\n",
    "    text_vec = make_ready_for_model2(text)\n",
    "    \n",
    "    for clf, mod in [(gaussian_nb,\"Gaussian Naive Bayes\"), (log_reg,\"Logistic Regression\")]:        \n",
    "        print(mod,'Prediction: Relevant') if int(clf.predict([text_vec])) else print(mod,'Prediction: Not Relevant')\n",
    "    print(\"\\n\")"
   ]
  },
  {
   "cell_type": "markdown",
   "id": "cc1834c7",
   "metadata": {},
   "source": [
    "**Out of all the models that we have trained, clearly, Logistic Regression model trained with the pre-trained Word2Vec embeddings has the best Test dataset AUC score of 0.7581**"
   ]
  },
  {
   "cell_type": "code",
   "execution_count": null,
   "id": "774e0deb",
   "metadata": {},
   "outputs": [],
   "source": []
  }
 ],
 "metadata": {
  "kernelspec": {
   "display_name": "Python 3 (ipykernel)",
   "language": "python",
   "name": "python3"
  },
  "language_info": {
   "codemirror_mode": {
    "name": "ipython",
    "version": 3
   },
   "file_extension": ".py",
   "mimetype": "text/x-python",
   "name": "python",
   "nbconvert_exporter": "python",
   "pygments_lexer": "ipython3",
   "version": "3.9.12"
  }
 },
 "nbformat": 4,
 "nbformat_minor": 5
}
