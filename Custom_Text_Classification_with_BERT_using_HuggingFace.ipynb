{
  "nbformat": 4,
  "nbformat_minor": 0,
  "metadata": {
    "colab": {
      "provenance": []
    },
    "kernelspec": {
      "name": "python3",
      "display_name": "Python 3"
    },
    "language_info": {
      "name": "python"
    },
    "accelerator": "GPU",
    "gpuClass": "standard"
  },
  "cells": [
    {
      "cell_type": "markdown",
      "source": [
        "In this notebook we will fine tune BERT Transformer model from Hugging Face on the custom dataset for detecting comments as Toxic or non-Toxic."
      ],
      "metadata": {
        "id": "oOvRtsWlsIxS"
      }
    },
    {
      "cell_type": "code",
      "execution_count": 65,
      "metadata": {
        "id": "RuRaP-P8sHHT"
      },
      "outputs": [],
      "source": [
        "%%capture\n",
        "!pip install transformers"
      ]
    },
    {
      "cell_type": "code",
      "source": [
        "import pandas as pd\n",
        "import torch\n",
        "import numpy as np\n",
        "import re\n",
        "import string\n",
        "from transformers import BertTokenizer, BertModel\n",
        "from torch import nn\n",
        "from torch.optim import Adam\n",
        "from tqdm import tqdm\n",
        "from sklearn.model_selection import train_test_split"
      ],
      "metadata": {
        "id": "9b8USgj3sJ5d"
      },
      "execution_count": 66,
      "outputs": []
    },
    {
      "cell_type": "code",
      "source": [
        "from google.colab import drive\n",
        "drive.mount('/content/drive')"
      ],
      "metadata": {
        "colab": {
          "base_uri": "https://localhost:8080/"
        },
        "id": "NyQ0j0BDsXJo",
        "outputId": "b2adb5f7-d977-4f3d-a83b-4c272e850787"
      },
      "execution_count": 67,
      "outputs": [
        {
          "output_type": "stream",
          "name": "stdout",
          "text": [
            "Drive already mounted at /content/drive; to attempt to forcibly remount, call drive.mount(\"/content/drive\", force_remount=True).\n"
          ]
        }
      ]
    },
    {
      "cell_type": "code",
      "source": [
        "data = pd.read_csv(\"/content/drive/MyDrive/toxic_comments_train.csv\")\n",
        "data.head()"
      ],
      "metadata": {
        "colab": {
          "base_uri": "https://localhost:8080/",
          "height": 206
        },
        "id": "ponocUrPsZON",
        "outputId": "b21e3e81-755c-4b69-e08d-a67624ff7cf3"
      },
      "execution_count": 68,
      "outputs": [
        {
          "output_type": "execute_result",
          "data": {
            "text/plain": [
              "                 id                                       comment_text  toxic  \\\n",
              "0  0000997932d777bf  Explanation\\nWhy the edits made under my usern...      0   \n",
              "1  000103f0d9cfb60f  D'aww! He matches this background colour I'm s...      0   \n",
              "2  000113f07ec002fd  Hey man, I'm really not trying to edit war. It...      0   \n",
              "3  0001b41b1c6bb37e  \"\\nMore\\nI can't make any real suggestions on ...      0   \n",
              "4  0001d958c54c6e35  You, sir, are my hero. Any chance you remember...      0   \n",
              "\n",
              "   severe_toxic  obscene  threat  insult  identity_hate  \n",
              "0             0        0       0       0              0  \n",
              "1             0        0       0       0              0  \n",
              "2             0        0       0       0              0  \n",
              "3             0        0       0       0              0  \n",
              "4             0        0       0       0              0  "
            ],
            "text/html": [
              "\n",
              "  <div id=\"df-cdc1f8b1-476d-4935-944a-c580b2e38547\">\n",
              "    <div class=\"colab-df-container\">\n",
              "      <div>\n",
              "<style scoped>\n",
              "    .dataframe tbody tr th:only-of-type {\n",
              "        vertical-align: middle;\n",
              "    }\n",
              "\n",
              "    .dataframe tbody tr th {\n",
              "        vertical-align: top;\n",
              "    }\n",
              "\n",
              "    .dataframe thead th {\n",
              "        text-align: right;\n",
              "    }\n",
              "</style>\n",
              "<table border=\"1\" class=\"dataframe\">\n",
              "  <thead>\n",
              "    <tr style=\"text-align: right;\">\n",
              "      <th></th>\n",
              "      <th>id</th>\n",
              "      <th>comment_text</th>\n",
              "      <th>toxic</th>\n",
              "      <th>severe_toxic</th>\n",
              "      <th>obscene</th>\n",
              "      <th>threat</th>\n",
              "      <th>insult</th>\n",
              "      <th>identity_hate</th>\n",
              "    </tr>\n",
              "  </thead>\n",
              "  <tbody>\n",
              "    <tr>\n",
              "      <th>0</th>\n",
              "      <td>0000997932d777bf</td>\n",
              "      <td>Explanation\\nWhy the edits made under my usern...</td>\n",
              "      <td>0</td>\n",
              "      <td>0</td>\n",
              "      <td>0</td>\n",
              "      <td>0</td>\n",
              "      <td>0</td>\n",
              "      <td>0</td>\n",
              "    </tr>\n",
              "    <tr>\n",
              "      <th>1</th>\n",
              "      <td>000103f0d9cfb60f</td>\n",
              "      <td>D'aww! He matches this background colour I'm s...</td>\n",
              "      <td>0</td>\n",
              "      <td>0</td>\n",
              "      <td>0</td>\n",
              "      <td>0</td>\n",
              "      <td>0</td>\n",
              "      <td>0</td>\n",
              "    </tr>\n",
              "    <tr>\n",
              "      <th>2</th>\n",
              "      <td>000113f07ec002fd</td>\n",
              "      <td>Hey man, I'm really not trying to edit war. It...</td>\n",
              "      <td>0</td>\n",
              "      <td>0</td>\n",
              "      <td>0</td>\n",
              "      <td>0</td>\n",
              "      <td>0</td>\n",
              "      <td>0</td>\n",
              "    </tr>\n",
              "    <tr>\n",
              "      <th>3</th>\n",
              "      <td>0001b41b1c6bb37e</td>\n",
              "      <td>\"\\nMore\\nI can't make any real suggestions on ...</td>\n",
              "      <td>0</td>\n",
              "      <td>0</td>\n",
              "      <td>0</td>\n",
              "      <td>0</td>\n",
              "      <td>0</td>\n",
              "      <td>0</td>\n",
              "    </tr>\n",
              "    <tr>\n",
              "      <th>4</th>\n",
              "      <td>0001d958c54c6e35</td>\n",
              "      <td>You, sir, are my hero. Any chance you remember...</td>\n",
              "      <td>0</td>\n",
              "      <td>0</td>\n",
              "      <td>0</td>\n",
              "      <td>0</td>\n",
              "      <td>0</td>\n",
              "      <td>0</td>\n",
              "    </tr>\n",
              "  </tbody>\n",
              "</table>\n",
              "</div>\n",
              "      <button class=\"colab-df-convert\" onclick=\"convertToInteractive('df-cdc1f8b1-476d-4935-944a-c580b2e38547')\"\n",
              "              title=\"Convert this dataframe to an interactive table.\"\n",
              "              style=\"display:none;\">\n",
              "        \n",
              "  <svg xmlns=\"http://www.w3.org/2000/svg\" height=\"24px\"viewBox=\"0 0 24 24\"\n",
              "       width=\"24px\">\n",
              "    <path d=\"M0 0h24v24H0V0z\" fill=\"none\"/>\n",
              "    <path d=\"M18.56 5.44l.94 2.06.94-2.06 2.06-.94-2.06-.94-.94-2.06-.94 2.06-2.06.94zm-11 1L8.5 8.5l.94-2.06 2.06-.94-2.06-.94L8.5 2.5l-.94 2.06-2.06.94zm10 10l.94 2.06.94-2.06 2.06-.94-2.06-.94-.94-2.06-.94 2.06-2.06.94z\"/><path d=\"M17.41 7.96l-1.37-1.37c-.4-.4-.92-.59-1.43-.59-.52 0-1.04.2-1.43.59L10.3 9.45l-7.72 7.72c-.78.78-.78 2.05 0 2.83L4 21.41c.39.39.9.59 1.41.59.51 0 1.02-.2 1.41-.59l7.78-7.78 2.81-2.81c.8-.78.8-2.07 0-2.86zM5.41 20L4 18.59l7.72-7.72 1.47 1.35L5.41 20z\"/>\n",
              "  </svg>\n",
              "      </button>\n",
              "      \n",
              "  <style>\n",
              "    .colab-df-container {\n",
              "      display:flex;\n",
              "      flex-wrap:wrap;\n",
              "      gap: 12px;\n",
              "    }\n",
              "\n",
              "    .colab-df-convert {\n",
              "      background-color: #E8F0FE;\n",
              "      border: none;\n",
              "      border-radius: 50%;\n",
              "      cursor: pointer;\n",
              "      display: none;\n",
              "      fill: #1967D2;\n",
              "      height: 32px;\n",
              "      padding: 0 0 0 0;\n",
              "      width: 32px;\n",
              "    }\n",
              "\n",
              "    .colab-df-convert:hover {\n",
              "      background-color: #E2EBFA;\n",
              "      box-shadow: 0px 1px 2px rgba(60, 64, 67, 0.3), 0px 1px 3px 1px rgba(60, 64, 67, 0.15);\n",
              "      fill: #174EA6;\n",
              "    }\n",
              "\n",
              "    [theme=dark] .colab-df-convert {\n",
              "      background-color: #3B4455;\n",
              "      fill: #D2E3FC;\n",
              "    }\n",
              "\n",
              "    [theme=dark] .colab-df-convert:hover {\n",
              "      background-color: #434B5C;\n",
              "      box-shadow: 0px 1px 3px 1px rgba(0, 0, 0, 0.15);\n",
              "      filter: drop-shadow(0px 1px 2px rgba(0, 0, 0, 0.3));\n",
              "      fill: #FFFFFF;\n",
              "    }\n",
              "  </style>\n",
              "\n",
              "      <script>\n",
              "        const buttonEl =\n",
              "          document.querySelector('#df-cdc1f8b1-476d-4935-944a-c580b2e38547 button.colab-df-convert');\n",
              "        buttonEl.style.display =\n",
              "          google.colab.kernel.accessAllowed ? 'block' : 'none';\n",
              "\n",
              "        async function convertToInteractive(key) {\n",
              "          const element = document.querySelector('#df-cdc1f8b1-476d-4935-944a-c580b2e38547');\n",
              "          const dataTable =\n",
              "            await google.colab.kernel.invokeFunction('convertToInteractive',\n",
              "                                                     [key], {});\n",
              "          if (!dataTable) return;\n",
              "\n",
              "          const docLinkHtml = 'Like what you see? Visit the ' +\n",
              "            '<a target=\"_blank\" href=https://colab.research.google.com/notebooks/data_table.ipynb>data table notebook</a>'\n",
              "            + ' to learn more about interactive tables.';\n",
              "          element.innerHTML = '';\n",
              "          dataTable['output_type'] = 'display_data';\n",
              "          await google.colab.output.renderOutput(dataTable, element);\n",
              "          const docLink = document.createElement('div');\n",
              "          docLink.innerHTML = docLinkHtml;\n",
              "          element.appendChild(docLink);\n",
              "        }\n",
              "      </script>\n",
              "    </div>\n",
              "  </div>\n",
              "  "
            ]
          },
          "metadata": {},
          "execution_count": 68
        }
      ]
    },
    {
      "cell_type": "code",
      "source": [
        "len(data)"
      ],
      "metadata": {
        "colab": {
          "base_uri": "https://localhost:8080/"
        },
        "id": "B2wzk9HvsbMd",
        "outputId": "a4095a19-aee5-4043-bc86-47947405f08d"
      },
      "execution_count": 69,
      "outputs": [
        {
          "output_type": "execute_result",
          "data": {
            "text/plain": [
              "159571"
            ]
          },
          "metadata": {},
          "execution_count": 69
        }
      ]
    },
    {
      "cell_type": "markdown",
      "source": [
        "Let's do a basic pre-processing of the comment text"
      ],
      "metadata": {
        "id": "zyOQOE2zudGL"
      }
    },
    {
      "cell_type": "code",
      "source": [
        "def clean_text(text):\n",
        "    '''Remove text in square brackets,remove links,remove punctuation\n",
        "    and remove words containing numbers.'''\n",
        "    \n",
        "    #pattern = [zero or more character]\n",
        "    text = re.sub('\\[.*?\\]', '', text)\n",
        "    \n",
        "    #pattern = with or without(http),://, one or more non-white space character, OR www, .,one or more non-white space character\n",
        "    text = re.sub('https?://\\S+|www\\.\\S+', '', text)\n",
        "    \n",
        "    #pattern = <, zero or more characters, >, (one or more occurance of >)\n",
        "    text = re.sub('<.*?>+', '', text)\n",
        "    \n",
        "    #pattern = any punctionation\n",
        "    text = re.sub('[%s]' % re.escape(string.punctuation), '', text)\n",
        "    \n",
        "    #pattern = any new line\n",
        "    text = re.sub('\\n', ' ', text)\n",
        "    \n",
        "    #pattern = any from[a-zA-Z0-9_], any from[0-9], any from [a-zA-Z0-9_]\n",
        "    text = re.sub('\\w*\\d\\w*', '', text)\n",
        "    \n",
        "    return text\n",
        "\n",
        "data['comment_text'] = data['comment_text'].apply(clean_text)"
      ],
      "metadata": {
        "id": "XT1r34M8ujpd"
      },
      "execution_count": 70,
      "outputs": []
    },
    {
      "cell_type": "code",
      "source": [
        "for text in data['comment_text'][0:5]:\n",
        "  print(text, '\\n')"
      ],
      "metadata": {
        "colab": {
          "base_uri": "https://localhost:8080/"
        },
        "id": "qsoWXIeJvXrw",
        "outputId": "df7503b1-ba56-464b-94c8-ac90fa6cdbef"
      },
      "execution_count": 71,
      "outputs": [
        {
          "output_type": "stream",
          "name": "stdout",
          "text": [
            "Explanation Why the edits made under my username Hardcore Metallica Fan were reverted They werent vandalisms just closure on some GAs after I voted at New York Dolls FAC And please dont remove the template from the talk page since Im retired  \n",
            "\n",
            "Daww He matches this background colour Im seemingly stuck with Thanks  talk  January   UTC \n",
            "\n",
            "Hey man Im really not trying to edit war Its just that this guy is constantly removing relevant information and talking to me through edits instead of my talk page He seems to care more about the formatting than the actual info \n",
            "\n",
            " More I cant make any real suggestions on improvement  I wondered if the section statistics should be later on or a subsection of types of accidents  I think the references may need tidying so that they are all in the exact same format ie date format etc I can do that later on if noone else does first  if you have any preferences for formatting style on references or want to do it yourself please let me know  There appears to be a backlog on articles for review so I guess there may be a delay until a reviewer turns up Its listed in the relevant form eg WikipediaGoodarticlenominationsTransport   \n",
            "\n",
            "You sir are my hero Any chance you remember what page thats on \n",
            "\n"
          ]
        }
      ]
    },
    {
      "cell_type": "code",
      "source": [
        "data['non_toxic'] = data['toxic']+data['severe_toxic']+data['obscene']+data['threat']+data['insult']+data['identity_hate']\n",
        "\n",
        "# We will change the value to 1 (meaning non toxic) if the value is 0 and set it to 0 for all other cases\n",
        "data['non_toxic'] = data['non_toxic'].apply(lambda x: 1 if x==0 else 0)\n",
        "\n",
        "data[['non_toxic','toxic', 'severe_toxic', 'obscene', 'threat', 'insult', 'identity_hate']].sum().plot.bar()"
      ],
      "metadata": {
        "colab": {
          "base_uri": "https://localhost:8080/",
          "height": 338
        },
        "id": "SHo_PfT6HMwl",
        "outputId": "047784b4-52e4-4016-c1c5-6cade6eaf6f0"
      },
      "execution_count": 72,
      "outputs": [
        {
          "output_type": "execute_result",
          "data": {
            "text/plain": [
              "<Axes: >"
            ]
          },
          "metadata": {},
          "execution_count": 72
        },
        {
          "output_type": "display_data",
          "data": {
            "text/plain": [
              "<Figure size 432x288 with 1 Axes>"
            ],
            "image/png": "[encoded data removed]"
          },
          "metadata": {
            "needs_background": "light"
          }
        }
      ]
    },
    {
      "cell_type": "markdown",
      "source": [
        "We can clearly see that the dataset is highly imbalanced. Let's make the training dataset balanced. We will club all categories that are other than Non-Toxic into the Toxic umbrella category."
      ],
      "metadata": {
        "id": "SrS2BZEgGsaK"
      }
    },
    {
      "cell_type": "code",
      "source": [
        "data['toxic'] = np.where(data['non_toxic']==1, 0, 1)\n",
        "\n",
        "# We only need comments and label columns \n",
        "data = data[['comment_text', 'toxic']]   \n",
        "\n",
        "data_toxic = data[data['toxic']==1]\n",
        "data_nontoxic = data[data['toxic']==0]\n",
        "data = pd.concat([data_toxic, data_nontoxic.head(len(data_toxic))], axis=0)\n",
        "print(data['toxic'].value_counts())\n",
        "\n",
        "X = list(data['comment_text'])\n",
        "y = list(data['toxic'])\n",
        "\n",
        "X_train, X_val, y_train, y_val = train_test_split(X, y, test_size=0.25, stratify=y, random_state=40)"
      ],
      "metadata": {
        "colab": {
          "base_uri": "https://localhost:8080/"
        },
        "id": "sowAAIdbGf0r",
        "outputId": "365cceda-347e-47b0-9b0c-85603a758a36"
      },
      "execution_count": 73,
      "outputs": [
        {
          "output_type": "stream",
          "name": "stdout",
          "text": [
            "1    16225\n",
            "0    16225\n",
            "Name: toxic, dtype: int64\n"
          ]
        }
      ]
    },
    {
      "cell_type": "code",
      "source": [
        "# Let's keep a separate portion for the test set from the validation set\n",
        "\n",
        "X_test, X_val, y_test, y_val = train_test_split(X_val, y_val, test_size=0.5, stratify=y_val, random_state=40)"
      ],
      "metadata": {
        "id": "C81B1ESO3T7r"
      },
      "execution_count": 74,
      "outputs": []
    },
    {
      "cell_type": "markdown",
      "source": [
        "Now let's define the Dataset class"
      ],
      "metadata": {
        "id": "LXneIgs-E4K6"
      }
    },
    {
      "cell_type": "code",
      "source": [
        "# Creating the tokenizer object. Using bert-base-cased since I believe comments in all-caps could have a distinct meaning\n",
        "checkpoint = 'bert-base-cased'\n",
        "tokenizer = BertTokenizer.from_pretrained(checkpoint)\n",
        "\n",
        "class Dataset(torch.utils.data.Dataset):\n",
        "\n",
        "    def __init__(self, X, y):\n",
        "\n",
        "        self.labels = y\n",
        "        self.texts = [tokenizer(text, \n",
        "                                padding='max_length', \n",
        "                                max_length = 512, \n",
        "                                truncation=True,\n",
        "                                return_tensors=\"pt\") for text in X]\n",
        "\n",
        "    def __len__(self):\n",
        "        return len(self.labels)\n",
        "\n",
        "    def __getitem__(self, idx):\n",
        "\n",
        "        texts = self.texts[idx]\n",
        "        label = np.array(self.labels[idx])\n",
        "        return texts, label"
      ],
      "metadata": {
        "id": "QA-6VPqqsjJ_"
      },
      "execution_count": 75,
      "outputs": []
    },
    {
      "cell_type": "markdown",
      "source": [
        "Now let's define the BERT Classifier"
      ],
      "metadata": {
        "id": "H9aPV84XFCX-"
      }
    },
    {
      "cell_type": "code",
      "source": [
        "class BertClassifier(nn.Module):\n",
        "\n",
        "    def __init__(self, dropout=0.5):\n",
        "\n",
        "        super(BertClassifier, self).__init__()\n",
        "\n",
        "        self.bert = BertModel.from_pretrained('bert-base-cased')\n",
        "        self.dropout = nn.Dropout(dropout)\n",
        "        self.linear = nn.Linear(768, 2)  # Since we have 2 classes in the Label\n",
        "        self.relu = nn.ReLU()\n",
        "\n",
        "    def forward(self, input_ids, attention_mask):\n",
        "\n",
        "        _, pooled_output = self.bert(input_ids=input_ids, attention_mask=attention_mask, return_dict=False)\n",
        "        dropout_output = self.dropout(pooled_output)\n",
        "        linear_output = self.linear(dropout_output)\n",
        "        final_layer = self.relu(linear_output)\n",
        "        return final_layer"
      ],
      "metadata": {
        "id": "Pt_3J6jMtu4A"
      },
      "execution_count": 76,
      "outputs": []
    },
    {
      "cell_type": "markdown",
      "source": [
        "Now let's create a training function to train the model"
      ],
      "metadata": {
        "id": "DTnnwGd0Emdx"
      }
    },
    {
      "cell_type": "code",
      "source": [
        "def train(model, X_train, y_train, X_val, y_val, learning_rate, epochs):\n",
        "\n",
        "    train = Dataset(X_train, y_train)\n",
        "    val = Dataset(X_val, y_val)\n",
        "\n",
        "    train_dataloader = torch.utils.data.DataLoader(train, batch_size=16, shuffle=True)\n",
        "    val_dataloader = torch.utils.data.DataLoader(val, batch_size=16)\n",
        "\n",
        "    loss = nn.CrossEntropyLoss()\n",
        "    optimizer = Adam(model.parameters(), lr=learning_rate)\n",
        "\n",
        "    cuda_available = torch.cuda.is_available()\n",
        "    device = torch.device(\"cuda\" if cuda_available else \"cpu\")    \n",
        "\n",
        "    if cuda_available:\n",
        "\n",
        "            model = model.cuda()\n",
        "            loss = loss.cuda()\n",
        "\n",
        "    for epoch_num in range(epochs):\n",
        "\n",
        "            total_acc_train = 0\n",
        "            total_loss_train = 0\n",
        "\n",
        "            for train_input, train_label in tqdm(train_dataloader):\n",
        "\n",
        "                train_label = train_label.to(device)\n",
        "                attention_mask = train_input['attention_mask'].to(device)\n",
        "                input_ids = train_input['input_ids'].squeeze(1).to(device)\n",
        "\n",
        "                output = model(input_ids, attention_mask)\n",
        "                \n",
        "                batch_loss = loss(output, train_label.long())\n",
        "                total_loss_train += batch_loss.item()\n",
        "                \n",
        "                accuracy = (output.argmax(dim=1) == train_label).sum().item()\n",
        "                total_acc_train += accuracy\n",
        "\n",
        "                model.zero_grad()\n",
        "                batch_loss.backward()\n",
        "                optimizer.step()\n",
        "            \n",
        "            total_acc_val = 0\n",
        "            total_loss_val = 0\n",
        "\n",
        "            with torch.no_grad():\n",
        "\n",
        "                for val_input, val_label in val_dataloader:\n",
        "\n",
        "                    val_label = val_label.to(device)\n",
        "                    attention_mask = val_input['attention_mask'].to(device)\n",
        "                    input_ids = val_input['input_ids'].squeeze(1).to(device)\n",
        "\n",
        "                    output = model(input_ids, attention_mask)\n",
        "\n",
        "                    batch_loss = loss(output, val_label.long())\n",
        "                    total_loss_val += batch_loss.item()\n",
        "                    \n",
        "                    accuracy = (output.argmax(dim=1) == val_label).sum().item()\n",
        "                    total_acc_val += accuracy\n",
        "            \n",
        "            print(f'Epochs: {epoch_num + 1} | Train Loss: {total_loss_train / len(y_train): .3f} | Train Accuracy: {total_acc_train / len(y_train): .3f} | Val Loss: {total_loss_val / len(y_val): .3f} | Val Accuracy: {total_acc_val / len(y_val): .3f}')\n",
        "     "
      ],
      "metadata": {
        "id": "dx_B7z2xuDIu"
      },
      "execution_count": 77,
      "outputs": []
    },
    {
      "cell_type": "markdown",
      "source": [
        "Now let's create the evaluation function to test the model performance on the test set."
      ],
      "metadata": {
        "id": "kNQ1rILhEVGS"
      }
    },
    {
      "cell_type": "code",
      "source": [
        "def evaluate(model, X_test, y_test):\n",
        "\n",
        "    test = Dataset(X_test, y_test)\n",
        "    test_dataloader = torch.utils.data.DataLoader(test, batch_size=32)\n",
        "\n",
        "    cuda_available = torch.cuda.is_available()\n",
        "    device = torch.device(\"cuda\" if cuda_available else \"cpu\")\n",
        "\n",
        "    if cuda_available:\n",
        "\n",
        "        model = model.cuda()\n",
        "\n",
        "    total_acc_test = 0\n",
        "    with torch.no_grad():\n",
        "\n",
        "        for test_input, test_label in test_dataloader:\n",
        "\n",
        "              test_label = test_label.to(device)\n",
        "              attention_mask = test_input['attention_mask'].to(device)\n",
        "              input_ids = test_input['input_ids'].squeeze(1).to(device)\n",
        "\n",
        "              output = model(input_ids, attention_mask)\n",
        "\n",
        "              accuracy = (output.argmax(dim=1) == test_label).sum().item()\n",
        "              total_acc_test += accuracy\n",
        "    \n",
        "    print(f'Test Accuracy: {total_acc_test / len(y_test): .3f}')"
      ],
      "metadata": {
        "id": "Posm-_iZuNwZ"
      },
      "execution_count": 78,
      "outputs": []
    },
    {
      "cell_type": "markdown",
      "source": [
        "Let's train the model now"
      ],
      "metadata": {
        "id": "b6RMYk-81-f7"
      }
    },
    {
      "cell_type": "code",
      "source": [
        "EPOCHS = 2\n",
        "LR = 1e-5\n",
        "model = BertClassifier()        \n",
        "train(model, X_train, y_train, X_val, y_val, LR, EPOCHS)"
      ],
      "metadata": {
        "colab": {
          "base_uri": "https://localhost:8080/"
        },
        "id": "XFx1Me6ZuXMg",
        "outputId": "f40520be-3f59-4e4a-8a8e-878da04b8950"
      },
      "execution_count": 79,
      "outputs": [
        {
          "metadata": {
            "tags": null
          },
          "name": "stderr",
          "output_type": "stream",
          "text": [
            "Some weights of the model checkpoint at bert-base-cased were not used when initializing BertModel: ['cls.predictions.transform.LayerNorm.weight', 'cls.predictions.transform.LayerNorm.bias', 'cls.predictions.transform.dense.bias', 'cls.seq_relationship.bias', 'cls.predictions.transform.dense.weight', 'cls.predictions.bias', 'cls.seq_relationship.weight', 'cls.predictions.decoder.weight']\n",
            "- This IS expected if you are initializing BertModel from the checkpoint of a model trained on another task or with another architecture (e.g. initializing a BertForSequenceClassification model from a BertForPreTraining model).\n",
            "- This IS NOT expected if you are initializing BertModel from the checkpoint of a model that you expect to be exactly identical (initializing a BertForSequenceClassification model from a BertForSequenceClassification model).\n",
            "100%|██████████| 1522/1522 [35:28<00:00,  1.40s/it]\n"
          ]
        },
        {
          "metadata": {
            "tags": null
          },
          "name": "stdout",
          "output_type": "stream",
          "text": [
            "Epochs: 1 | Train Loss:  0.014 | Train Accuracy:  0.893 | Val Loss:  0.012 | Val Accuracy:  0.923\n"
          ]
        },
        {
          "output_type": "stream",
          "name": "stderr",
          "text": [
            "100%|██████████| 1522/1522 [35:27<00:00,  1.40s/it]\n"
          ]
        },
        {
          "output_type": "stream",
          "name": "stdout",
          "text": [
            "Epochs: 2 | Train Loss:  0.007 | Train Accuracy:  0.959 | Val Loss:  0.013 | Val Accuracy:  0.925\n"
          ]
        }
      ]
    },
    {
      "cell_type": "code",
      "source": [
        "# Evaluating the model on the test set\n",
        "\n",
        "evaluate(model, X_test, y_test)"
      ],
      "metadata": {
        "id": "lPlm6jpEuX5s",
        "colab": {
          "base_uri": "https://localhost:8080/"
        },
        "outputId": "47a67e0b-4dd5-474e-c958-78e92ce5c6f9"
      },
      "execution_count": 80,
      "outputs": [
        {
          "output_type": "stream",
          "name": "stdout",
          "text": [
            "Test Accuracy:  0.930\n"
          ]
        }
      ]
    },
    {
      "cell_type": "markdown",
      "source": [
        "Let's try out the model with some sample comments"
      ],
      "metadata": {
        "id": "l-u0dYx92rrH"
      }
    },
    {
      "cell_type": "code",
      "source": [
        "device = torch.device(\"cuda\" if torch.cuda.is_available() else \"cpu\")\n",
        "\n",
        "sample = [\"You are stupid enough to go there alone.\", \n",
        "          \"I am going home\", \n",
        "          \"fuck you!!\", \n",
        "          \"I love you more everyday.\", \n",
        "          \"I loved you but not anymore since I am now over you, so kindly leave me alone.\",\n",
        "          \"This course is shit! I'd rather learn on my own...\"]\n",
        "\n",
        "input = tokenizer(sample, padding='max_length', max_length = 512, truncation=True, return_tensors=\"pt\")\n",
        "\n",
        "attention_mask = input['attention_mask'].to(device)\n",
        "input_ids = input['input_ids'].squeeze(1).to(device)\n",
        "logits = model(input_ids, attention_mask)\n",
        "\n",
        "# Printing the model output logits\n",
        "print(logits)"
      ],
      "metadata": {
        "id": "_6JrKpfSz0n3"
      },
      "execution_count": null,
      "outputs": []
    },
    {
      "cell_type": "code",
      "source": [
        "# Let's convert the model output logits into probabilites by passing them through the Softmax function\n",
        "predictions = torch.nn.functional.softmax(logits, dim=-1)\n",
        "print(predictions)\n",
        "preds_array = predictions.detach().cpu().numpy()\n",
        "\n",
        "# Displaying the model predictions\n",
        "for i, pred in enumerate(preds_array):\n",
        "  if pred[0] > pred[1]:\n",
        "    print(\"\\nComment:\", sample[i],\"\\nPrediction: Not Toxic\", \"\\nProbability:\", pred[0])\n",
        "  else:\n",
        "    print(\"\\nComment:\", sample[i],\"\\nPrediction: Toxic\", \"\\nProbability:\", pred[1])\n"
      ],
      "metadata": {
        "id": "Q13yl41mH289",
        "colab": {
          "base_uri": "https://localhost:8080/"
        },
        "outputId": "bd5b09cb-7411-49b2-801f-bc05edee093e"
      },
      "execution_count": 84,
      "outputs": [
        {
          "output_type": "stream",
          "name": "stdout",
          "text": [
            "tensor([[0.0019, 0.9981],\n",
            "        [0.9635, 0.0365],\n",
            "        [0.0013, 0.9987],\n",
            "        [0.9292, 0.0708],\n",
            "        [0.8705, 0.1295],\n",
            "        [0.0026, 0.9974]], device='cuda:0', grad_fn=<SoftmaxBackward0>)\n",
            "\n",
            "Comment: You are stupid enough to go there alone. \n",
            "Prediction: Toxic \n",
            "Probability: 0.99808514\n",
            "\n",
            "Comment: I am going home \n",
            "Prediction: Not Toxic \n",
            "Probability: 0.96353376\n",
            "\n",
            "Comment: fuck you!! \n",
            "Prediction: Toxic \n",
            "Probability: 0.99870527\n",
            "\n",
            "Comment: I love you more everyday. \n",
            "Prediction: Not Toxic \n",
            "Probability: 0.9291661\n",
            "\n",
            "Comment: I loved you but not anymore since I am now over you, so kindly leave me alone. \n",
            "Prediction: Not Toxic \n",
            "Probability: 0.87054634\n",
            "\n",
            "Comment: This course is shit! I'd rather learn on my own... \n",
            "Prediction: Toxic \n",
            "Probability: 0.9973973\n"
          ]
        }
      ]
    },
    {
      "cell_type": "code",
      "source": [
        "PATH = '/content/drive/MyDrive/toxic_comm_classifier.pt'\n",
        "torch.save(model.state_dict(), PATH)"
      ],
      "metadata": {
        "id": "bUvUwXTDZr5q"
      },
      "execution_count": 85,
      "outputs": []
    },
    {
      "cell_type": "code",
      "source": [],
      "metadata": {
        "id": "30--zoJN5Tsd"
      },
      "execution_count": 83,
      "outputs": []
    }
  ]
}