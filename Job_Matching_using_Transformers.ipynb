{
  "nbformat": 4,
  "nbformat_minor": 0,
  "metadata": {
    "colab": {
      "provenance": []
    },
    "kernelspec": {
      "name": "python3",
      "display_name": "Python 3"
    },
    "language_info": {
      "name": "python"
    },
    "accelerator": "GPU",
    "gpuClass": "standard"
  },
  "cells": [
    {
      "cell_type": "markdown",
      "source": [
        "We will be using pre-trained Transformer model from Hugging Face for this NLP task of matching given job descriptions with job titles and find the best matches.\n",
        "\n"
      ],
      "metadata": {
        "id": "dN_BM08qFvxk"
      }
    },
    {
      "cell_type": "code",
      "source": [
        "%%capture\n",
        "!pip install -U sentence-transformers"
      ],
      "metadata": {
        "id": "bW_P3esJFwC_"
      },
      "execution_count": 1,
      "outputs": []
    },
    {
      "cell_type": "code",
      "source": [
        "import numpy as np\n",
        "import pandas as pd\n",
        "from sentence_transformers import SentenceTransformer, util"
      ],
      "metadata": {
        "id": "z6xJzzLqGnEK"
      },
      "execution_count": 2,
      "outputs": []
    },
    {
      "cell_type": "code",
      "source": [
        "# Read-in the job descriptions from a csv file\n",
        "\n",
        "jobs = pd.read_csv(\"/content/Jobs.csv\")\n",
        "jobs"
      ],
      "metadata": {
        "colab": {
          "base_uri": "https://localhost:8080/",
          "height": 206
        },
        "id": "5BkvRl8VHmlT",
        "outputId": "610b8aeb-cf89-4d9f-9ce7-7a24b7271556"
      },
      "execution_count": 3,
      "outputs": [
        {
          "output_type": "execute_result",
          "data": {
            "text/plain": [
              "   job_id                                    job_description\n",
              "0  134498  AWS and Python/Pyspark Developer will be respo...\n",
              "1  167896  Talenteq Technology India Pvt Ltd is hiring ca...\n",
              "2  198356  We are hiring for HR Recruiter. Share your res...\n",
              "3   15472  Pandaj Web Services is looking to hire Team Le...\n",
              "4   28761  Experience: 1-2 years\\nLocation: Technopolis I..."
            ],
            "text/html": [
              "\n",
              "  <div id=\"df-bbe5eef6-89d1-402a-8166-6d6d0eef1744\">\n",
              "    <div class=\"colab-df-container\">\n",
              "      <div>\n",
              "<style scoped>\n",
              "    .dataframe tbody tr th:only-of-type {\n",
              "        vertical-align: middle;\n",
              "    }\n",
              "\n",
              "    .dataframe tbody tr th {\n",
              "        vertical-align: top;\n",
              "    }\n",
              "\n",
              "    .dataframe thead th {\n",
              "        text-align: right;\n",
              "    }\n",
              "</style>\n",
              "<table border=\"1\" class=\"dataframe\">\n",
              "  <thead>\n",
              "    <tr style=\"text-align: right;\">\n",
              "      <th></th>\n",
              "      <th>job_id</th>\n",
              "      <th>job_description</th>\n",
              "    </tr>\n",
              "  </thead>\n",
              "  <tbody>\n",
              "    <tr>\n",
              "      <th>0</th>\n",
              "      <td>134498</td>\n",
              "      <td>AWS and Python/Pyspark Developer will be respo...</td>\n",
              "    </tr>\n",
              "    <tr>\n",
              "      <th>1</th>\n",
              "      <td>167896</td>\n",
              "      <td>Talenteq Technology India Pvt Ltd is hiring ca...</td>\n",
              "    </tr>\n",
              "    <tr>\n",
              "      <th>2</th>\n",
              "      <td>198356</td>\n",
              "      <td>We are hiring for HR Recruiter. Share your res...</td>\n",
              "    </tr>\n",
              "    <tr>\n",
              "      <th>3</th>\n",
              "      <td>15472</td>\n",
              "      <td>Pandaj Web Services is looking to hire Team Le...</td>\n",
              "    </tr>\n",
              "    <tr>\n",
              "      <th>4</th>\n",
              "      <td>28761</td>\n",
              "      <td>Experience: 1-2 years\\nLocation: Technopolis I...</td>\n",
              "    </tr>\n",
              "  </tbody>\n",
              "</table>\n",
              "</div>\n",
              "      <button class=\"colab-df-convert\" onclick=\"convertToInteractive('df-bbe5eef6-89d1-402a-8166-6d6d0eef1744')\"\n",
              "              title=\"Convert this dataframe to an interactive table.\"\n",
              "              style=\"display:none;\">\n",
              "        \n",
              "  <svg xmlns=\"http://www.w3.org/2000/svg\" height=\"24px\"viewBox=\"0 0 24 24\"\n",
              "       width=\"24px\">\n",
              "    <path d=\"M0 0h24v24H0V0z\" fill=\"none\"/>\n",
              "    <path d=\"M18.56 5.44l.94 2.06.94-2.06 2.06-.94-2.06-.94-.94-2.06-.94 2.06-2.06.94zm-11 1L8.5 8.5l.94-2.06 2.06-.94-2.06-.94L8.5 2.5l-.94 2.06-2.06.94zm10 10l.94 2.06.94-2.06 2.06-.94-2.06-.94-.94-2.06-.94 2.06-2.06.94z\"/><path d=\"M17.41 7.96l-1.37-1.37c-.4-.4-.92-.59-1.43-.59-.52 0-1.04.2-1.43.59L10.3 9.45l-7.72 7.72c-.78.78-.78 2.05 0 2.83L4 21.41c.39.39.9.59 1.41.59.51 0 1.02-.2 1.41-.59l7.78-7.78 2.81-2.81c.8-.78.8-2.07 0-2.86zM5.41 20L4 18.59l7.72-7.72 1.47 1.35L5.41 20z\"/>\n",
              "  </svg>\n",
              "      </button>\n",
              "      \n",
              "  <style>\n",
              "    .colab-df-container {\n",
              "      display:flex;\n",
              "      flex-wrap:wrap;\n",
              "      gap: 12px;\n",
              "    }\n",
              "\n",
              "    .colab-df-convert {\n",
              "      background-color: #E8F0FE;\n",
              "      border: none;\n",
              "      border-radius: 50%;\n",
              "      cursor: pointer;\n",
              "      display: none;\n",
              "      fill: #1967D2;\n",
              "      height: 32px;\n",
              "      padding: 0 0 0 0;\n",
              "      width: 32px;\n",
              "    }\n",
              "\n",
              "    .colab-df-convert:hover {\n",
              "      background-color: #E2EBFA;\n",
              "      box-shadow: 0px 1px 2px rgba(60, 64, 67, 0.3), 0px 1px 3px 1px rgba(60, 64, 67, 0.15);\n",
              "      fill: #174EA6;\n",
              "    }\n",
              "\n",
              "    [theme=dark] .colab-df-convert {\n",
              "      background-color: #3B4455;\n",
              "      fill: #D2E3FC;\n",
              "    }\n",
              "\n",
              "    [theme=dark] .colab-df-convert:hover {\n",
              "      background-color: #434B5C;\n",
              "      box-shadow: 0px 1px 3px 1px rgba(0, 0, 0, 0.15);\n",
              "      filter: drop-shadow(0px 1px 2px rgba(0, 0, 0, 0.3));\n",
              "      fill: #FFFFFF;\n",
              "    }\n",
              "  </style>\n",
              "\n",
              "      <script>\n",
              "        const buttonEl =\n",
              "          document.querySelector('#df-bbe5eef6-89d1-402a-8166-6d6d0eef1744 button.colab-df-convert');\n",
              "        buttonEl.style.display =\n",
              "          google.colab.kernel.accessAllowed ? 'block' : 'none';\n",
              "\n",
              "        async function convertToInteractive(key) {\n",
              "          const element = document.querySelector('#df-bbe5eef6-89d1-402a-8166-6d6d0eef1744');\n",
              "          const dataTable =\n",
              "            await google.colab.kernel.invokeFunction('convertToInteractive',\n",
              "                                                     [key], {});\n",
              "          if (!dataTable) return;\n",
              "\n",
              "          const docLinkHtml = 'Like what you see? Visit the ' +\n",
              "            '<a target=\"_blank\" href=https://colab.research.google.com/notebooks/data_table.ipynb>data table notebook</a>'\n",
              "            + ' to learn more about interactive tables.';\n",
              "          element.innerHTML = '';\n",
              "          dataTable['output_type'] = 'display_data';\n",
              "          await google.colab.output.renderOutput(dataTable, element);\n",
              "          const docLink = document.createElement('div');\n",
              "          docLink.innerHTML = docLinkHtml;\n",
              "          element.appendChild(docLink);\n",
              "        }\n",
              "      </script>\n",
              "    </div>\n",
              "  </div>\n",
              "  "
            ]
          },
          "metadata": {},
          "execution_count": 3
        }
      ]
    },
    {
      "cell_type": "code",
      "source": [
        "# let's check out the first job entry\n",
        "\n",
        "print(jobs['job_description'][0])"
      ],
      "metadata": {
        "colab": {
          "base_uri": "https://localhost:8080/"
        },
        "id": "87xtSDZkImLY",
        "outputId": "ac0a7279-9e27-4069-cb6c-11c571718875"
      },
      "execution_count": 4,
      "outputs": [
        {
          "output_type": "stream",
          "name": "stdout",
          "text": [
            "AWS and Python/Pyspark Developer will be responsible for developing and debugging process flows Related to Data Analytics using AWS services. Understanding of AWS services mentioned below is a must:\n",
            "\n",
            "1. Amazon S3\n",
            "2. AWS Lambda\n",
            "3. Amazon Redshift\n",
            "4. AWS Glue and Data Catalog\n",
            "5. Amazon EC2\n",
            "6. AWS Athena\n",
            "7. Data Lake\n",
            "\n",
            "Location: Noida, Bangalore\n",
            "Experience: Minimum 1 years\n",
            "Designation: Business Analyst / Senior Business Analyst\n",
            "\n",
            "Role and Responsibilities:\n",
            "\n",
            "- Develop Server-less Lambda functions to achieve connectivity between services using any scripting language e.g. Python.\n",
            "- Usage of AWS Glue Crawlers for populating Data Catalog with metadata.\n",
            "- AWS Glue Job creation for ETL services for large sets of data in Pyspark\n",
            "- Data validation using services within AWS.\n",
            "- Implementation of EC2 servers and their working.\n",
            "- Usage of Amazon Redshift for Database.\n",
            "- Performing ETL operations in Python.\n",
            "- Good knowledge of python OOPS concepts and libraries such as pandas, NumPy, mat plot, etc.\n",
            "\n",
            "Candidate Profile:\n",
            "\n",
            "- Work experience as a AWS Developer, SQL, Python/Pyspark or any other scripting language.\n",
            "- Expertise in at least 5 of the above mentioned services.\n",
            "- BSc, B.Tech in Computer Science, Engineering or relevant field.\n"
          ]
        }
      ]
    },
    {
      "cell_type": "code",
      "source": [
        "# Let's download the model in the local system\n",
        "\n",
        "checkpoint = \"all-MiniLM-L6-v2\"\n",
        "model = SentenceTransformer(checkpoint)"
      ],
      "metadata": {
        "id": "bEOByKf-4Zl2"
      },
      "execution_count": 5,
      "outputs": []
    },
    {
      "cell_type": "code",
      "source": [
        "job_desc = list(jobs['job_description'])\n",
        "\n",
        "job_titles = [\n",
        "    'Software Developer',\n",
        "    'Sales Lead',\n",
        "    'Painter',\n",
        "    'Stock Trader',\n",
        "    'Electrician',\n",
        "    'Human resource recruiter'\n",
        "]\n",
        "\n",
        "# Obtaining the vector embedding representations of the job descriptions and the job titles\n",
        "jd_embeddings = model.encode(job_desc)\n",
        "jt_embeddings = model.encode(job_titles)\n",
        "\n",
        "# Calculating cosine similarity between all pairs of the job descriptions and the job titles\n",
        "cos_sim = util.cos_sim(jd_embeddings, jt_embeddings)\n",
        "cos_sim"
      ],
      "metadata": {
        "colab": {
          "base_uri": "https://localhost:8080/"
        },
        "id": "YluV0JTAJF0U",
        "outputId": "8b39e5c5-6275-4944-cea7-08a3d7c3647b"
      },
      "execution_count": 8,
      "outputs": [
        {
          "output_type": "execute_result",
          "data": {
            "text/plain": [
              "tensor([[ 0.2658,  0.1255, -0.0247,  0.0980,  0.2656,  0.2582],\n",
              "        [ 0.2969,  0.0883,  0.1079,  0.1096,  0.4701,  0.3185],\n",
              "        [ 0.2149, -0.0012,  0.0590,  0.1593,  0.2143,  0.5619],\n",
              "        [ 0.2784,  0.4891,  0.0545,  0.2049,  0.2674,  0.4338],\n",
              "        [ 0.3686,  0.0636,  0.0934,  0.1758,  0.1846,  0.2309]])"
            ]
          },
          "metadata": {},
          "execution_count": 8
        }
      ]
    },
    {
      "cell_type": "code",
      "source": [
        "# Now let's see which are the best matches for job tiltle for each job description\n",
        "\n",
        "title_matches = np.argmax(cos_sim.numpy(), axis=1)\n",
        "\n",
        "for jd, jt in zip(job_desc, title_matches):\n",
        "    print(\"\\nJob Description:\\n\\n\", jd)\n",
        "    print(\"\\n>>>>> Best match for Job Title: \", job_titles[jt])\n",
        "    print(\"---\"*30)"
      ],
      "metadata": {
        "colab": {
          "base_uri": "https://localhost:8080/"
        },
        "id": "7QSQAaOUJp1c",
        "outputId": "2a187fd6-e8cf-46c4-dcc0-af81e60ae5f1"
      },
      "execution_count": 9,
      "outputs": [
        {
          "output_type": "stream",
          "name": "stdout",
          "text": [
            "\n",
            "Job Description:\n",
            "\n",
            " AWS and Python/Pyspark Developer will be responsible for developing and debugging process flows Related to Data Analytics using AWS services. Understanding of AWS services mentioned below is a must:\n",
            "\n",
            "1. Amazon S3\n",
            "2. AWS Lambda\n",
            "3. Amazon Redshift\n",
            "4. AWS Glue and Data Catalog\n",
            "5. Amazon EC2\n",
            "6. AWS Athena\n",
            "7. Data Lake\n",
            "\n",
            "Location: Noida, Bangalore\n",
            "Experience: Minimum 1 years\n",
            "Designation: Business Analyst / Senior Business Analyst\n",
            "\n",
            "Role and Responsibilities:\n",
            "\n",
            "- Develop Server-less Lambda functions to achieve connectivity between services using any scripting language e.g. Python.\n",
            "- Usage of AWS Glue Crawlers for populating Data Catalog with metadata.\n",
            "- AWS Glue Job creation for ETL services for large sets of data in Pyspark\n",
            "- Data validation using services within AWS.\n",
            "- Implementation of EC2 servers and their working.\n",
            "- Usage of Amazon Redshift for Database.\n",
            "- Performing ETL operations in Python.\n",
            "- Good knowledge of python OOPS concepts and libraries such as pandas, NumPy, mat plot, etc.\n",
            "\n",
            "Candidate Profile:\n",
            "\n",
            "- Work experience as a AWS Developer, SQL, Python/Pyspark or any other scripting language.\n",
            "- Expertise in at least 5 of the above mentioned services.\n",
            "- BSc, B.Tech in Computer Science, Engineering or relevant field.\n",
            "\n",
            ">>>>> Best match for Job Title:  Software Developer\n",
            "------------------------------------------------------------------------------------------\n",
            "\n",
            "Job Description:\n",
            "\n",
            " Talenteq Technology India Pvt Ltd is hiring candidates for Technician / Electrician job in Noida with an experience of 1 year(s). Candidate would be responsible for installing and repairing electrical control, wiring, and lighting systems. Candidates looking for Electrician jobs near by can apply directly. To apply for Full Time job vacancy candidate must be skilled at ITI Electrical, ITI, Maintenance, Technician, Electrical ITI.- Experience working as an electrician.\n",
            "\n",
            "Required:\n",
            "- High school diploma or ITI or a similar education\n",
            "- Maintenance and Repair knowledge of electrical system and power generation.\n",
            "- Diligence and attention to detail.\n",
            "\n",
            ">>>>> Best match for Job Title:  Electrician\n",
            "------------------------------------------------------------------------------------------\n",
            "\n",
            "Job Description:\n",
            "\n",
            " We are hiring for HR Recruiter. Share your resume at hr@xxxconsulting.com\n",
            "\n",
            "Location: Noida\n",
            "Shift: 9:30 am to 6:30 pm\n",
            "Experience: 6 months to 2 yrs in human resource\n",
            "\n",
            "Responsibilities:\n",
            "• Should have worked on IT and Non-IT requirements.\n",
            "• Good communication skills\n",
            "• Freshers can also apply provided they have either technical or HRMS background with good communication skills\n",
            "• Should be able to work in target based atmosphere\n",
            "• Local to Noida, should be comfortable coming to the office\n",
            "• 6 days working, no fixed day off\n",
            "• Salary is negotiable.\n",
            "\n",
            ">>>>> Best match for Job Title:  Human resource recruiter\n",
            "------------------------------------------------------------------------------------------\n",
            "\n",
            "Job Description:\n",
            "\n",
            " Pandaj Web Services is looking to hire Team Lead - Field Sales\n",
            "\n",
            "Requirements and skills:\n",
            "\n",
            "1. To Identify decision makers within targeted leads and initiate the sales process.\n",
            "2. To penetrate all targeted accounts and originate sales opportunities for the company's products and services.\n",
            "3. To set up and deliver sales presentations, product/service demonstrations on daily basis.\n",
            "4. To ensure systematic follow-up with the client organizations to take the sales pitch to time-bound closure.\n",
            "5. To be an interface between the customer and internal support teams to ensure that the customer receives the best possible service from the company.\n",
            "6. To ensure that all payments are collected as per the company's payment terms.\n",
            "7. Ensure adherence to sales processes and requirements.\n",
            "\n",
            "Qualifications:\n",
            "- Graduation is must.\n",
            "- At least 2 years of proven work experience in sales\n",
            "- Should have own vehicle\n",
            "\n",
            "Benefits:\n",
            "- Competitive salary\n",
            "- Health Insurance\n",
            "- HRA\n",
            "- Performance linked bonus\n",
            "\n",
            ">>>>> Best match for Job Title:  Sales Lead\n",
            "------------------------------------------------------------------------------------------\n",
            "\n",
            "Job Description:\n",
            "\n",
            " Experience: 1-2 years\n",
            "Location: Technopolis IT Hub, Bengaluru\n",
            "Salary: Negotiable as per last CTC\n",
            "\n",
            "Job Description\n",
            "• Experience in developing enterprise grade Android Mobile Apps, NDK, and SDKs.\n",
            "• Experience in Rest i.e SQLite, Faragments, Activities, Intents, Google API’s (FCM, MAP, Analytics, AdMob etc.).\n",
            "• Experience in apps development with Payment gateway Integration and POS terminal like VeriFone/Ingenico/Pax.\n",
            "• Experience on client-server application involving web service calling.\n",
            "• Knowledge of Android Life Cycle and Threading Concepts.\n",
            "• Knowledge of the general mobile landscape, architectures, trends, and emerging technologies.\n",
            "• Strong understanding of material design, memory management, files I/O, network protocols, concurrency, multi-threading etc.\n",
            "• Strong understanding of OOPs fundamentals, Java, Kotlin, JSON, Android 5 and above.\n",
            "• Knowledge in architecting large solutions using patterns, like MVVM, VIPER.\n",
            "• Knowledge of different screen sizes,andandroid version classes compatibility.\n",
            "• Knowledge of Third party libraries like Volly, Retrofit, ButterKnife, Picasso.\n",
            "• Knowledge of XML, JSON parsing, GPS and Google Maps integration.\n",
            "• Knowledge of Firebase Services Other Third-party Services.\n",
            "• Understanding of code versioning tool, like Git.\n",
            "• Familiarity with deploying Android apps to the Google Play Store and should have published at least five Android app.\n",
            "• Knowledge of OPENGL\n",
            "\n",
            ">>>>> Best match for Job Title:  Software Developer\n",
            "------------------------------------------------------------------------------------------\n"
          ]
        }
      ]
    },
    {
      "cell_type": "code",
      "source": [],
      "metadata": {
        "id": "aUcmNuPBPyvo"
      },
      "execution_count": 7,
      "outputs": []
    }
  ]
}