{
  "nbformat": 4,
  "nbformat_minor": 0,
  "metadata": {
    "colab": {
      "provenance": []
    },
    "kernelspec": {
      "name": "python3",
      "display_name": "Python 3"
    },
    "language_info": {
      "name": "python"
    },
    "accelerator": "GPU",
    "gpuClass": "standard",
    "widgets": {
      "application/vnd.jupyter.widget-state+json": {
        "4ba88f25c7a44e089f3b3675d1719f16": {
          "model_module": "@jupyter-widgets/controls",
          "model_name": "HBoxModel",
          "model_module_version": "1.5.0",
          "state": {
            "_dom_classes": [],
            "_model_module": "@jupyter-widgets/controls",
            "_model_module_version": "1.5.0",
            "_model_name": "HBoxModel",
            "_view_count": null,
            "_view_module": "@jupyter-widgets/controls",
            "_view_module_version": "1.5.0",
            "_view_name": "HBoxView",
            "box_style": "",
            "children": [
              "IPY_MODEL_f234df62fffe430ab8bbaebfd565fdcf",
              "IPY_MODEL_ade730d7cf9b414eba4a42e3139d14ed",
              "IPY_MODEL_41b156ebff3a45f188aeef39a77c5ecd"
            ],
            "layout": "IPY_MODEL_2b79f391b34744208f86f5fdc35d179b"
          }
        },
        "f234df62fffe430ab8bbaebfd565fdcf": {
          "model_module": "@jupyter-widgets/controls",
          "model_name": "HTMLModel",
          "model_module_version": "1.5.0",
          "state": {
            "_dom_classes": [],
            "_model_module": "@jupyter-widgets/controls",
            "_model_module_version": "1.5.0",
            "_model_name": "HTMLModel",
            "_view_count": null,
            "_view_module": "@jupyter-widgets/controls",
            "_view_module_version": "1.5.0",
            "_view_name": "HTMLView",
            "description": "",
            "description_tooltip": null,
            "layout": "IPY_MODEL_8e6700711c8a4cdea4ee73b8fffd7407",
            "placeholder": "​",
            "style": "IPY_MODEL_b4d776f7b55d4a8692de9befa7a23a83",
            "value": "Downloading (…)solve/main/vocab.txt: 100%"
          }
        },
        "ade730d7cf9b414eba4a42e3139d14ed": {
          "model_module": "@jupyter-widgets/controls",
          "model_name": "FloatProgressModel",
          "model_module_version": "1.5.0",
          "state": {
            "_dom_classes": [],
            "_model_module": "@jupyter-widgets/controls",
            "_model_module_version": "1.5.0",
            "_model_name": "FloatProgressModel",
            "_view_count": null,
            "_view_module": "@jupyter-widgets/controls",
            "_view_module_version": "1.5.0",
            "_view_name": "ProgressView",
            "bar_style": "success",
            "description": "",
            "description_tooltip": null,
            "layout": "IPY_MODEL_9e7b5deeb10a4ce0b5440657be97369f",
            "max": 213450,
            "min": 0,
            "orientation": "horizontal",
            "style": "IPY_MODEL_fbce909b1b364eceafe473068f48a8cd",
            "value": 213450
          }
        },
        "41b156ebff3a45f188aeef39a77c5ecd": {
          "model_module": "@jupyter-widgets/controls",
          "model_name": "HTMLModel",
          "model_module_version": "1.5.0",
          "state": {
            "_dom_classes": [],
            "_model_module": "@jupyter-widgets/controls",
            "_model_module_version": "1.5.0",
            "_model_name": "HTMLModel",
            "_view_count": null,
            "_view_module": "@jupyter-widgets/controls",
            "_view_module_version": "1.5.0",
            "_view_name": "HTMLView",
            "description": "",
            "description_tooltip": null,
            "layout": "IPY_MODEL_da844306aab74644b2d910d41e1a7705",
            "placeholder": "​",
            "style": "IPY_MODEL_fdd6edefdb0c41bb919f557acc5551b2",
            "value": " 213k/213k [00:00&lt;00:00, 893kB/s]"
          }
        },
        "2b79f391b34744208f86f5fdc35d179b": {
          "model_module": "@jupyter-widgets/base",
          "model_name": "LayoutModel",
          "model_module_version": "1.2.0",
          "state": {
            "_model_module": "@jupyter-widgets/base",
            "_model_module_version": "1.2.0",
            "_model_name": "LayoutModel",
            "_view_count": null,
            "_view_module": "@jupyter-widgets/base",
            "_view_module_version": "1.2.0",
            "_view_name": "LayoutView",
            "align_content": null,
            "align_items": null,
            "align_self": null,
            "border": null,
            "bottom": null,
            "display": null,
            "flex": null,
            "flex_flow": null,
            "grid_area": null,
            "grid_auto_columns": null,
            "grid_auto_flow": null,
            "grid_auto_rows": null,
            "grid_column": null,
            "grid_gap": null,
            "grid_row": null,
            "grid_template_areas": null,
            "grid_template_columns": null,
            "grid_template_rows": null,
            "height": null,
            "justify_content": null,
            "justify_items": null,
            "left": null,
            "margin": null,
            "max_height": null,
            "max_width": null,
            "min_height": null,
            "min_width": null,
            "object_fit": null,
            "object_position": null,
            "order": null,
            "overflow": null,
            "overflow_x": null,
            "overflow_y": null,
            "padding": null,
            "right": null,
            "top": null,
            "visibility": null,
            "width": null
          }
        },
        "8e6700711c8a4cdea4ee73b8fffd7407": {
          "model_module": "@jupyter-widgets/base",
          "model_name": "LayoutModel",
          "model_module_version": "1.2.0",
          "state": {
            "_model_module": "@jupyter-widgets/base",
            "_model_module_version": "1.2.0",
            "_model_name": "LayoutModel",
            "_view_count": null,
            "_view_module": "@jupyter-widgets/base",
            "_view_module_version": "1.2.0",
            "_view_name": "LayoutView",
            "align_content": null,
            "align_items": null,
            "align_self": null,
            "border": null,
            "bottom": null,
            "display": null,
            "flex": null,
            "flex_flow": null,
            "grid_area": null,
            "grid_auto_columns": null,
            "grid_auto_flow": null,
            "grid_auto_rows": null,
            "grid_column": null,
            "grid_gap": null,
            "grid_row": null,
            "grid_template_areas": null,
            "grid_template_columns": null,
            "grid_template_rows": null,
            "height": null,
            "justify_content": null,
            "justify_items": null,
            "left": null,
            "margin": null,
            "max_height": null,
            "max_width": null,
            "min_height": null,
            "min_width": null,
            "object_fit": null,
            "object_position": null,
            "order": null,
            "overflow": null,
            "overflow_x": null,
            "overflow_y": null,
            "padding": null,
            "right": null,
            "top": null,
            "visibility": null,
            "width": null
          }
        },
        "b4d776f7b55d4a8692de9befa7a23a83": {
          "model_module": "@jupyter-widgets/controls",
          "model_name": "DescriptionStyleModel",
          "model_module_version": "1.5.0",
          "state": {
            "_model_module": "@jupyter-widgets/controls",
            "_model_module_version": "1.5.0",
            "_model_name": "DescriptionStyleModel",
            "_view_count": null,
            "_view_module": "@jupyter-widgets/base",
            "_view_module_version": "1.2.0",
            "_view_name": "StyleView",
            "description_width": ""
          }
        },
        "9e7b5deeb10a4ce0b5440657be97369f": {
          "model_module": "@jupyter-widgets/base",
          "model_name": "LayoutModel",
          "model_module_version": "1.2.0",
          "state": {
            "_model_module": "@jupyter-widgets/base",
            "_model_module_version": "1.2.0",
            "_model_name": "LayoutModel",
            "_view_count": null,
            "_view_module": "@jupyter-widgets/base",
            "_view_module_version": "1.2.0",
            "_view_name": "LayoutView",
            "align_content": null,
            "align_items": null,
            "align_self": null,
            "border": null,
            "bottom": null,
            "display": null,
            "flex": null,
            "flex_flow": null,
            "grid_area": null,
            "grid_auto_columns": null,
            "grid_auto_flow": null,
            "grid_auto_rows": null,
            "grid_column": null,
            "grid_gap": null,
            "grid_row": null,
            "grid_template_areas": null,
            "grid_template_columns": null,
            "grid_template_rows": null,
            "height": null,
            "justify_content": null,
            "justify_items": null,
            "left": null,
            "margin": null,
            "max_height": null,
            "max_width": null,
            "min_height": null,
            "min_width": null,
            "object_fit": null,
            "object_position": null,
            "order": null,
            "overflow": null,
            "overflow_x": null,
            "overflow_y": null,
            "padding": null,
            "right": null,
            "top": null,
            "visibility": null,
            "width": null
          }
        },
        "fbce909b1b364eceafe473068f48a8cd": {
          "model_module": "@jupyter-widgets/controls",
          "model_name": "ProgressStyleModel",
          "model_module_version": "1.5.0",
          "state": {
            "_model_module": "@jupyter-widgets/controls",
            "_model_module_version": "1.5.0",
            "_model_name": "ProgressStyleModel",
            "_view_count": null,
            "_view_module": "@jupyter-widgets/base",
            "_view_module_version": "1.2.0",
            "_view_name": "StyleView",
            "bar_color": null,
            "description_width": ""
          }
        },
        "da844306aab74644b2d910d41e1a7705": {
          "model_module": "@jupyter-widgets/base",
          "model_name": "LayoutModel",
          "model_module_version": "1.2.0",
          "state": {
            "_model_module": "@jupyter-widgets/base",
            "_model_module_version": "1.2.0",
            "_model_name": "LayoutModel",
            "_view_count": null,
            "_view_module": "@jupyter-widgets/base",
            "_view_module_version": "1.2.0",
            "_view_name": "LayoutView",
            "align_content": null,
            "align_items": null,
            "align_self": null,
            "border": null,
            "bottom": null,
            "display": null,
            "flex": null,
            "flex_flow": null,
            "grid_area": null,
            "grid_auto_columns": null,
            "grid_auto_flow": null,
            "grid_auto_rows": null,
            "grid_column": null,
            "grid_gap": null,
            "grid_row": null,
            "grid_template_areas": null,
            "grid_template_columns": null,
            "grid_template_rows": null,
            "height": null,
            "justify_content": null,
            "justify_items": null,
            "left": null,
            "margin": null,
            "max_height": null,
            "max_width": null,
            "min_height": null,
            "min_width": null,
            "object_fit": null,
            "object_position": null,
            "order": null,
            "overflow": null,
            "overflow_x": null,
            "overflow_y": null,
            "padding": null,
            "right": null,
            "top": null,
            "visibility": null,
            "width": null
          }
        },
        "fdd6edefdb0c41bb919f557acc5551b2": {
          "model_module": "@jupyter-widgets/controls",
          "model_name": "DescriptionStyleModel",
          "model_module_version": "1.5.0",
          "state": {
            "_model_module": "@jupyter-widgets/controls",
            "_model_module_version": "1.5.0",
            "_model_name": "DescriptionStyleModel",
            "_view_count": null,
            "_view_module": "@jupyter-widgets/base",
            "_view_module_version": "1.2.0",
            "_view_name": "StyleView",
            "description_width": ""
          }
        },
        "f7c67f4db3314e79af57f43da7a7fd4c": {
          "model_module": "@jupyter-widgets/controls",
          "model_name": "HBoxModel",
          "model_module_version": "1.5.0",
          "state": {
            "_dom_classes": [],
            "_model_module": "@jupyter-widgets/controls",
            "_model_module_version": "1.5.0",
            "_model_name": "HBoxModel",
            "_view_count": null,
            "_view_module": "@jupyter-widgets/controls",
            "_view_module_version": "1.5.0",
            "_view_name": "HBoxView",
            "box_style": "",
            "children": [
              "IPY_MODEL_6e337edb44754575a1542644dd303131",
              "IPY_MODEL_8a8cc61ca1a54884bfd72212385dc665",
              "IPY_MODEL_bb2b5fba01b94f2b9f9acb0d37ef5c8c"
            ],
            "layout": "IPY_MODEL_2908aca1b87847cfaccc1396c25aeabd"
          }
        },
        "6e337edb44754575a1542644dd303131": {
          "model_module": "@jupyter-widgets/controls",
          "model_name": "HTMLModel",
          "model_module_version": "1.5.0",
          "state": {
            "_dom_classes": [],
            "_model_module": "@jupyter-widgets/controls",
            "_model_module_version": "1.5.0",
            "_model_name": "HTMLModel",
            "_view_count": null,
            "_view_module": "@jupyter-widgets/controls",
            "_view_module_version": "1.5.0",
            "_view_name": "HTMLView",
            "description": "",
            "description_tooltip": null,
            "layout": "IPY_MODEL_e3549a560d8d4895aea32fa315a5d7c4",
            "placeholder": "​",
            "style": "IPY_MODEL_29a002fb815d4a7ca8268b191298fe07",
            "value": "Downloading (…)okenizer_config.json: 100%"
          }
        },
        "8a8cc61ca1a54884bfd72212385dc665": {
          "model_module": "@jupyter-widgets/controls",
          "model_name": "FloatProgressModel",
          "model_module_version": "1.5.0",
          "state": {
            "_dom_classes": [],
            "_model_module": "@jupyter-widgets/controls",
            "_model_module_version": "1.5.0",
            "_model_name": "FloatProgressModel",
            "_view_count": null,
            "_view_module": "@jupyter-widgets/controls",
            "_view_module_version": "1.5.0",
            "_view_name": "ProgressView",
            "bar_style": "success",
            "description": "",
            "description_tooltip": null,
            "layout": "IPY_MODEL_b576b0d7880e4712a4922155e135799a",
            "max": 29,
            "min": 0,
            "orientation": "horizontal",
            "style": "IPY_MODEL_c433b02568d449a8a48955b24891e8a9",
            "value": 29
          }
        },
        "bb2b5fba01b94f2b9f9acb0d37ef5c8c": {
          "model_module": "@jupyter-widgets/controls",
          "model_name": "HTMLModel",
          "model_module_version": "1.5.0",
          "state": {
            "_dom_classes": [],
            "_model_module": "@jupyter-widgets/controls",
            "_model_module_version": "1.5.0",
            "_model_name": "HTMLModel",
            "_view_count": null,
            "_view_module": "@jupyter-widgets/controls",
            "_view_module_version": "1.5.0",
            "_view_name": "HTMLView",
            "description": "",
            "description_tooltip": null,
            "layout": "IPY_MODEL_7b03144012b44354be05cb5020273231",
            "placeholder": "​",
            "style": "IPY_MODEL_ccbbc14ca39c4282836069d16e0aca1c",
            "value": " 29.0/29.0 [00:00&lt;00:00, 1.52kB/s]"
          }
        },
        "2908aca1b87847cfaccc1396c25aeabd": {
          "model_module": "@jupyter-widgets/base",
          "model_name": "LayoutModel",
          "model_module_version": "1.2.0",
          "state": {
            "_model_module": "@jupyter-widgets/base",
            "_model_module_version": "1.2.0",
            "_model_name": "LayoutModel",
            "_view_count": null,
            "_view_module": "@jupyter-widgets/base",
            "_view_module_version": "1.2.0",
            "_view_name": "LayoutView",
            "align_content": null,
            "align_items": null,
            "align_self": null,
            "border": null,
            "bottom": null,
            "display": null,
            "flex": null,
            "flex_flow": null,
            "grid_area": null,
            "grid_auto_columns": null,
            "grid_auto_flow": null,
            "grid_auto_rows": null,
            "grid_column": null,
            "grid_gap": null,
            "grid_row": null,
            "grid_template_areas": null,
            "grid_template_columns": null,
            "grid_template_rows": null,
            "height": null,
            "justify_content": null,
            "justify_items": null,
            "left": null,
            "margin": null,
            "max_height": null,
            "max_width": null,
            "min_height": null,
            "min_width": null,
            "object_fit": null,
            "object_position": null,
            "order": null,
            "overflow": null,
            "overflow_x": null,
            "overflow_y": null,
            "padding": null,
            "right": null,
            "top": null,
            "visibility": null,
            "width": null
          }
        },
        "e3549a560d8d4895aea32fa315a5d7c4": {
          "model_module": "@jupyter-widgets/base",
          "model_name": "LayoutModel",
          "model_module_version": "1.2.0",
          "state": {
            "_model_module": "@jupyter-widgets/base",
            "_model_module_version": "1.2.0",
            "_model_name": "LayoutModel",
            "_view_count": null,
            "_view_module": "@jupyter-widgets/base",
            "_view_module_version": "1.2.0",
            "_view_name": "LayoutView",
            "align_content": null,
            "align_items": null,
            "align_self": null,
            "border": null,
            "bottom": null,
            "display": null,
            "flex": null,
            "flex_flow": null,
            "grid_area": null,
            "grid_auto_columns": null,
            "grid_auto_flow": null,
            "grid_auto_rows": null,
            "grid_column": null,
            "grid_gap": null,
            "grid_row": null,
            "grid_template_areas": null,
            "grid_template_columns": null,
            "grid_template_rows": null,
            "height": null,
            "justify_content": null,
            "justify_items": null,
            "left": null,
            "margin": null,
            "max_height": null,
            "max_width": null,
            "min_height": null,
            "min_width": null,
            "object_fit": null,
            "object_position": null,
            "order": null,
            "overflow": null,
            "overflow_x": null,
            "overflow_y": null,
            "padding": null,
            "right": null,
            "top": null,
            "visibility": null,
            "width": null
          }
        },
        "29a002fb815d4a7ca8268b191298fe07": {
          "model_module": "@jupyter-widgets/controls",
          "model_name": "DescriptionStyleModel",
          "model_module_version": "1.5.0",
          "state": {
            "_model_module": "@jupyter-widgets/controls",
            "_model_module_version": "1.5.0",
            "_model_name": "DescriptionStyleModel",
            "_view_count": null,
            "_view_module": "@jupyter-widgets/base",
            "_view_module_version": "1.2.0",
            "_view_name": "StyleView",
            "description_width": ""
          }
        },
        "b576b0d7880e4712a4922155e135799a": {
          "model_module": "@jupyter-widgets/base",
          "model_name": "LayoutModel",
          "model_module_version": "1.2.0",
          "state": {
            "_model_module": "@jupyter-widgets/base",
            "_model_module_version": "1.2.0",
            "_model_name": "LayoutModel",
            "_view_count": null,
            "_view_module": "@jupyter-widgets/base",
            "_view_module_version": "1.2.0",
            "_view_name": "LayoutView",
            "align_content": null,
            "align_items": null,
            "align_self": null,
            "border": null,
            "bottom": null,
            "display": null,
            "flex": null,
            "flex_flow": null,
            "grid_area": null,
            "grid_auto_columns": null,
            "grid_auto_flow": null,
            "grid_auto_rows": null,
            "grid_column": null,
            "grid_gap": null,
            "grid_row": null,
            "grid_template_areas": null,
            "grid_template_columns": null,
            "grid_template_rows": null,
            "height": null,
            "justify_content": null,
            "justify_items": null,
            "left": null,
            "margin": null,
            "max_height": null,
            "max_width": null,
            "min_height": null,
            "min_width": null,
            "object_fit": null,
            "object_position": null,
            "order": null,
            "overflow": null,
            "overflow_x": null,
            "overflow_y": null,
            "padding": null,
            "right": null,
            "top": null,
            "visibility": null,
            "width": null
          }
        },
        "c433b02568d449a8a48955b24891e8a9": {
          "model_module": "@jupyter-widgets/controls",
          "model_name": "ProgressStyleModel",
          "model_module_version": "1.5.0",
          "state": {
            "_model_module": "@jupyter-widgets/controls",
            "_model_module_version": "1.5.0",
            "_model_name": "ProgressStyleModel",
            "_view_count": null,
            "_view_module": "@jupyter-widgets/base",
            "_view_module_version": "1.2.0",
            "_view_name": "StyleView",
            "bar_color": null,
            "description_width": ""
          }
        },
        "7b03144012b44354be05cb5020273231": {
          "model_module": "@jupyter-widgets/base",
          "model_name": "LayoutModel",
          "model_module_version": "1.2.0",
          "state": {
            "_model_module": "@jupyter-widgets/base",
            "_model_module_version": "1.2.0",
            "_model_name": "LayoutModel",
            "_view_count": null,
            "_view_module": "@jupyter-widgets/base",
            "_view_module_version": "1.2.0",
            "_view_name": "LayoutView",
            "align_content": null,
            "align_items": null,
            "align_self": null,
            "border": null,
            "bottom": null,
            "display": null,
            "flex": null,
            "flex_flow": null,
            "grid_area": null,
            "grid_auto_columns": null,
            "grid_auto_flow": null,
            "grid_auto_rows": null,
            "grid_column": null,
            "grid_gap": null,
            "grid_row": null,
            "grid_template_areas": null,
            "grid_template_columns": null,
            "grid_template_rows": null,
            "height": null,
            "justify_content": null,
            "justify_items": null,
            "left": null,
            "margin": null,
            "max_height": null,
            "max_width": null,
            "min_height": null,
            "min_width": null,
            "object_fit": null,
            "object_position": null,
            "order": null,
            "overflow": null,
            "overflow_x": null,
            "overflow_y": null,
            "padding": null,
            "right": null,
            "top": null,
            "visibility": null,
            "width": null
          }
        },
        "ccbbc14ca39c4282836069d16e0aca1c": {
          "model_module": "@jupyter-widgets/controls",
          "model_name": "DescriptionStyleModel",
          "model_module_version": "1.5.0",
          "state": {
            "_model_module": "@jupyter-widgets/controls",
            "_model_module_version": "1.5.0",
            "_model_name": "DescriptionStyleModel",
            "_view_count": null,
            "_view_module": "@jupyter-widgets/base",
            "_view_module_version": "1.2.0",
            "_view_name": "StyleView",
            "description_width": ""
          }
        },
        "873ab049785c4817b2dd45cd6059f7bd": {
          "model_module": "@jupyter-widgets/controls",
          "model_name": "HBoxModel",
          "model_module_version": "1.5.0",
          "state": {
            "_dom_classes": [],
            "_model_module": "@jupyter-widgets/controls",
            "_model_module_version": "1.5.0",
            "_model_name": "HBoxModel",
            "_view_count": null,
            "_view_module": "@jupyter-widgets/controls",
            "_view_module_version": "1.5.0",
            "_view_name": "HBoxView",
            "box_style": "",
            "children": [
              "IPY_MODEL_4dcaff8363ec40e88202fd7bda2d52f6",
              "IPY_MODEL_8ec47f0c9cfb4edb871de4affea91d7a",
              "IPY_MODEL_70a834daebfa44ea9beee76d5ffa71d2"
            ],
            "layout": "IPY_MODEL_7a77f33a12844948ae8c1484a33b1ad5"
          }
        },
        "4dcaff8363ec40e88202fd7bda2d52f6": {
          "model_module": "@jupyter-widgets/controls",
          "model_name": "HTMLModel",
          "model_module_version": "1.5.0",
          "state": {
            "_dom_classes": [],
            "_model_module": "@jupyter-widgets/controls",
            "_model_module_version": "1.5.0",
            "_model_name": "HTMLModel",
            "_view_count": null,
            "_view_module": "@jupyter-widgets/controls",
            "_view_module_version": "1.5.0",
            "_view_name": "HTMLView",
            "description": "",
            "description_tooltip": null,
            "layout": "IPY_MODEL_0f0914b796f143a0a468aad74e38a77a",
            "placeholder": "​",
            "style": "IPY_MODEL_5b227e11a82c4e1185a3bb6b84642b85",
            "value": "Downloading (…)lve/main/config.json: 100%"
          }
        },
        "8ec47f0c9cfb4edb871de4affea91d7a": {
          "model_module": "@jupyter-widgets/controls",
          "model_name": "FloatProgressModel",
          "model_module_version": "1.5.0",
          "state": {
            "_dom_classes": [],
            "_model_module": "@jupyter-widgets/controls",
            "_model_module_version": "1.5.0",
            "_model_name": "FloatProgressModel",
            "_view_count": null,
            "_view_module": "@jupyter-widgets/controls",
            "_view_module_version": "1.5.0",
            "_view_name": "ProgressView",
            "bar_style": "success",
            "description": "",
            "description_tooltip": null,
            "layout": "IPY_MODEL_db4f80cf6dae42b8b59f7679671d6ff3",
            "max": 570,
            "min": 0,
            "orientation": "horizontal",
            "style": "IPY_MODEL_193b4469909a4a2699cbbb73bb6dac39",
            "value": 570
          }
        },
        "70a834daebfa44ea9beee76d5ffa71d2": {
          "model_module": "@jupyter-widgets/controls",
          "model_name": "HTMLModel",
          "model_module_version": "1.5.0",
          "state": {
            "_dom_classes": [],
            "_model_module": "@jupyter-widgets/controls",
            "_model_module_version": "1.5.0",
            "_model_name": "HTMLModel",
            "_view_count": null,
            "_view_module": "@jupyter-widgets/controls",
            "_view_module_version": "1.5.0",
            "_view_name": "HTMLView",
            "description": "",
            "description_tooltip": null,
            "layout": "IPY_MODEL_53f70b1e6bbf4e6ea1cee44ce4277f94",
            "placeholder": "​",
            "style": "IPY_MODEL_b1407a0a73c74354a593ec0f3ddb2443",
            "value": " 570/570 [00:00&lt;00:00, 31.8kB/s]"
          }
        },
        "7a77f33a12844948ae8c1484a33b1ad5": {
          "model_module": "@jupyter-widgets/base",
          "model_name": "LayoutModel",
          "model_module_version": "1.2.0",
          "state": {
            "_model_module": "@jupyter-widgets/base",
            "_model_module_version": "1.2.0",
            "_model_name": "LayoutModel",
            "_view_count": null,
            "_view_module": "@jupyter-widgets/base",
            "_view_module_version": "1.2.0",
            "_view_name": "LayoutView",
            "align_content": null,
            "align_items": null,
            "align_self": null,
            "border": null,
            "bottom": null,
            "display": null,
            "flex": null,
            "flex_flow": null,
            "grid_area": null,
            "grid_auto_columns": null,
            "grid_auto_flow": null,
            "grid_auto_rows": null,
            "grid_column": null,
            "grid_gap": null,
            "grid_row": null,
            "grid_template_areas": null,
            "grid_template_columns": null,
            "grid_template_rows": null,
            "height": null,
            "justify_content": null,
            "justify_items": null,
            "left": null,
            "margin": null,
            "max_height": null,
            "max_width": null,
            "min_height": null,
            "min_width": null,
            "object_fit": null,
            "object_position": null,
            "order": null,
            "overflow": null,
            "overflow_x": null,
            "overflow_y": null,
            "padding": null,
            "right": null,
            "top": null,
            "visibility": null,
            "width": null
          }
        },
        "0f0914b796f143a0a468aad74e38a77a": {
          "model_module": "@jupyter-widgets/base",
          "model_name": "LayoutModel",
          "model_module_version": "1.2.0",
          "state": {
            "_model_module": "@jupyter-widgets/base",
            "_model_module_version": "1.2.0",
            "_model_name": "LayoutModel",
            "_view_count": null,
            "_view_module": "@jupyter-widgets/base",
            "_view_module_version": "1.2.0",
            "_view_name": "LayoutView",
            "align_content": null,
            "align_items": null,
            "align_self": null,
            "border": null,
            "bottom": null,
            "display": null,
            "flex": null,
            "flex_flow": null,
            "grid_area": null,
            "grid_auto_columns": null,
            "grid_auto_flow": null,
            "grid_auto_rows": null,
            "grid_column": null,
            "grid_gap": null,
            "grid_row": null,
            "grid_template_areas": null,
            "grid_template_columns": null,
            "grid_template_rows": null,
            "height": null,
            "justify_content": null,
            "justify_items": null,
            "left": null,
            "margin": null,
            "max_height": null,
            "max_width": null,
            "min_height": null,
            "min_width": null,
            "object_fit": null,
            "object_position": null,
            "order": null,
            "overflow": null,
            "overflow_x": null,
            "overflow_y": null,
            "padding": null,
            "right": null,
            "top": null,
            "visibility": null,
            "width": null
          }
        },
        "5b227e11a82c4e1185a3bb6b84642b85": {
          "model_module": "@jupyter-widgets/controls",
          "model_name": "DescriptionStyleModel",
          "model_module_version": "1.5.0",
          "state": {
            "_model_module": "@jupyter-widgets/controls",
            "_model_module_version": "1.5.0",
            "_model_name": "DescriptionStyleModel",
            "_view_count": null,
            "_view_module": "@jupyter-widgets/base",
            "_view_module_version": "1.2.0",
            "_view_name": "StyleView",
            "description_width": ""
          }
        },
        "db4f80cf6dae42b8b59f7679671d6ff3": {
          "model_module": "@jupyter-widgets/base",
          "model_name": "LayoutModel",
          "model_module_version": "1.2.0",
          "state": {
            "_model_module": "@jupyter-widgets/base",
            "_model_module_version": "1.2.0",
            "_model_name": "LayoutModel",
            "_view_count": null,
            "_view_module": "@jupyter-widgets/base",
            "_view_module_version": "1.2.0",
            "_view_name": "LayoutView",
            "align_content": null,
            "align_items": null,
            "align_self": null,
            "border": null,
            "bottom": null,
            "display": null,
            "flex": null,
            "flex_flow": null,
            "grid_area": null,
            "grid_auto_columns": null,
            "grid_auto_flow": null,
            "grid_auto_rows": null,
            "grid_column": null,
            "grid_gap": null,
            "grid_row": null,
            "grid_template_areas": null,
            "grid_template_columns": null,
            "grid_template_rows": null,
            "height": null,
            "justify_content": null,
            "justify_items": null,
            "left": null,
            "margin": null,
            "max_height": null,
            "max_width": null,
            "min_height": null,
            "min_width": null,
            "object_fit": null,
            "object_position": null,
            "order": null,
            "overflow": null,
            "overflow_x": null,
            "overflow_y": null,
            "padding": null,
            "right": null,
            "top": null,
            "visibility": null,
            "width": null
          }
        },
        "193b4469909a4a2699cbbb73bb6dac39": {
          "model_module": "@jupyter-widgets/controls",
          "model_name": "ProgressStyleModel",
          "model_module_version": "1.5.0",
          "state": {
            "_model_module": "@jupyter-widgets/controls",
            "_model_module_version": "1.5.0",
            "_model_name": "ProgressStyleModel",
            "_view_count": null,
            "_view_module": "@jupyter-widgets/base",
            "_view_module_version": "1.2.0",
            "_view_name": "StyleView",
            "bar_color": null,
            "description_width": ""
          }
        },
        "53f70b1e6bbf4e6ea1cee44ce4277f94": {
          "model_module": "@jupyter-widgets/base",
          "model_name": "LayoutModel",
          "model_module_version": "1.2.0",
          "state": {
            "_model_module": "@jupyter-widgets/base",
            "_model_module_version": "1.2.0",
            "_model_name": "LayoutModel",
            "_view_count": null,
            "_view_module": "@jupyter-widgets/base",
            "_view_module_version": "1.2.0",
            "_view_name": "LayoutView",
            "align_content": null,
            "align_items": null,
            "align_self": null,
            "border": null,
            "bottom": null,
            "display": null,
            "flex": null,
            "flex_flow": null,
            "grid_area": null,
            "grid_auto_columns": null,
            "grid_auto_flow": null,
            "grid_auto_rows": null,
            "grid_column": null,
            "grid_gap": null,
            "grid_row": null,
            "grid_template_areas": null,
            "grid_template_columns": null,
            "grid_template_rows": null,
            "height": null,
            "justify_content": null,
            "justify_items": null,
            "left": null,
            "margin": null,
            "max_height": null,
            "max_width": null,
            "min_height": null,
            "min_width": null,
            "object_fit": null,
            "object_position": null,
            "order": null,
            "overflow": null,
            "overflow_x": null,
            "overflow_y": null,
            "padding": null,
            "right": null,
            "top": null,
            "visibility": null,
            "width": null
          }
        },
        "b1407a0a73c74354a593ec0f3ddb2443": {
          "model_module": "@jupyter-widgets/controls",
          "model_name": "DescriptionStyleModel",
          "model_module_version": "1.5.0",
          "state": {
            "_model_module": "@jupyter-widgets/controls",
            "_model_module_version": "1.5.0",
            "_model_name": "DescriptionStyleModel",
            "_view_count": null,
            "_view_module": "@jupyter-widgets/base",
            "_view_module_version": "1.2.0",
            "_view_name": "StyleView",
            "description_width": ""
          }
        },
        "2133831aafc9477e9b1fb0a00d0331f9": {
          "model_module": "@jupyter-widgets/controls",
          "model_name": "HBoxModel",
          "model_module_version": "1.5.0",
          "state": {
            "_dom_classes": [],
            "_model_module": "@jupyter-widgets/controls",
            "_model_module_version": "1.5.0",
            "_model_name": "HBoxModel",
            "_view_count": null,
            "_view_module": "@jupyter-widgets/controls",
            "_view_module_version": "1.5.0",
            "_view_name": "HBoxView",
            "box_style": "",
            "children": [
              "IPY_MODEL_aba8ad27ac3c493490dde2e054a1a63a",
              "IPY_MODEL_1e4335456bc543a4a939974a34bd774e",
              "IPY_MODEL_1d82f47fd9aa4a9e99534f30a07a4bd8"
            ],
            "layout": "IPY_MODEL_fbf97c52453843c999a9293292aa1052"
          }
        },
        "aba8ad27ac3c493490dde2e054a1a63a": {
          "model_module": "@jupyter-widgets/controls",
          "model_name": "HTMLModel",
          "model_module_version": "1.5.0",
          "state": {
            "_dom_classes": [],
            "_model_module": "@jupyter-widgets/controls",
            "_model_module_version": "1.5.0",
            "_model_name": "HTMLModel",
            "_view_count": null,
            "_view_module": "@jupyter-widgets/controls",
            "_view_module_version": "1.5.0",
            "_view_name": "HTMLView",
            "description": "",
            "description_tooltip": null,
            "layout": "IPY_MODEL_8deb6da1b884472a8e81e43e27fd4536",
            "placeholder": "​",
            "style": "IPY_MODEL_753a1a1076394411ba5cf7eb5a4f8fd2",
            "value": "Downloading pytorch_model.bin: 100%"
          }
        },
        "1e4335456bc543a4a939974a34bd774e": {
          "model_module": "@jupyter-widgets/controls",
          "model_name": "FloatProgressModel",
          "model_module_version": "1.5.0",
          "state": {
            "_dom_classes": [],
            "_model_module": "@jupyter-widgets/controls",
            "_model_module_version": "1.5.0",
            "_model_name": "FloatProgressModel",
            "_view_count": null,
            "_view_module": "@jupyter-widgets/controls",
            "_view_module_version": "1.5.0",
            "_view_name": "ProgressView",
            "bar_style": "success",
            "description": "",
            "description_tooltip": null,
            "layout": "IPY_MODEL_cb9e8b28aab647d68af5741c76b6fb07",
            "max": 435779157,
            "min": 0,
            "orientation": "horizontal",
            "style": "IPY_MODEL_16d643be00f84a40a90ff4362b9c901b",
            "value": 435779157
          }
        },
        "1d82f47fd9aa4a9e99534f30a07a4bd8": {
          "model_module": "@jupyter-widgets/controls",
          "model_name": "HTMLModel",
          "model_module_version": "1.5.0",
          "state": {
            "_dom_classes": [],
            "_model_module": "@jupyter-widgets/controls",
            "_model_module_version": "1.5.0",
            "_model_name": "HTMLModel",
            "_view_count": null,
            "_view_module": "@jupyter-widgets/controls",
            "_view_module_version": "1.5.0",
            "_view_name": "HTMLView",
            "description": "",
            "description_tooltip": null,
            "layout": "IPY_MODEL_2c5c6ef1dcec42399d4fae59e017762e",
            "placeholder": "​",
            "style": "IPY_MODEL_09f6f6f7dddc4fb895b39fb42b8e91be",
            "value": " 436M/436M [00:01&lt;00:00, 266MB/s]"
          }
        },
        "fbf97c52453843c999a9293292aa1052": {
          "model_module": "@jupyter-widgets/base",
          "model_name": "LayoutModel",
          "model_module_version": "1.2.0",
          "state": {
            "_model_module": "@jupyter-widgets/base",
            "_model_module_version": "1.2.0",
            "_model_name": "LayoutModel",
            "_view_count": null,
            "_view_module": "@jupyter-widgets/base",
            "_view_module_version": "1.2.0",
            "_view_name": "LayoutView",
            "align_content": null,
            "align_items": null,
            "align_self": null,
            "border": null,
            "bottom": null,
            "display": null,
            "flex": null,
            "flex_flow": null,
            "grid_area": null,
            "grid_auto_columns": null,
            "grid_auto_flow": null,
            "grid_auto_rows": null,
            "grid_column": null,
            "grid_gap": null,
            "grid_row": null,
            "grid_template_areas": null,
            "grid_template_columns": null,
            "grid_template_rows": null,
            "height": null,
            "justify_content": null,
            "justify_items": null,
            "left": null,
            "margin": null,
            "max_height": null,
            "max_width": null,
            "min_height": null,
            "min_width": null,
            "object_fit": null,
            "object_position": null,
            "order": null,
            "overflow": null,
            "overflow_x": null,
            "overflow_y": null,
            "padding": null,
            "right": null,
            "top": null,
            "visibility": null,
            "width": null
          }
        },
        "8deb6da1b884472a8e81e43e27fd4536": {
          "model_module": "@jupyter-widgets/base",
          "model_name": "LayoutModel",
          "model_module_version": "1.2.0",
          "state": {
            "_model_module": "@jupyter-widgets/base",
            "_model_module_version": "1.2.0",
            "_model_name": "LayoutModel",
            "_view_count": null,
            "_view_module": "@jupyter-widgets/base",
            "_view_module_version": "1.2.0",
            "_view_name": "LayoutView",
            "align_content": null,
            "align_items": null,
            "align_self": null,
            "border": null,
            "bottom": null,
            "display": null,
            "flex": null,
            "flex_flow": null,
            "grid_area": null,
            "grid_auto_columns": null,
            "grid_auto_flow": null,
            "grid_auto_rows": null,
            "grid_column": null,
            "grid_gap": null,
            "grid_row": null,
            "grid_template_areas": null,
            "grid_template_columns": null,
            "grid_template_rows": null,
            "height": null,
            "justify_content": null,
            "justify_items": null,
            "left": null,
            "margin": null,
            "max_height": null,
            "max_width": null,
            "min_height": null,
            "min_width": null,
            "object_fit": null,
            "object_position": null,
            "order": null,
            "overflow": null,
            "overflow_x": null,
            "overflow_y": null,
            "padding": null,
            "right": null,
            "top": null,
            "visibility": null,
            "width": null
          }
        },
        "753a1a1076394411ba5cf7eb5a4f8fd2": {
          "model_module": "@jupyter-widgets/controls",
          "model_name": "DescriptionStyleModel",
          "model_module_version": "1.5.0",
          "state": {
            "_model_module": "@jupyter-widgets/controls",
            "_model_module_version": "1.5.0",
            "_model_name": "DescriptionStyleModel",
            "_view_count": null,
            "_view_module": "@jupyter-widgets/base",
            "_view_module_version": "1.2.0",
            "_view_name": "StyleView",
            "description_width": ""
          }
        },
        "cb9e8b28aab647d68af5741c76b6fb07": {
          "model_module": "@jupyter-widgets/base",
          "model_name": "LayoutModel",
          "model_module_version": "1.2.0",
          "state": {
            "_model_module": "@jupyter-widgets/base",
            "_model_module_version": "1.2.0",
            "_model_name": "LayoutModel",
            "_view_count": null,
            "_view_module": "@jupyter-widgets/base",
            "_view_module_version": "1.2.0",
            "_view_name": "LayoutView",
            "align_content": null,
            "align_items": null,
            "align_self": null,
            "border": null,
            "bottom": null,
            "display": null,
            "flex": null,
            "flex_flow": null,
            "grid_area": null,
            "grid_auto_columns": null,
            "grid_auto_flow": null,
            "grid_auto_rows": null,
            "grid_column": null,
            "grid_gap": null,
            "grid_row": null,
            "grid_template_areas": null,
            "grid_template_columns": null,
            "grid_template_rows": null,
            "height": null,
            "justify_content": null,
            "justify_items": null,
            "left": null,
            "margin": null,
            "max_height": null,
            "max_width": null,
            "min_height": null,
            "min_width": null,
            "object_fit": null,
            "object_position": null,
            "order": null,
            "overflow": null,
            "overflow_x": null,
            "overflow_y": null,
            "padding": null,
            "right": null,
            "top": null,
            "visibility": null,
            "width": null
          }
        },
        "16d643be00f84a40a90ff4362b9c901b": {
          "model_module": "@jupyter-widgets/controls",
          "model_name": "ProgressStyleModel",
          "model_module_version": "1.5.0",
          "state": {
            "_model_module": "@jupyter-widgets/controls",
            "_model_module_version": "1.5.0",
            "_model_name": "ProgressStyleModel",
            "_view_count": null,
            "_view_module": "@jupyter-widgets/base",
            "_view_module_version": "1.2.0",
            "_view_name": "StyleView",
            "bar_color": null,
            "description_width": ""
          }
        },
        "2c5c6ef1dcec42399d4fae59e017762e": {
          "model_module": "@jupyter-widgets/base",
          "model_name": "LayoutModel",
          "model_module_version": "1.2.0",
          "state": {
            "_model_module": "@jupyter-widgets/base",
            "_model_module_version": "1.2.0",
            "_model_name": "LayoutModel",
            "_view_count": null,
            "_view_module": "@jupyter-widgets/base",
            "_view_module_version": "1.2.0",
            "_view_name": "LayoutView",
            "align_content": null,
            "align_items": null,
            "align_self": null,
            "border": null,
            "bottom": null,
            "display": null,
            "flex": null,
            "flex_flow": null,
            "grid_area": null,
            "grid_auto_columns": null,
            "grid_auto_flow": null,
            "grid_auto_rows": null,
            "grid_column": null,
            "grid_gap": null,
            "grid_row": null,
            "grid_template_areas": null,
            "grid_template_columns": null,
            "grid_template_rows": null,
            "height": null,
            "justify_content": null,
            "justify_items": null,
            "left": null,
            "margin": null,
            "max_height": null,
            "max_width": null,
            "min_height": null,
            "min_width": null,
            "object_fit": null,
            "object_position": null,
            "order": null,
            "overflow": null,
            "overflow_x": null,
            "overflow_y": null,
            "padding": null,
            "right": null,
            "top": null,
            "visibility": null,
            "width": null
          }
        },
        "09f6f6f7dddc4fb895b39fb42b8e91be": {
          "model_module": "@jupyter-widgets/controls",
          "model_name": "DescriptionStyleModel",
          "model_module_version": "1.5.0",
          "state": {
            "_model_module": "@jupyter-widgets/controls",
            "_model_module_version": "1.5.0",
            "_model_name": "DescriptionStyleModel",
            "_view_count": null,
            "_view_module": "@jupyter-widgets/base",
            "_view_module_version": "1.2.0",
            "_view_name": "StyleView",
            "description_width": ""
          }
        }
      }
    }
  },
  "cells": [
    {
      "cell_type": "markdown",
      "source": [
        "In this notebook we will fine tune BERT Transformer model from Hugging Face on the custom dataset for multi-class classification using the Toxic comments dataset."
      ],
      "metadata": {
        "id": "oOvRtsWlsIxS"
      }
    },
    {
      "cell_type": "code",
      "execution_count": 1,
      "metadata": {
        "id": "RuRaP-P8sHHT"
      },
      "outputs": [],
      "source": [
        "%%capture\n",
        "!pip install transformers"
      ]
    },
    {
      "cell_type": "code",
      "source": [
        "import pandas as pd\n",
        "import torch\n",
        "import numpy as np\n",
        "import re\n",
        "import string\n",
        "from transformers import BertTokenizer, BertModel\n",
        "from torch import nn\n",
        "from torch.optim import Adam\n",
        "from tqdm import tqdm\n",
        "from sklearn.model_selection import train_test_split\n",
        "import matplotlib.pyplot as plt"
      ],
      "metadata": {
        "id": "9b8USgj3sJ5d"
      },
      "execution_count": 2,
      "outputs": []
    },
    {
      "cell_type": "code",
      "source": [
        "from google.colab import drive\n",
        "drive.mount('/content/drive')"
      ],
      "metadata": {
        "colab": {
          "base_uri": "https://localhost:8080/"
        },
        "id": "NyQ0j0BDsXJo",
        "outputId": "5e881d1e-ef35-40dd-90dd-37ca2dd5a704"
      },
      "execution_count": 3,
      "outputs": [
        {
          "output_type": "stream",
          "name": "stdout",
          "text": [
            "Mounted at /content/drive\n"
          ]
        }
      ]
    },
    {
      "cell_type": "code",
      "source": [
        "data = pd.read_csv(\"/content/drive/MyDrive/toxic_comments_train.csv\")\n",
        "data.head()"
      ],
      "metadata": {
        "colab": {
          "base_uri": "https://localhost:8080/",
          "height": 206
        },
        "id": "ponocUrPsZON",
        "outputId": "66907ee1-5419-4ec4-af82-d601d2ff550c"
      },
      "execution_count": 4,
      "outputs": [
        {
          "output_type": "execute_result",
          "data": {
            "text/plain": [
              "                 id                                       comment_text  toxic  \\\n",
              "0  0000997932d777bf  Explanation\\nWhy the edits made under my usern...      0   \n",
              "1  000103f0d9cfb60f  D'aww! He matches this background colour I'm s...      0   \n",
              "2  000113f07ec002fd  Hey man, I'm really not trying to edit war. It...      0   \n",
              "3  0001b41b1c6bb37e  \"\\nMore\\nI can't make any real suggestions on ...      0   \n",
              "4  0001d958c54c6e35  You, sir, are my hero. Any chance you remember...      0   \n",
              "\n",
              "   severe_toxic  obscene  threat  insult  identity_hate  \n",
              "0             0        0       0       0              0  \n",
              "1             0        0       0       0              0  \n",
              "2             0        0       0       0              0  \n",
              "3             0        0       0       0              0  \n",
              "4             0        0       0       0              0  "
            ],
            "text/html": [
              "\n",
              "  <div id=\"df-6f663f9c-9dd0-4f1c-95dd-840cc659dd6e\">\n",
              "    <div class=\"colab-df-container\">\n",
              "      <div>\n",
              "<style scoped>\n",
              "    .dataframe tbody tr th:only-of-type {\n",
              "        vertical-align: middle;\n",
              "    }\n",
              "\n",
              "    .dataframe tbody tr th {\n",
              "        vertical-align: top;\n",
              "    }\n",
              "\n",
              "    .dataframe thead th {\n",
              "        text-align: right;\n",
              "    }\n",
              "</style>\n",
              "<table border=\"1\" class=\"dataframe\">\n",
              "  <thead>\n",
              "    <tr style=\"text-align: right;\">\n",
              "      <th></th>\n",
              "      <th>id</th>\n",
              "      <th>comment_text</th>\n",
              "      <th>toxic</th>\n",
              "      <th>severe_toxic</th>\n",
              "      <th>obscene</th>\n",
              "      <th>threat</th>\n",
              "      <th>insult</th>\n",
              "      <th>identity_hate</th>\n",
              "    </tr>\n",
              "  </thead>\n",
              "  <tbody>\n",
              "    <tr>\n",
              "      <th>0</th>\n",
              "      <td>0000997932d777bf</td>\n",
              "      <td>Explanation\\nWhy the edits made under my usern...</td>\n",
              "      <td>0</td>\n",
              "      <td>0</td>\n",
              "      <td>0</td>\n",
              "      <td>0</td>\n",
              "      <td>0</td>\n",
              "      <td>0</td>\n",
              "    </tr>\n",
              "    <tr>\n",
              "      <th>1</th>\n",
              "      <td>000103f0d9cfb60f</td>\n",
              "      <td>D'aww! He matches this background colour I'm s...</td>\n",
              "      <td>0</td>\n",
              "      <td>0</td>\n",
              "      <td>0</td>\n",
              "      <td>0</td>\n",
              "      <td>0</td>\n",
              "      <td>0</td>\n",
              "    </tr>\n",
              "    <tr>\n",
              "      <th>2</th>\n",
              "      <td>000113f07ec002fd</td>\n",
              "      <td>Hey man, I'm really not trying to edit war. It...</td>\n",
              "      <td>0</td>\n",
              "      <td>0</td>\n",
              "      <td>0</td>\n",
              "      <td>0</td>\n",
              "      <td>0</td>\n",
              "      <td>0</td>\n",
              "    </tr>\n",
              "    <tr>\n",
              "      <th>3</th>\n",
              "      <td>0001b41b1c6bb37e</td>\n",
              "      <td>\"\\nMore\\nI can't make any real suggestions on ...</td>\n",
              "      <td>0</td>\n",
              "      <td>0</td>\n",
              "      <td>0</td>\n",
              "      <td>0</td>\n",
              "      <td>0</td>\n",
              "      <td>0</td>\n",
              "    </tr>\n",
              "    <tr>\n",
              "      <th>4</th>\n",
              "      <td>0001d958c54c6e35</td>\n",
              "      <td>You, sir, are my hero. Any chance you remember...</td>\n",
              "      <td>0</td>\n",
              "      <td>0</td>\n",
              "      <td>0</td>\n",
              "      <td>0</td>\n",
              "      <td>0</td>\n",
              "      <td>0</td>\n",
              "    </tr>\n",
              "  </tbody>\n",
              "</table>\n",
              "</div>\n",
              "      <button class=\"colab-df-convert\" onclick=\"convertToInteractive('df-6f663f9c-9dd0-4f1c-95dd-840cc659dd6e')\"\n",
              "              title=\"Convert this dataframe to an interactive table.\"\n",
              "              style=\"display:none;\">\n",
              "        \n",
              "  <svg xmlns=\"http://www.w3.org/2000/svg\" height=\"24px\"viewBox=\"0 0 24 24\"\n",
              "       width=\"24px\">\n",
              "    <path d=\"M0 0h24v24H0V0z\" fill=\"none\"/>\n",
              "    <path d=\"M18.56 5.44l.94 2.06.94-2.06 2.06-.94-2.06-.94-.94-2.06-.94 2.06-2.06.94zm-11 1L8.5 8.5l.94-2.06 2.06-.94-2.06-.94L8.5 2.5l-.94 2.06-2.06.94zm10 10l.94 2.06.94-2.06 2.06-.94-2.06-.94-.94-2.06-.94 2.06-2.06.94z\"/><path d=\"M17.41 7.96l-1.37-1.37c-.4-.4-.92-.59-1.43-.59-.52 0-1.04.2-1.43.59L10.3 9.45l-7.72 7.72c-.78.78-.78 2.05 0 2.83L4 21.41c.39.39.9.59 1.41.59.51 0 1.02-.2 1.41-.59l7.78-7.78 2.81-2.81c.8-.78.8-2.07 0-2.86zM5.41 20L4 18.59l7.72-7.72 1.47 1.35L5.41 20z\"/>\n",
              "  </svg>\n",
              "      </button>\n",
              "      \n",
              "  <style>\n",
              "    .colab-df-container {\n",
              "      display:flex;\n",
              "      flex-wrap:wrap;\n",
              "      gap: 12px;\n",
              "    }\n",
              "\n",
              "    .colab-df-convert {\n",
              "      background-color: #E8F0FE;\n",
              "      border: none;\n",
              "      border-radius: 50%;\n",
              "      cursor: pointer;\n",
              "      display: none;\n",
              "      fill: #1967D2;\n",
              "      height: 32px;\n",
              "      padding: 0 0 0 0;\n",
              "      width: 32px;\n",
              "    }\n",
              "\n",
              "    .colab-df-convert:hover {\n",
              "      background-color: #E2EBFA;\n",
              "      box-shadow: 0px 1px 2px rgba(60, 64, 67, 0.3), 0px 1px 3px 1px rgba(60, 64, 67, 0.15);\n",
              "      fill: #174EA6;\n",
              "    }\n",
              "\n",
              "    [theme=dark] .colab-df-convert {\n",
              "      background-color: #3B4455;\n",
              "      fill: #D2E3FC;\n",
              "    }\n",
              "\n",
              "    [theme=dark] .colab-df-convert:hover {\n",
              "      background-color: #434B5C;\n",
              "      box-shadow: 0px 1px 3px 1px rgba(0, 0, 0, 0.15);\n",
              "      filter: drop-shadow(0px 1px 2px rgba(0, 0, 0, 0.3));\n",
              "      fill: #FFFFFF;\n",
              "    }\n",
              "  </style>\n",
              "\n",
              "      <script>\n",
              "        const buttonEl =\n",
              "          document.querySelector('#df-6f663f9c-9dd0-4f1c-95dd-840cc659dd6e button.colab-df-convert');\n",
              "        buttonEl.style.display =\n",
              "          google.colab.kernel.accessAllowed ? 'block' : 'none';\n",
              "\n",
              "        async function convertToInteractive(key) {\n",
              "          const element = document.querySelector('#df-6f663f9c-9dd0-4f1c-95dd-840cc659dd6e');\n",
              "          const dataTable =\n",
              "            await google.colab.kernel.invokeFunction('convertToInteractive',\n",
              "                                                     [key], {});\n",
              "          if (!dataTable) return;\n",
              "\n",
              "          const docLinkHtml = 'Like what you see? Visit the ' +\n",
              "            '<a target=\"_blank\" href=https://colab.research.google.com/notebooks/data_table.ipynb>data table notebook</a>'\n",
              "            + ' to learn more about interactive tables.';\n",
              "          element.innerHTML = '';\n",
              "          dataTable['output_type'] = 'display_data';\n",
              "          await google.colab.output.renderOutput(dataTable, element);\n",
              "          const docLink = document.createElement('div');\n",
              "          docLink.innerHTML = docLinkHtml;\n",
              "          element.appendChild(docLink);\n",
              "        }\n",
              "      </script>\n",
              "    </div>\n",
              "  </div>\n",
              "  "
            ]
          },
          "metadata": {},
          "execution_count": 4
        }
      ]
    },
    {
      "cell_type": "code",
      "source": [
        "len(data)"
      ],
      "metadata": {
        "colab": {
          "base_uri": "https://localhost:8080/"
        },
        "id": "B2wzk9HvsbMd",
        "outputId": "8b52066f-eb7e-4b2e-8d2f-13cf67961528"
      },
      "execution_count": 5,
      "outputs": [
        {
          "output_type": "execute_result",
          "data": {
            "text/plain": [
              "159571"
            ]
          },
          "metadata": {},
          "execution_count": 5
        }
      ]
    },
    {
      "cell_type": "markdown",
      "source": [
        "Let's do a basic pre-processing of the comment text"
      ],
      "metadata": {
        "id": "zyOQOE2zudGL"
      }
    },
    {
      "cell_type": "code",
      "source": [
        "def clean_text(text):\n",
        "    '''Remove text in square brackets,remove links,remove punctuation\n",
        "    and remove words containing numbers.'''\n",
        "    \n",
        "    #pattern = [zero or more character]\n",
        "    text = re.sub('\\[.*?\\]', '', text)\n",
        "    \n",
        "    #pattern = with or without(http),://, one or more non-white space character, OR www, .,one or more non-white space character\n",
        "    text = re.sub('https?://\\S+|www\\.\\S+', '', text)\n",
        "    \n",
        "    #pattern = <, zero or more characters, >, (one or more occurance of >)\n",
        "    text = re.sub('<.*?>+', '', text)\n",
        "    \n",
        "    #pattern = any punctionation\n",
        "    text = re.sub('[%s]' % re.escape(string.punctuation), '', text)\n",
        "    \n",
        "    #pattern = any new line\n",
        "    text = re.sub('\\n', ' ', text)\n",
        "    \n",
        "    #pattern = any from[a-zA-Z0-9_], any from[0-9], any from [a-zA-Z0-9_]\n",
        "    text = re.sub('\\w*\\d\\w*', '', text)\n",
        "    \n",
        "    return text\n",
        "\n",
        "data['comment_text'] = data['comment_text'].apply(clean_text)"
      ],
      "metadata": {
        "id": "XT1r34M8ujpd"
      },
      "execution_count": 6,
      "outputs": []
    },
    {
      "cell_type": "code",
      "source": [
        "# Let's check out first five comments\n",
        "\n",
        "for text in data['comment_text'][0:5]:\n",
        "  print(text, '\\n')"
      ],
      "metadata": {
        "colab": {
          "base_uri": "https://localhost:8080/"
        },
        "id": "qsoWXIeJvXrw",
        "outputId": "014956ee-00a0-4598-daeb-1ae9bec4f4cf"
      },
      "execution_count": 7,
      "outputs": [
        {
          "output_type": "stream",
          "name": "stdout",
          "text": [
            "Explanation Why the edits made under my username Hardcore Metallica Fan were reverted They werent vandalisms just closure on some GAs after I voted at New York Dolls FAC And please dont remove the template from the talk page since Im retired  \n",
            "\n",
            "Daww He matches this background colour Im seemingly stuck with Thanks  talk  January   UTC \n",
            "\n",
            "Hey man Im really not trying to edit war Its just that this guy is constantly removing relevant information and talking to me through edits instead of my talk page He seems to care more about the formatting than the actual info \n",
            "\n",
            " More I cant make any real suggestions on improvement  I wondered if the section statistics should be later on or a subsection of types of accidents  I think the references may need tidying so that they are all in the exact same format ie date format etc I can do that later on if noone else does first  if you have any preferences for formatting style on references or want to do it yourself please let me know  There appears to be a backlog on articles for review so I guess there may be a delay until a reviewer turns up Its listed in the relevant form eg WikipediaGoodarticlenominationsTransport   \n",
            "\n",
            "You sir are my hero Any chance you remember what page thats on \n",
            "\n"
          ]
        }
      ]
    },
    {
      "cell_type": "code",
      "source": [
        "data['clean'] = data['toxic']+data['severe_toxic']+data['obscene']+data['threat']+data['insult']+data['identity_hate']\n",
        "\n",
        "# We will change the value to 1 (meaning non toxic) if the value is 0 and set it to 0 for all other cases\n",
        "data['clean'] = data['clean'].apply(lambda x: 1 if x==0 else 0)\n",
        "\n",
        "data[['clean','toxic', 'severe_toxic', 'obscene', 'threat', 'insult', 'identity_hate']].sum().plot.bar(figsize=(10,5),\n",
        "                                                                                                           title='Comment Categories')\n",
        "data[['clean','toxic', 'severe_toxic', 'obscene', 'threat', 'insult', 'identity_hate']].sum()"
      ],
      "metadata": {
        "colab": {
          "base_uri": "https://localhost:8080/",
          "height": 684
        },
        "id": "SHo_PfT6HMwl",
        "outputId": "cad2bc02-d2b3-4fb8-e138-8c9a80e36a86"
      },
      "execution_count": 8,
      "outputs": [
        {
          "output_type": "execute_result",
          "data": {
            "text/plain": [
              "clean            143346\n",
              "toxic             15294\n",
              "severe_toxic       1595\n",
              "obscene            8449\n",
              "threat              478\n",
              "insult             7877\n",
              "identity_hate      1405\n",
              "dtype: int64"
            ]
          },
          "metadata": {},
          "execution_count": 8
        },
        {
          "output_type": "display_data",
          "data": {
            "text/plain": [
              "<Figure size 1000x500 with 1 Axes>"
            ],
            "image/png": "[encoded data removed]"
          },
          "metadata": {}
        }
      ]
    },
    {
      "cell_type": "markdown",
      "source": [
        "We will try to use around 1000 comments from each category to create a balanced dataset, since 'threat' category has less than 1000 comments available so we shall use all that are available (478) only, and we will use higher quantity for clean comments."
      ],
      "metadata": {
        "id": "SrS2BZEgGsaK"
      }
    },
    {
      "cell_type": "code",
      "source": [
        "categories = [cat for cat in data.columns if cat not in ('id','comment_text','clean')]\n",
        "\n",
        "data_balanced = data[data['clean']==1].sample(3000)\n",
        "\n",
        "for category in categories:\n",
        "\n",
        "  temp = data[data[category]==1]\n",
        "  if len(temp)<1000:\n",
        "    data_balanced = pd.concat([data_balanced, temp], axis=0)\n",
        "  else:\n",
        "    data_balanced = pd.concat([data_balanced, temp.sample(1000)], axis=0)\n",
        "\n",
        "data = data_balanced.drop_duplicates()\n",
        "\n",
        "del temp, data_balanced\n",
        "print(data.shape)"
      ],
      "metadata": {
        "colab": {
          "base_uri": "https://localhost:8080/"
        },
        "id": "sowAAIdbGf0r",
        "outputId": "a6e9bcc1-80bf-46b3-f794-d9562afca920"
      },
      "execution_count": 9,
      "outputs": [
        {
          "output_type": "stream",
          "name": "stdout",
          "text": [
            "(7487, 9)\n"
          ]
        }
      ]
    },
    {
      "cell_type": "code",
      "source": [
        "data[['clean','toxic', 'severe_toxic', 'obscene', 'threat', 'insult', 'identity_hate']].sum().plot.bar(figsize=(10,5),\n",
        "                                                                                                           title='Comment Categories')\n",
        "data[['clean','toxic', 'severe_toxic', 'obscene', 'threat', 'insult', 'identity_hate']].sum()"
      ],
      "metadata": {
        "colab": {
          "base_uri": "https://localhost:8080/",
          "height": 684
        },
        "id": "u71RgxIepJY4",
        "outputId": "1a866f37-bc09-42a5-c3a8-f1dcb6d2bcca"
      },
      "execution_count": 10,
      "outputs": [
        {
          "output_type": "execute_result",
          "data": {
            "text/plain": [
              "clean            3000\n",
              "toxic            4264\n",
              "severe_toxic     1263\n",
              "obscene          3385\n",
              "threat            478\n",
              "insult           3298\n",
              "identity_hate    1159\n",
              "dtype: int64"
            ]
          },
          "metadata": {},
          "execution_count": 10
        },
        {
          "output_type": "display_data",
          "data": {
            "text/plain": [
              "<Figure size 1000x500 with 1 Axes>"
            ],
            "image/png": "[encoded data removed]"
          },
          "metadata": {}
        }
      ]
    },
    {
      "cell_type": "markdown",
      "source": [
        "This looks fine because there are many cases where a comment falls under multiple categories, therefore some categories have count greater than 1000."
      ],
      "metadata": {
        "id": "N7iV28JO-6O1"
      }
    },
    {
      "cell_type": "code",
      "source": [
        "# Splitting the data into train, validation and test sets\n",
        "\n",
        "data = data.sample(frac=1, random_state=40)\n",
        "n = len(data)\n",
        "\n",
        "train = data[0:int(0.7*len(data))]\n",
        "val = data[int(0.7*len(data)):int(0.85*len(data))]\n",
        "test = data[int(0.85*len(data)):]\n",
        "\n",
        "X_train = list(train['comment_text'])\n",
        "categories = train[['clean','toxic', 'severe_toxic', 'obscene', 'threat', 'insult', 'identity_hate']].to_numpy()\n",
        "y_train = [list(label) for label in categories]\n",
        "\n",
        "X_val = list(val['comment_text'])\n",
        "categories = val[['clean','toxic', 'severe_toxic', 'obscene', 'threat', 'insult', 'identity_hate']].to_numpy()\n",
        "y_val = [list(label) for label in categories]\n",
        "\n",
        "X_test = list(test['comment_text'])\n",
        "categories = test[['clean','toxic', 'severe_toxic', 'obscene', 'threat', 'insult', 'identity_hate']].to_numpy()\n",
        "y_test = [list(label) for label in categories]"
      ],
      "metadata": {
        "id": "C81B1ESO3T7r"
      },
      "execution_count": 11,
      "outputs": []
    },
    {
      "cell_type": "markdown",
      "source": [
        "Now let's define the Dataset class"
      ],
      "metadata": {
        "id": "LXneIgs-E4K6"
      }
    },
    {
      "cell_type": "code",
      "source": [
        "# Creating the tokenizer object. Using bert-base-cased since I believe comments in all-caps could have a distinct meaning\n",
        "checkpoint = 'bert-base-cased'\n",
        "tokenizer = BertTokenizer.from_pretrained(checkpoint)\n",
        "\n",
        "class Dataset(torch.utils.data.Dataset):\n",
        "\n",
        "    def __init__(self, X, y):\n",
        "\n",
        "        self.labels = y\n",
        "        self.texts = [tokenizer(text, \n",
        "                                padding='max_length', \n",
        "                                max_length = 512, \n",
        "                                truncation=True,\n",
        "                                return_tensors=\"pt\") for text in X]\n",
        "\n",
        "    def __len__(self):\n",
        "        return len(self.labels)\n",
        "\n",
        "    def __getitem__(self, idx):\n",
        "\n",
        "        texts = self.texts[idx]\n",
        "        label = np.array(self.labels[idx])\n",
        "        return texts, label"
      ],
      "metadata": {
        "id": "QA-6VPqqsjJ_",
        "colab": {
          "base_uri": "https://localhost:8080/",
          "height": 113,
          "referenced_widgets": [
            "4ba88f25c7a44e089f3b3675d1719f16",
            "f234df62fffe430ab8bbaebfd565fdcf",
            "ade730d7cf9b414eba4a42e3139d14ed",
            "41b156ebff3a45f188aeef39a77c5ecd",
            "2b79f391b34744208f86f5fdc35d179b",
            "8e6700711c8a4cdea4ee73b8fffd7407",
            "b4d776f7b55d4a8692de9befa7a23a83",
            "9e7b5deeb10a4ce0b5440657be97369f",
            "fbce909b1b364eceafe473068f48a8cd",
            "da844306aab74644b2d910d41e1a7705",
            "fdd6edefdb0c41bb919f557acc5551b2",
            "f7c67f4db3314e79af57f43da7a7fd4c",
            "6e337edb44754575a1542644dd303131",
            "8a8cc61ca1a54884bfd72212385dc665",
            "bb2b5fba01b94f2b9f9acb0d37ef5c8c",
            "2908aca1b87847cfaccc1396c25aeabd",
            "e3549a560d8d4895aea32fa315a5d7c4",
            "29a002fb815d4a7ca8268b191298fe07",
            "b576b0d7880e4712a4922155e135799a",
            "c433b02568d449a8a48955b24891e8a9",
            "7b03144012b44354be05cb5020273231",
            "ccbbc14ca39c4282836069d16e0aca1c",
            "873ab049785c4817b2dd45cd6059f7bd",
            "4dcaff8363ec40e88202fd7bda2d52f6",
            "8ec47f0c9cfb4edb871de4affea91d7a",
            "70a834daebfa44ea9beee76d5ffa71d2",
            "7a77f33a12844948ae8c1484a33b1ad5",
            "0f0914b796f143a0a468aad74e38a77a",
            "5b227e11a82c4e1185a3bb6b84642b85",
            "db4f80cf6dae42b8b59f7679671d6ff3",
            "193b4469909a4a2699cbbb73bb6dac39",
            "53f70b1e6bbf4e6ea1cee44ce4277f94",
            "b1407a0a73c74354a593ec0f3ddb2443"
          ]
        },
        "outputId": "9e8674a4-514e-4870-a7ae-cd606d3679fe"
      },
      "execution_count": 12,
      "outputs": [
        {
          "output_type": "display_data",
          "data": {
            "text/plain": [
              "Downloading (…)solve/main/vocab.txt:   0%|          | 0.00/213k [00:00<?, ?B/s]"
            ],
            "application/vnd.jupyter.widget-view+json": {
              "version_major": 2,
              "version_minor": 0,
              "model_id": "4ba88f25c7a44e089f3b3675d1719f16"
            }
          },
          "metadata": {}
        },
        {
          "output_type": "display_data",
          "data": {
            "text/plain": [
              "Downloading (…)okenizer_config.json:   0%|          | 0.00/29.0 [00:00<?, ?B/s]"
            ],
            "application/vnd.jupyter.widget-view+json": {
              "version_major": 2,
              "version_minor": 0,
              "model_id": "f7c67f4db3314e79af57f43da7a7fd4c"
            }
          },
          "metadata": {}
        },
        {
          "output_type": "display_data",
          "data": {
            "text/plain": [
              "Downloading (…)lve/main/config.json:   0%|          | 0.00/570 [00:00<?, ?B/s]"
            ],
            "application/vnd.jupyter.widget-view+json": {
              "version_major": 2,
              "version_minor": 0,
              "model_id": "873ab049785c4817b2dd45cd6059f7bd"
            }
          },
          "metadata": {}
        }
      ]
    },
    {
      "cell_type": "markdown",
      "source": [
        "Now let's define the BERT Classifier"
      ],
      "metadata": {
        "id": "H9aPV84XFCX-"
      }
    },
    {
      "cell_type": "code",
      "source": [
        "class BertClassifier(nn.Module):\n",
        "\n",
        "    def __init__(self, dropout=0.4):\n",
        "\n",
        "        super(BertClassifier, self).__init__()\n",
        "\n",
        "        self.bert = BertModel.from_pretrained('bert-base-cased')\n",
        "        self.dropout = nn.Dropout(dropout)\n",
        "        self.linear = nn.Linear(768, 7)  # Since we have 7 classes in the Label\n",
        "        self.relu = nn.ReLU()\n",
        "\n",
        "    def forward(self, input_ids, attention_mask):\n",
        "\n",
        "        _, pooled_output = self.bert(input_ids=input_ids, attention_mask=attention_mask, return_dict=False)\n",
        "        dropout_output = self.dropout(pooled_output)\n",
        "        linear_output = self.linear(dropout_output)\n",
        "        final_layer = self.relu(linear_output)\n",
        "        return final_layer"
      ],
      "metadata": {
        "id": "Pt_3J6jMtu4A"
      },
      "execution_count": 13,
      "outputs": []
    },
    {
      "cell_type": "markdown",
      "source": [
        "Now let's create a training function to train the model"
      ],
      "metadata": {
        "id": "DTnnwGd0Emdx"
      }
    },
    {
      "cell_type": "code",
      "source": [
        "def loss(outputs, targets):\n",
        "  return torch.nn.BCEWithLogitsLoss()(outputs, targets)\n",
        "\n",
        "def accuracy(outputs, targets):\n",
        "  \n",
        "  preds = outputs.argmax(dim=1)\n",
        "  score = 0\n",
        "  for i, labels in enumerate(targets):\n",
        "    if labels[preds[i]] == 1:\n",
        "      score+=1\n",
        "\n",
        "  return score/len(targets)\n",
        "\n",
        "def plot_graphs(epoch_train_acc, epoch_train_loss, epoch_val_acc, epoch_val_loss):\n",
        "\n",
        "  epoch_count = range(len(epoch_train_loss))\n",
        "\n",
        "  plt.figure(figsize=(9,6))\n",
        "  plt.plot(epoch_count, epoch_train_loss, label=\"Train loss\")\n",
        "  plt.plot(epoch_count, epoch_val_loss, label=\"Test loss\")\n",
        "  plt.title(\"Training and Validation Loss Curves\")\n",
        "  plt.xlabel(\"Epochs\")\n",
        "  plt.legend();\n",
        "\n",
        "  plt.figure(figsize=(9,6))\n",
        "  plt.plot(epoch_count, epoch_train_acc, label=\"Train accuracy\")\n",
        "  plt.plot(epoch_count, epoch_val_acc, label=\"Test accuracy\")\n",
        "  plt.title(\"Training and Validation Accuracy Curves\")\n",
        "  plt.xlabel(\"Epochs\")\n",
        "  plt.legend();\n",
        "\n",
        "\n",
        "def train(model, X_train, y_train, X_val, y_val, learning_rate, epochs):\n",
        "\n",
        "  train = Dataset(X_train, y_train)\n",
        "  val = Dataset(X_val, y_val)\n",
        "\n",
        "  train_dataloader = torch.utils.data.DataLoader(train, batch_size=16, shuffle=True)\n",
        "  val_dataloader = torch.utils.data.DataLoader(val, batch_size=16)  \n",
        "\n",
        "  optimizer = Adam(model.parameters(), lr=learning_rate)\n",
        "\n",
        "  cuda_available = torch.cuda.is_available()\n",
        "  device = torch.device(\"cuda\" if cuda_available else \"cpu\")    \n",
        "\n",
        "  if cuda_available:\n",
        "    model = model.cuda()\n",
        "\n",
        "  epoch_train_loss = []\n",
        "  epoch_val_loss = []\n",
        "  epoch_train_acc = []\n",
        "  epoch_val_acc = []\n",
        "\n",
        "  for epoch_num in range(epochs):\n",
        "    \n",
        "    model.train()\n",
        "\n",
        "    total_loss_train = 0\n",
        "    total_batches_train = 0\n",
        "    total_acc_train = 0\n",
        "\n",
        "    for train_input, train_label in tqdm(train_dataloader):\n",
        "      \n",
        "      train_label = train_label.to(device, dtype=torch.float)\n",
        "      attention_mask = train_input['attention_mask'].to(device, dtype=torch.long)\n",
        "      input_ids = train_input['input_ids'].squeeze(1).to(device, dtype=torch.long)\n",
        "\n",
        "      output = model(input_ids, attention_mask)\n",
        "\n",
        "      batch_loss = loss(output, train_label)\n",
        "      total_loss_train += batch_loss.item()\n",
        "\n",
        "      batch_acc = accuracy(output, train_label)\n",
        "      total_acc_train += batch_acc\n",
        "\n",
        "      total_batches_train += 1\n",
        "\n",
        "      model.zero_grad()\n",
        "      batch_loss.backward()\n",
        "      optimizer.step()\n",
        "    \n",
        "    avg_loss_train = total_loss_train / total_batches_train\n",
        "    avg_acc_train = total_acc_train / total_batches_train\n",
        "    \n",
        "    model.eval()\n",
        "\n",
        "    total_loss_val = 0\n",
        "    total_batches_val = 0\n",
        "    total_acc_val = 0\n",
        "    \n",
        "    with torch.no_grad():\n",
        "\n",
        "      for val_input, val_label in val_dataloader:\n",
        "\n",
        "        val_label = val_label.to(device, dtype=torch.float)\n",
        "        attention_mask = val_input['attention_mask'].to(device, dtype=torch.long)\n",
        "        input_ids = val_input['input_ids'].squeeze(1).to(device, dtype=torch.long)\n",
        "\n",
        "        output = model(input_ids, attention_mask)\n",
        "\n",
        "        batch_loss = loss(output, val_label)\n",
        "        total_loss_val += batch_loss.item()\n",
        "\n",
        "        batch_acc = accuracy(output, val_label)\n",
        "        total_acc_val += batch_acc\n",
        "\n",
        "        total_batches_val += 1\n",
        "                \n",
        "    avg_loss_val = total_loss_val / total_batches_val\n",
        "    avg_acc_val = total_acc_val / total_batches_val\n",
        "\n",
        "    print(f'Epochs: {epoch_num + 1} | Train Loss: {avg_loss_train:.3f} |  Train Accuracy: {avg_acc_train:.3f} | Validation Loss: {avg_loss_val:.3f} | Validation Accuracy: {avg_acc_val:.3f}')\n",
        "    \n",
        "    epoch_train_loss.append(avg_loss_train)\n",
        "    epoch_val_loss.append(avg_loss_val)\n",
        "    epoch_train_acc.append(avg_acc_train)\n",
        "    epoch_val_acc.append(avg_acc_val)\n",
        "  \n",
        "  plot_graphs(epoch_train_acc, epoch_train_loss, epoch_val_acc, epoch_val_loss)\n"
      ],
      "metadata": {
        "id": "PyFWYfARN6Om"
      },
      "execution_count": 14,
      "outputs": []
    },
    {
      "cell_type": "markdown",
      "source": [
        "Let's train the model now"
      ],
      "metadata": {
        "id": "b6RMYk-81-f7"
      }
    },
    {
      "cell_type": "code",
      "source": [
        "EPOCHS = 7\n",
        "LR = 1e-6\n",
        "bert_model = BertClassifier()        \n",
        "train(bert_model, X_train, y_train, X_val, y_val, LR, EPOCHS)"
      ],
      "metadata": {
        "colab": {
          "base_uri": "https://localhost:8080/",
          "height": 1000,
          "referenced_widgets": [
            "2133831aafc9477e9b1fb0a00d0331f9",
            "aba8ad27ac3c493490dde2e054a1a63a",
            "1e4335456bc543a4a939974a34bd774e",
            "1d82f47fd9aa4a9e99534f30a07a4bd8",
            "fbf97c52453843c999a9293292aa1052",
            "8deb6da1b884472a8e81e43e27fd4536",
            "753a1a1076394411ba5cf7eb5a4f8fd2",
            "cb9e8b28aab647d68af5741c76b6fb07",
            "16d643be00f84a40a90ff4362b9c901b",
            "2c5c6ef1dcec42399d4fae59e017762e",
            "09f6f6f7dddc4fb895b39fb42b8e91be"
          ]
        },
        "id": "XFx1Me6ZuXMg",
        "outputId": "7acc0aa0-c917-40e3-f9aa-891dd9cf9e64"
      },
      "execution_count": 15,
      "outputs": [
        {
          "output_type": "display_data",
          "data": {
            "text/plain": [
              "Downloading pytorch_model.bin:   0%|          | 0.00/436M [00:00<?, ?B/s]"
            ],
            "application/vnd.jupyter.widget-view+json": {
              "version_major": 2,
              "version_minor": 0,
              "model_id": "2133831aafc9477e9b1fb0a00d0331f9"
            }
          },
          "metadata": {}
        },
        {
          "output_type": "stream",
          "name": "stderr",
          "text": [
            "Some weights of the model checkpoint at bert-base-cased were not used when initializing BertModel: ['cls.predictions.bias', 'cls.predictions.transform.LayerNorm.bias', 'cls.predictions.transform.dense.weight', 'cls.seq_relationship.weight', 'cls.predictions.decoder.weight', 'cls.predictions.transform.LayerNorm.weight', 'cls.seq_relationship.bias', 'cls.predictions.transform.dense.bias']\n",
            "- This IS expected if you are initializing BertModel from the checkpoint of a model trained on another task or with another architecture (e.g. initializing a BertForSequenceClassification model from a BertForPreTraining model).\n",
            "- This IS NOT expected if you are initializing BertModel from the checkpoint of a model that you expect to be exactly identical (initializing a BertForSequenceClassification model from a BertForSequenceClassification model).\n",
            "100%|██████████| 328/328 [07:56<00:00,  1.45s/it]\n"
          ]
        },
        {
          "output_type": "stream",
          "name": "stdout",
          "text": [
            "Epochs: 1 | Train Loss: 0.706 |  Train Accuracy: 0.568 | Validation Loss: 0.681 | Validation Accuracy: 0.703\n"
          ]
        },
        {
          "output_type": "stream",
          "name": "stderr",
          "text": [
            "100%|██████████| 328/328 [08:06<00:00,  1.48s/it]\n"
          ]
        },
        {
          "output_type": "stream",
          "name": "stdout",
          "text": [
            "Epochs: 2 | Train Loss: 0.668 |  Train Accuracy: 0.715 | Validation Loss: 0.635 | Validation Accuracy: 0.877\n"
          ]
        },
        {
          "output_type": "stream",
          "name": "stderr",
          "text": [
            "100%|██████████| 328/328 [08:06<00:00,  1.48s/it]\n"
          ]
        },
        {
          "output_type": "stream",
          "name": "stdout",
          "text": [
            "Epochs: 3 | Train Loss: 0.618 |  Train Accuracy: 0.873 | Validation Loss: 0.597 | Validation Accuracy: 0.895\n"
          ]
        },
        {
          "output_type": "stream",
          "name": "stderr",
          "text": [
            "100%|██████████| 328/328 [08:07<00:00,  1.49s/it]\n"
          ]
        },
        {
          "output_type": "stream",
          "name": "stdout",
          "text": [
            "Epochs: 4 | Train Loss: 0.595 |  Train Accuracy: 0.901 | Validation Loss: 0.587 | Validation Accuracy: 0.911\n"
          ]
        },
        {
          "output_type": "stream",
          "name": "stderr",
          "text": [
            "100%|██████████| 328/328 [08:07<00:00,  1.49s/it]\n"
          ]
        },
        {
          "output_type": "stream",
          "name": "stdout",
          "text": [
            "Epochs: 5 | Train Loss: 0.586 |  Train Accuracy: 0.911 | Validation Loss: 0.583 | Validation Accuracy: 0.913\n"
          ]
        },
        {
          "output_type": "stream",
          "name": "stderr",
          "text": [
            "100%|██████████| 328/328 [08:07<00:00,  1.49s/it]\n"
          ]
        },
        {
          "output_type": "stream",
          "name": "stdout",
          "text": [
            "Epochs: 6 | Train Loss: 0.579 |  Train Accuracy: 0.917 | Validation Loss: 0.581 | Validation Accuracy: 0.909\n"
          ]
        },
        {
          "output_type": "stream",
          "name": "stderr",
          "text": [
            "100%|██████████| 328/328 [08:07<00:00,  1.49s/it]\n"
          ]
        },
        {
          "output_type": "stream",
          "name": "stdout",
          "text": [
            "Epochs: 7 | Train Loss: 0.576 |  Train Accuracy: 0.919 | Validation Loss: 0.577 | Validation Accuracy: 0.918\n"
          ]
        },
        {
          "output_type": "display_data",
          "data": {
            "text/plain": [
              "<Figure size 900x600 with 1 Axes>"
            ],
            "image/png": "[encoded data removed]"
          },
          "metadata": {}
        },
        {
          "output_type": "display_data",
          "data": {
            "text/plain": [
              "<Figure size 900x600 with 1 Axes>"
            ],
            "image/png": "[encoded data removed]"
          },
          "metadata": {}
        }
      ]
    },
    {
      "cell_type": "code",
      "source": [
        "# Let's create an evaluation function\n",
        "\n",
        "def evaluate(model, X_test, y_test):\n",
        "\n",
        "    test = Dataset(X_test, y_test)\n",
        "    test_dataloader = torch.utils.data.DataLoader(test, batch_size=16)\n",
        "\n",
        "    device = torch.device(\"cuda\" if torch.cuda.is_available() else \"cpu\")\n",
        "    if torch.cuda.is_available():\n",
        "        model = model.cuda()\n",
        "\n",
        "    model.eval()\n",
        "\n",
        "    total_loss_test = 0\n",
        "    total_batches_test = 0\n",
        "    total_acc_test = 0\n",
        "\n",
        "    with torch.no_grad():\n",
        "        \n",
        "      for test_input, test_label in test_dataloader:\n",
        "          \n",
        "        test_label = test_label.to(device, dtype=torch.float)\n",
        "        attention_mask = test_input['attention_mask'].to(device, dtype=torch.long)\n",
        "        input_ids = test_input['input_ids'].squeeze(1).to(device, dtype=torch.long)\n",
        "\n",
        "        output = model(input_ids, attention_mask)\n",
        "        \n",
        "        batch_loss = loss(output, test_label)\n",
        "        total_loss_test += batch_loss.item()\n",
        "\n",
        "        batch_acc = accuracy(output, test_label)\n",
        "        total_acc_test += batch_acc\n",
        "        \n",
        "        total_batches_test += 1\n",
        "            \n",
        "    avg_loss_test = total_loss_test / total_batches_test\n",
        "    avg_acc_test = total_acc_test / total_batches_test\n",
        "\n",
        "    print(f'Test Loss: {avg_loss_test:.3f} | Test Accuracy: {avg_acc_test:.3f}')\n",
        "    return avg_loss_test, avg_acc_test\n"
      ],
      "metadata": {
        "id": "RV5F7pQoPulg"
      },
      "execution_count": 16,
      "outputs": []
    },
    {
      "cell_type": "code",
      "source": [
        "# Let's evaluate the model on the test set now\n",
        "\n",
        "evaluate(bert_model, X_test, y_test)"
      ],
      "metadata": {
        "id": "Wfn5H4ZRU-uQ",
        "colab": {
          "base_uri": "https://localhost:8080/"
        },
        "outputId": "5c704792-89b5-45b8-dd21-98582144ce3e"
      },
      "execution_count": 17,
      "outputs": [
        {
          "output_type": "stream",
          "name": "stdout",
          "text": [
            "Test Loss: 0.570 | Test Accuracy: 0.927\n"
          ]
        },
        {
          "output_type": "execute_result",
          "data": {
            "text/plain": [
              "(0.5701583846354149, 0.9269366197183099)"
            ]
          },
          "metadata": {},
          "execution_count": 17
        }
      ]
    },
    {
      "cell_type": "markdown",
      "source": [
        "Let's try out the model with some sample comments"
      ],
      "metadata": {
        "id": "l-u0dYx92rrH"
      }
    },
    {
      "cell_type": "code",
      "source": [
        "device = torch.device(\"cuda\" if torch.cuda.is_available() else \"cpu\")\n",
        "\n",
        "sample = [\"You are stupid enough to go there alone.\", \n",
        "          \"I am going home\", \n",
        "          \"fuck you asshole!!\", \n",
        "          \"I love you more everyday.\", \n",
        "          \"I loved you but not anymore since I am now over you, so kindly leave me alone.\"\n",
        "]\n",
        "\n",
        "input = tokenizer(sample, padding='max_length', max_length = 512, truncation=True, return_tensors=\"pt\")\n",
        "\n",
        "attention_mask = input['attention_mask'].to(device)\n",
        "input_ids = input['input_ids'].squeeze(1).to(device)\n",
        "logits = bert_model(input_ids, attention_mask)\n",
        "\n",
        "# Printing the model output logits\n",
        "print(['clean','toxic', 'severe_toxic', 'obscene', 'threat', 'insult', 'identity_hate'])\n",
        "print(logits)"
      ],
      "metadata": {
        "colab": {
          "base_uri": "https://localhost:8080/"
        },
        "id": "idOS6zVt36Wi",
        "outputId": "ecf7b81f-5d46-4375-e9be-dd345bebbb28"
      },
      "execution_count": 18,
      "outputs": [
        {
          "output_type": "stream",
          "name": "stdout",
          "text": [
            "['clean', 'toxic', 'severe_toxic', 'obscene', 'threat', 'insult', 'identity_hate']\n",
            "tensor([[0.0000, 1.8973, 0.0000, 0.2041, 0.0000, 0.5117, 0.0000],\n",
            "        [1.1669, 0.0000, 0.0000, 0.0000, 0.0000, 0.0000, 0.0000],\n",
            "        [0.0000, 3.6057, 0.2042, 3.1454, 0.0000, 2.2835, 0.0000],\n",
            "        [0.8205, 0.0000, 0.0000, 0.0000, 0.0000, 0.0000, 0.0000],\n",
            "        [1.1085, 0.0000, 0.0000, 0.0000, 0.0000, 0.0000, 0.0000]],\n",
            "       device='cuda:0', grad_fn=<ReluBackward0>)\n"
          ]
        }
      ]
    },
    {
      "cell_type": "code",
      "source": [
        "# Let's convert the model output logits into probabilites by passing them through the Softmax function\n",
        "predictions = torch.nn.functional.softmax(logits, dim=-1)\n",
        "\n",
        "labels = ['clean','toxic', 'severe_toxic', 'obscene', 'threat', 'insult', 'identity_hate']\n",
        "preds = predictions.detach().cpu().numpy()\n",
        "\n",
        "for i, probs in enumerate(preds):\n",
        "  print(\"\\nComment:\", sample[i])\n",
        "  print(\"Prediction:\", labels[np.argmax(probs)])\n",
        "  print(\"Probability:\", probs[np.argmax(probs)])\n",
        "\n",
        "pred_df = pd.DataFrame(preds, columns=labels)\n",
        "pred_df.insert(0, \"Comment\", sample)\n",
        "pred_df"
      ],
      "metadata": {
        "colab": {
          "base_uri": "https://localhost:8080/",
          "height": 553
        },
        "id": "kU3c2Gw_4ACC",
        "outputId": "76148d48-5853-44b7-82b8-fed7851b9c00"
      },
      "execution_count": 19,
      "outputs": [
        {
          "output_type": "stream",
          "name": "stdout",
          "text": [
            "\n",
            "Comment: You are stupid enough to go there alone.\n",
            "Prediction: toxic\n",
            "Probability: 0.49163866\n",
            "\n",
            "Comment: I am going home\n",
            "Prediction: clean\n",
            "Probability: 0.34866855\n",
            "\n",
            "Comment: fuck you asshole!!\n",
            "Prediction: toxic\n",
            "Probability: 0.49689698\n",
            "\n",
            "Comment: I love you more everyday.\n",
            "Prediction: clean\n",
            "Probability: 0.27463382\n",
            "\n",
            "Comment: I loved you but not anymore since I am now over you, so kindly leave me alone.\n",
            "Prediction: clean\n",
            "Probability: 0.33554196\n"
          ]
        },
        {
          "output_type": "execute_result",
          "data": {
            "text/plain": [
              "                                             Comment     clean     toxic  \\\n",
              "0           You are stupid enough to go there alone.  0.073734  0.491639   \n",
              "1                                    I am going home  0.348669  0.108555   \n",
              "2                                 fuck you asshole!!  0.013500  0.496897   \n",
              "3                          I love you more everyday.  0.274634  0.120894   \n",
              "4  I loved you but not anymore since I am now ove...  0.335542  0.110743   \n",
              "\n",
              "   severe_toxic   obscene    threat    insult  identity_hate  \n",
              "0      0.073734  0.090429  0.073734  0.122994       0.073734  \n",
              "1      0.108555  0.108555  0.108555  0.108555       0.108555  \n",
              "2      0.016557  0.313600  0.013500  0.132446       0.013500  \n",
              "3      0.120894  0.120894  0.120894  0.120894       0.120894  \n",
              "4      0.110743  0.110743  0.110743  0.110743       0.110743  "
            ],
            "text/html": [
              "\n",
              "  <div id=\"df-58b642e0-b4fe-4866-8497-7a2edaa02ef4\">\n",
              "    <div class=\"colab-df-container\">\n",
              "      <div>\n",
              "<style scoped>\n",
              "    .dataframe tbody tr th:only-of-type {\n",
              "        vertical-align: middle;\n",
              "    }\n",
              "\n",
              "    .dataframe tbody tr th {\n",
              "        vertical-align: top;\n",
              "    }\n",
              "\n",
              "    .dataframe thead th {\n",
              "        text-align: right;\n",
              "    }\n",
              "</style>\n",
              "<table border=\"1\" class=\"dataframe\">\n",
              "  <thead>\n",
              "    <tr style=\"text-align: right;\">\n",
              "      <th></th>\n",
              "      <th>Comment</th>\n",
              "      <th>clean</th>\n",
              "      <th>toxic</th>\n",
              "      <th>severe_toxic</th>\n",
              "      <th>obscene</th>\n",
              "      <th>threat</th>\n",
              "      <th>insult</th>\n",
              "      <th>identity_hate</th>\n",
              "    </tr>\n",
              "  </thead>\n",
              "  <tbody>\n",
              "    <tr>\n",
              "      <th>0</th>\n",
              "      <td>You are stupid enough to go there alone.</td>\n",
              "      <td>0.073734</td>\n",
              "      <td>0.491639</td>\n",
              "      <td>0.073734</td>\n",
              "      <td>0.090429</td>\n",
              "      <td>0.073734</td>\n",
              "      <td>0.122994</td>\n",
              "      <td>0.073734</td>\n",
              "    </tr>\n",
              "    <tr>\n",
              "      <th>1</th>\n",
              "      <td>I am going home</td>\n",
              "      <td>0.348669</td>\n",
              "      <td>0.108555</td>\n",
              "      <td>0.108555</td>\n",
              "      <td>0.108555</td>\n",
              "      <td>0.108555</td>\n",
              "      <td>0.108555</td>\n",
              "      <td>0.108555</td>\n",
              "    </tr>\n",
              "    <tr>\n",
              "      <th>2</th>\n",
              "      <td>fuck you asshole!!</td>\n",
              "      <td>0.013500</td>\n",
              "      <td>0.496897</td>\n",
              "      <td>0.016557</td>\n",
              "      <td>0.313600</td>\n",
              "      <td>0.013500</td>\n",
              "      <td>0.132446</td>\n",
              "      <td>0.013500</td>\n",
              "    </tr>\n",
              "    <tr>\n",
              "      <th>3</th>\n",
              "      <td>I love you more everyday.</td>\n",
              "      <td>0.274634</td>\n",
              "      <td>0.120894</td>\n",
              "      <td>0.120894</td>\n",
              "      <td>0.120894</td>\n",
              "      <td>0.120894</td>\n",
              "      <td>0.120894</td>\n",
              "      <td>0.120894</td>\n",
              "    </tr>\n",
              "    <tr>\n",
              "      <th>4</th>\n",
              "      <td>I loved you but not anymore since I am now ove...</td>\n",
              "      <td>0.335542</td>\n",
              "      <td>0.110743</td>\n",
              "      <td>0.110743</td>\n",
              "      <td>0.110743</td>\n",
              "      <td>0.110743</td>\n",
              "      <td>0.110743</td>\n",
              "      <td>0.110743</td>\n",
              "    </tr>\n",
              "  </tbody>\n",
              "</table>\n",
              "</div>\n",
              "      <button class=\"colab-df-convert\" onclick=\"convertToInteractive('df-58b642e0-b4fe-4866-8497-7a2edaa02ef4')\"\n",
              "              title=\"Convert this dataframe to an interactive table.\"\n",
              "              style=\"display:none;\">\n",
              "        \n",
              "  <svg xmlns=\"http://www.w3.org/2000/svg\" height=\"24px\"viewBox=\"0 0 24 24\"\n",
              "       width=\"24px\">\n",
              "    <path d=\"M0 0h24v24H0V0z\" fill=\"none\"/>\n",
              "    <path d=\"M18.56 5.44l.94 2.06.94-2.06 2.06-.94-2.06-.94-.94-2.06-.94 2.06-2.06.94zm-11 1L8.5 8.5l.94-2.06 2.06-.94-2.06-.94L8.5 2.5l-.94 2.06-2.06.94zm10 10l.94 2.06.94-2.06 2.06-.94-2.06-.94-.94-2.06-.94 2.06-2.06.94z\"/><path d=\"M17.41 7.96l-1.37-1.37c-.4-.4-.92-.59-1.43-.59-.52 0-1.04.2-1.43.59L10.3 9.45l-7.72 7.72c-.78.78-.78 2.05 0 2.83L4 21.41c.39.39.9.59 1.41.59.51 0 1.02-.2 1.41-.59l7.78-7.78 2.81-2.81c.8-.78.8-2.07 0-2.86zM5.41 20L4 18.59l7.72-7.72 1.47 1.35L5.41 20z\"/>\n",
              "  </svg>\n",
              "      </button>\n",
              "      \n",
              "  <style>\n",
              "    .colab-df-container {\n",
              "      display:flex;\n",
              "      flex-wrap:wrap;\n",
              "      gap: 12px;\n",
              "    }\n",
              "\n",
              "    .colab-df-convert {\n",
              "      background-color: #E8F0FE;\n",
              "      border: none;\n",
              "      border-radius: 50%;\n",
              "      cursor: pointer;\n",
              "      display: none;\n",
              "      fill: #1967D2;\n",
              "      height: 32px;\n",
              "      padding: 0 0 0 0;\n",
              "      width: 32px;\n",
              "    }\n",
              "\n",
              "    .colab-df-convert:hover {\n",
              "      background-color: #E2EBFA;\n",
              "      box-shadow: 0px 1px 2px rgba(60, 64, 67, 0.3), 0px 1px 3px 1px rgba(60, 64, 67, 0.15);\n",
              "      fill: #174EA6;\n",
              "    }\n",
              "\n",
              "    [theme=dark] .colab-df-convert {\n",
              "      background-color: #3B4455;\n",
              "      fill: #D2E3FC;\n",
              "    }\n",
              "\n",
              "    [theme=dark] .colab-df-convert:hover {\n",
              "      background-color: #434B5C;\n",
              "      box-shadow: 0px 1px 3px 1px rgba(0, 0, 0, 0.15);\n",
              "      filter: drop-shadow(0px 1px 2px rgba(0, 0, 0, 0.3));\n",
              "      fill: #FFFFFF;\n",
              "    }\n",
              "  </style>\n",
              "\n",
              "      <script>\n",
              "        const buttonEl =\n",
              "          document.querySelector('#df-58b642e0-b4fe-4866-8497-7a2edaa02ef4 button.colab-df-convert');\n",
              "        buttonEl.style.display =\n",
              "          google.colab.kernel.accessAllowed ? 'block' : 'none';\n",
              "\n",
              "        async function convertToInteractive(key) {\n",
              "          const element = document.querySelector('#df-58b642e0-b4fe-4866-8497-7a2edaa02ef4');\n",
              "          const dataTable =\n",
              "            await google.colab.kernel.invokeFunction('convertToInteractive',\n",
              "                                                     [key], {});\n",
              "          if (!dataTable) return;\n",
              "\n",
              "          const docLinkHtml = 'Like what you see? Visit the ' +\n",
              "            '<a target=\"_blank\" href=https://colab.research.google.com/notebooks/data_table.ipynb>data table notebook</a>'\n",
              "            + ' to learn more about interactive tables.';\n",
              "          element.innerHTML = '';\n",
              "          dataTable['output_type'] = 'display_data';\n",
              "          await google.colab.output.renderOutput(dataTable, element);\n",
              "          const docLink = document.createElement('div');\n",
              "          docLink.innerHTML = docLinkHtml;\n",
              "          element.appendChild(docLink);\n",
              "        }\n",
              "      </script>\n",
              "    </div>\n",
              "  </div>\n",
              "  "
            ]
          },
          "metadata": {},
          "execution_count": 19
        }
      ]
    },
    {
      "cell_type": "code",
      "source": [
        "# Let's save the model's state_dict\n",
        "\n",
        "PATH = '/content/drive/MyDrive/toxic_comm_multi_classifier.pt'\n",
        "torch.save(bert_model.state_dict(), PATH)"
      ],
      "metadata": {
        "id": "bUvUwXTDZr5q"
      },
      "execution_count": 20,
      "outputs": []
    }
  ]
}