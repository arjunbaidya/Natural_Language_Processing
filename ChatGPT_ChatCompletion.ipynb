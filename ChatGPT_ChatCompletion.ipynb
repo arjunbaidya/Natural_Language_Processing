{
 "cells": [
  {
   "cell_type": "markdown",
   "id": "9483c2b1",
   "metadata": {},
   "source": [
    "## Using ChatGPT with its API. Having a conversation with ChatGPT!"
   ]
  },
  {
   "cell_type": "code",
   "execution_count": 1,
   "id": "c377c87b",
   "metadata": {},
   "outputs": [],
   "source": [
    "import json\n",
    "import openai"
   ]
  },
  {
   "cell_type": "code",
   "execution_count": 2,
   "id": "de70fee9",
   "metadata": {},
   "outputs": [],
   "source": [
    "with open(\"openaikey.json\",\"r\") as f:\n",
    "    apikey = json.load(f)"
   ]
  },
  {
   "cell_type": "code",
   "execution_count": 3,
   "id": "8d2060f3",
   "metadata": {},
   "outputs": [],
   "source": [
    "key = apikey['api_key']\n",
    "openai.api_key = key"
   ]
  },
  {
   "cell_type": "markdown",
   "id": "5dfb1d0a",
   "metadata": {},
   "source": [
    "Let's test with a single question first"
   ]
  },
  {
   "cell_type": "code",
   "execution_count": 4,
   "id": "889f18fa",
   "metadata": {
    "scrolled": false
   },
   "outputs": [],
   "source": [
    "response = openai.ChatCompletion.create(\n",
    "    model = 'gpt-3.5-turbo',\n",
    "    messages = [\n",
    "        {'role': 'system', 'content': 'You are a helpful assistant.'},\n",
    "        {'role': 'user', 'content': 'Can you tell me how to use dictionaries in python?'}\n",
    "    ]\n",
    ")"
   ]
  },
  {
   "cell_type": "code",
   "execution_count": 5,
   "id": "2b08a78d",
   "metadata": {},
   "outputs": [
    {
     "name": "stdout",
     "output_type": "stream",
     "text": [
      "Sure! A dictionary in Python is a collection of key-value pairs, where each key is unique. Here's an example:\n",
      "\n",
      "```python\n",
      "# Creating a dictionary\n",
      "person = {'name': 'John', 'age': 25, 'address': '123 Main St'}\n",
      "\n",
      "# Accessing the dictionary\n",
      "print(person['name'])  # Output: John\n",
      "print(person['age'])   # Output: 25\n",
      "print(person['address'])  # Output: 123 Main St\n",
      "\n",
      "# Adding a key-value pair\n",
      "person['phone'] = '555-555-5555'\n",
      "\n",
      "# Removing a key-value pair\n",
      "del person['address']\n",
      "```\n",
      "\n",
      "In this example, we create a dictionary called `person` with three key-value pairs: 'name', 'age', and 'address'. We can access each value in the dictionary using its corresponding key.\n",
      "\n",
      "We can also add a new key-value pair to the dictionary using the syntax `dictionary_name[key] = value`.\n",
      "\n",
      "To remove a key-value pair from the dictionary, we can use the `del` keyword, followed by the key. In this example, we remove the 'address' key-value pair.\n",
      "\n",
      "I hope that helps!\n"
     ]
    }
   ],
   "source": [
    "print(response['choices'][0]['message']['content'])"
   ]
  },
  {
   "cell_type": "markdown",
   "id": "6b062581",
   "metadata": {},
   "source": [
    "### Let's make it conversational now"
   ]
  },
  {
   "cell_type": "code",
   "execution_count": 6,
   "id": "33865550",
   "metadata": {},
   "outputs": [],
   "source": [
    "# Creating a helper function to add messages \n",
    "\n",
    "def add_message(messages, role, message):\n",
    "    \n",
    "    messages.append({'role': role, 'content': message})\n",
    "    return messages"
   ]
  },
  {
   "cell_type": "code",
   "execution_count": 7,
   "id": "8cd473cc",
   "metadata": {},
   "outputs": [],
   "source": [
    "# Creating a helper function to query the model\n",
    "\n",
    "def query_chatgpt(messages):\n",
    "    \n",
    "    response = openai.ChatCompletion.create(\n",
    "        model = 'gpt-3.5-turbo',\n",
    "        messages = messages\n",
    "    )\n",
    "    \n",
    "    return response['choices'][0]['message']['content']"
   ]
  },
  {
   "cell_type": "code",
   "execution_count": 11,
   "id": "7da5ac14",
   "metadata": {},
   "outputs": [
    {
     "name": "stdout",
     "output_type": "stream",
     "text": [
      "To exit the conversation, simply type either exit or stop or close.\n",
      "\n",
      "Your question: Hi my name is Arjun. Can you tell me about Australia?\n",
      "\n",
      "ChatGPT reply:\n",
      "\n",
      " Hi Arjun! Sure, I'd be happy to tell you about Australia!\n",
      "\n",
      "Australia is a country and continent located in the southern hemisphere, surrounded by the Indian and Pacific Oceans. Its capital is Canberra, and its most populous city is Sydney. It is the world's sixth-largest country in terms of land area and has a population of around 25 million people.\n",
      "\n",
      "Australia is known for its unique wildlife, including kangaroos and koalas, as well as its iconic landmarks such as the Sydney Opera House and Uluru (also known as Ayers Rock). It is also home to many beautiful natural features such as the Great Barrier Reef and the Outback.\n",
      "\n",
      "The official language of Australia is English and its currency is the Australian dollar. It is a democratic country with a strong economy and a high standard of living. \n",
      "\n",
      "====================================================================================================\n",
      "Your question: Which time of the year is best for visiting Australia for tourism?\n",
      "\n",
      "ChatGPT reply:\n",
      "\n",
      " The best time to visit Australia for tourism depends on what regions you would like to visit, as different areas of Australia have different weather patterns and climates.\n",
      "\n",
      "In general, the best time to visit Australia is during its Spring (September to November) or its Autumn (March to May). During these seasons, the weather is mild and comfortable in most parts of the country and there are fewer crowds and lower prices than during peak travel times.\n",
      "\n",
      "If you are interested in visiting the northern regions of Australia, such as the tropical north, the best time to visit is during the Dry season (May to October) when there is less humidity and rainfall.\n",
      "\n",
      "On the other hand, if you are interested in skiing or winter sports, the best time to visit Australia would be during its Winter season (June to August).\n",
      "\n",
      "Overall, it is recommended to plan your trip based on your interests and the regions you would like to visit, as weather and climate can vary greatly across Australia. \n",
      "\n",
      "====================================================================================================\n",
      "Your question: Can you tell me about popular tourist spots there?\n",
      "\n",
      "ChatGPT reply:\n",
      "\n",
      " Sure, there are many popular tourist spots in Australia. Here are some of the top ones:\n",
      "\n",
      "1. Sydney Opera House - this iconic structure in Sydney is one of the most recognizable landmarks in the world and hosts many performances throughout the year.\n",
      "\n",
      "2. Great Barrier Reef – one of the world's most famous coral reefs, a popular spot for snorkeling and diving.\n",
      "\n",
      "3. Uluru (Ayers Rock) – a large sandstone monolith in the heart of Australia's Outback.\n",
      "\n",
      "4. Bondi Beach – a famous beach near Sydney with great waves for surfing and a vibrant beach culture.\n",
      "\n",
      "5. Melbourne's Cultural Precinct - a collection of museums, art galleries, theaters, and music venues located in the heart of Melbourne.\n",
      "\n",
      "6. Kangaroo Island – an island in South Australia renowned for its pristine wilderness, wildlife, and natural beauty.\n",
      "\n",
      "7. The Great Ocean Road – a scenic coastal drive in Victoria that takes you past stunning landscapes such as the Twelve Apostles, cliffs, and beaches.\n",
      "\n",
      "8. Fraser Island – the world's largest sand island located in Queensland, with a unique ecosystem featuring rainforest growing on sand dunes, crystal clear freshwater lakes, and incredible scenery.\n",
      "\n",
      "9. Port Arthur - a historical site and former penal colony located in Tasmania.\n",
      "\n",
      "10. The Blue Mountains - a mountain range west of Sydney, known for its stunning scenery, bushwalking trails, and charming towns. \n",
      "\n",
      "These are just a few of the many destinations and attractions that make Australia a popular tourist destination. \n",
      "\n",
      "====================================================================================================\n",
      "Your question: Tell me more about Fraser Island\n",
      "\n",
      "ChatGPT reply:\n",
      "\n",
      " Fraser Island is the largest sand island in the world and is located off the eastern coast of Australia, near the state of Queensland. It stretches over an area of about 122 km and has a unique ecosystem that includes rainforests growing on sand dunes, crystal-clear freshwater lakes, and remote beaches. \n",
      "\n",
      "Fraser Island is a popular destination for those seeking an adventurous experience in the wilderness. Some popular activities on the island include 4x4 driving, camping, fishing, snorkeling, and whale watching.\n",
      "\n",
      "The island's crystal-clear freshwater lakes are a major attraction. Lake McKenzie is one of the most famous lakes on the island, with its white sand beaches, clear blue water, and surrounding rainforest. Other lakes worth visiting include Lake Wabby, Lake Birrabeen, and Lake Boomanjin.\n",
      "\n",
      "Fraser Island is also home to a rich variety of wildlife. Dingoes, the island's native wild dog, can be spotted in many places, and visitors are advised to take precautions to avoid interactions with them. Humpback whales can be seen off the coast of Fraser Island from July to November, and the island is home to many sea turtles, dolphins, and dugongs.\n",
      "\n",
      "With its unique and diverse landscape, Fraser Island is a must-visit destination for nature lovers and adventure seekers. \n",
      "\n",
      "====================================================================================================\n",
      "Your question: Do you remember my name?\n",
      "\n",
      "ChatGPT reply:\n",
      "\n",
      " Yes, your name is Arjun. \n",
      "\n",
      "====================================================================================================\n",
      "Your question: Great!\n",
      "\n",
      "ChatGPT reply:\n",
      "\n",
      " Is there anything else I can help you with, Arjun? \n",
      "\n",
      "====================================================================================================\n",
      "Your question: No thanks!\n",
      "\n",
      "ChatGPT reply:\n",
      "\n",
      " You're welcome, Arjun! Feel free to ask me anything anytime. \n",
      "\n",
      "====================================================================================================\n",
      "Your question: exit\n",
      "\n",
      "***** Conversation Closed *****\n"
     ]
    }
   ],
   "source": [
    "messages = [\n",
    "        {'role': 'system', 'content': 'You are a helpful assistant.'},\n",
    "        {'role': 'user', 'content': 'Can you tell me how to use dictionaries in python?'}\n",
    "]\n",
    "\n",
    "# Keep taking questions until user wants to exit\n",
    "\n",
    "print(\"To exit the conversation, simply type either exit or stop or close.\\n\")\n",
    "\n",
    "while True:\n",
    "    \n",
    "    inp = input(\"Your question: \")\n",
    "    \n",
    "    if inp.lower() in ['exit', 'stop', 'close']:\n",
    "        print(\"\\n***** Conversation Closed *****\")\n",
    "        break\n",
    "    else:\n",
    "        add_message(messages, role='user', message=inp)\n",
    "        answer = query_chatgpt(messages)\n",
    "        print(\"\\nChatGPT reply:\\n\\n\", answer, \"\\n\")\n",
    "        print(\"=\"*100)\n",
    "        add_message(messages, role='assistant', message=answer)\n",
    "        "
   ]
  },
  {
   "cell_type": "code",
   "execution_count": 12,
   "id": "23e7ec4c",
   "metadata": {},
   "outputs": [
    {
     "data": {
      "text/plain": [
       "[{'role': 'system', 'content': 'You are a helpful assistant.'},\n",
       " {'role': 'user',\n",
       "  'content': 'Can you tell me how to use dictionaries in python?'},\n",
       " {'role': 'user',\n",
       "  'content': 'Hi my name is Arjun. Can you tell me about Australia?'},\n",
       " {'role': 'assistant',\n",
       "  'content': \"Hi Arjun! Sure, I'd be happy to tell you about Australia!\\n\\nAustralia is a country and continent located in the southern hemisphere, surrounded by the Indian and Pacific Oceans. Its capital is Canberra, and its most populous city is Sydney. It is the world's sixth-largest country in terms of land area and has a population of around 25 million people.\\n\\nAustralia is known for its unique wildlife, including kangaroos and koalas, as well as its iconic landmarks such as the Sydney Opera House and Uluru (also known as Ayers Rock). It is also home to many beautiful natural features such as the Great Barrier Reef and the Outback.\\n\\nThe official language of Australia is English and its currency is the Australian dollar. It is a democratic country with a strong economy and a high standard of living.\"},\n",
       " {'role': 'user',\n",
       "  'content': 'Which time of the year is best for visiting Australia for tourism?'},\n",
       " {'role': 'assistant',\n",
       "  'content': 'The best time to visit Australia for tourism depends on what regions you would like to visit, as different areas of Australia have different weather patterns and climates.\\n\\nIn general, the best time to visit Australia is during its Spring (September to November) or its Autumn (March to May). During these seasons, the weather is mild and comfortable in most parts of the country and there are fewer crowds and lower prices than during peak travel times.\\n\\nIf you are interested in visiting the northern regions of Australia, such as the tropical north, the best time to visit is during the Dry season (May to October) when there is less humidity and rainfall.\\n\\nOn the other hand, if you are interested in skiing or winter sports, the best time to visit Australia would be during its Winter season (June to August).\\n\\nOverall, it is recommended to plan your trip based on your interests and the regions you would like to visit, as weather and climate can vary greatly across Australia.'},\n",
       " {'role': 'user',\n",
       "  'content': 'Can you tell me about popular tourist spots there?'},\n",
       " {'role': 'assistant',\n",
       "  'content': \"Sure, there are many popular tourist spots in Australia. Here are some of the top ones:\\n\\n1. Sydney Opera House - this iconic structure in Sydney is one of the most recognizable landmarks in the world and hosts many performances throughout the year.\\n\\n2. Great Barrier Reef – one of the world's most famous coral reefs, a popular spot for snorkeling and diving.\\n\\n3. Uluru (Ayers Rock) – a large sandstone monolith in the heart of Australia's Outback.\\n\\n4. Bondi Beach – a famous beach near Sydney with great waves for surfing and a vibrant beach culture.\\n\\n5. Melbourne's Cultural Precinct - a collection of museums, art galleries, theaters, and music venues located in the heart of Melbourne.\\n\\n6. Kangaroo Island – an island in South Australia renowned for its pristine wilderness, wildlife, and natural beauty.\\n\\n7. The Great Ocean Road – a scenic coastal drive in Victoria that takes you past stunning landscapes such as the Twelve Apostles, cliffs, and beaches.\\n\\n8. Fraser Island – the world's largest sand island located in Queensland, with a unique ecosystem featuring rainforest growing on sand dunes, crystal clear freshwater lakes, and incredible scenery.\\n\\n9. Port Arthur - a historical site and former penal colony located in Tasmania.\\n\\n10. The Blue Mountains - a mountain range west of Sydney, known for its stunning scenery, bushwalking trails, and charming towns. \\n\\nThese are just a few of the many destinations and attractions that make Australia a popular tourist destination.\"},\n",
       " {'role': 'user', 'content': 'Tell me more about Fraser Island'},\n",
       " {'role': 'assistant',\n",
       "  'content': \"Fraser Island is the largest sand island in the world and is located off the eastern coast of Australia, near the state of Queensland. It stretches over an area of about 122 km and has a unique ecosystem that includes rainforests growing on sand dunes, crystal-clear freshwater lakes, and remote beaches. \\n\\nFraser Island is a popular destination for those seeking an adventurous experience in the wilderness. Some popular activities on the island include 4x4 driving, camping, fishing, snorkeling, and whale watching.\\n\\nThe island's crystal-clear freshwater lakes are a major attraction. Lake McKenzie is one of the most famous lakes on the island, with its white sand beaches, clear blue water, and surrounding rainforest. Other lakes worth visiting include Lake Wabby, Lake Birrabeen, and Lake Boomanjin.\\n\\nFraser Island is also home to a rich variety of wildlife. Dingoes, the island's native wild dog, can be spotted in many places, and visitors are advised to take precautions to avoid interactions with them. Humpback whales can be seen off the coast of Fraser Island from July to November, and the island is home to many sea turtles, dolphins, and dugongs.\\n\\nWith its unique and diverse landscape, Fraser Island is a must-visit destination for nature lovers and adventure seekers.\"},\n",
       " {'role': 'user', 'content': 'Do you remember my name?'},\n",
       " {'role': 'assistant', 'content': 'Yes, your name is Arjun.'},\n",
       " {'role': 'user', 'content': 'Great!'},\n",
       " {'role': 'assistant',\n",
       "  'content': 'Is there anything else I can help you with, Arjun?'},\n",
       " {'role': 'user', 'content': 'No thanks!'},\n",
       " {'role': 'assistant',\n",
       "  'content': \"You're welcome, Arjun! Feel free to ask me anything anytime.\"}]"
      ]
     },
     "execution_count": 12,
     "metadata": {},
     "output_type": "execute_result"
    }
   ],
   "source": [
    "# let's see all the saved messages\n",
    "\n",
    "messages"
   ]
  },
  {
   "cell_type": "code",
   "execution_count": null,
   "id": "05c198e6",
   "metadata": {},
   "outputs": [],
   "source": []
  }
 ],
 "metadata": {
  "kernelspec": {
   "display_name": "Python 3 (ipykernel)",
   "language": "python",
   "name": "python3"
  },
  "language_info": {
   "codemirror_mode": {
    "name": "ipython",
    "version": 3
   },
   "file_extension": ".py",
   "mimetype": "text/x-python",
   "name": "python",
   "nbconvert_exporter": "python",
   "pygments_lexer": "ipython3",
   "version": "3.9.12"
  }
 },
 "nbformat": 4,
 "nbformat_minor": 5
}
