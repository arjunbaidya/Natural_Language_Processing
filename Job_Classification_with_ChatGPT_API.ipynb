{
 "cells": [
  {
   "cell_type": "markdown",
   "id": "9483c2b1",
   "metadata": {},
   "source": [
    "## Classifying Job postings using ChatGPT with its API"
   ]
  },
  {
   "cell_type": "markdown",
   "id": "ee958141",
   "metadata": {},
   "source": [
    "Prompting ChatGPT to classify job posts. The input to the model will be a variety of job postings. The output has to answer the following questions for each job:\n",
    "\n",
    "1. Does this job post need help running payroll?\n",
    "2. Does this job post need help with invoicing?\n",
    "3. Does this job post need help with Accounts receivables?\n",
    "4. Does this job post need bookkeeping support?\n",
    "5. Is this job post for someone to work in the office or work remotely?"
   ]
  },
  {
   "cell_type": "code",
   "execution_count": 1,
   "id": "c377c87b",
   "metadata": {},
   "outputs": [],
   "source": [
    "import json\n",
    "import openai"
   ]
  },
  {
   "cell_type": "code",
   "execution_count": 2,
   "id": "de70fee9",
   "metadata": {},
   "outputs": [],
   "source": [
    "with open(\"openaikey.json\",\"r\") as f:\n",
    "    apikey = json.load(f)"
   ]
  },
  {
   "cell_type": "code",
   "execution_count": 3,
   "id": "8d2060f3",
   "metadata": {},
   "outputs": [],
   "source": [
    "key = apikey['api_key']\n",
    "openai.api_key = key"
   ]
  },
  {
   "cell_type": "code",
   "execution_count": 4,
   "id": "33865550",
   "metadata": {},
   "outputs": [],
   "source": [
    "# Creating a helper function to add messages \n",
    "\n",
    "def add_message(messages, role, message):\n",
    "    \n",
    "    messages.append({'role': role, 'content': message})\n",
    "    return messages"
   ]
  },
  {
   "cell_type": "code",
   "execution_count": 5,
   "id": "8cd473cc",
   "metadata": {},
   "outputs": [],
   "source": [
    "# Creating a helper function to query the model\n",
    "\n",
    "def query_chatgpt(messages):\n",
    "    \n",
    "    response = openai.ChatCompletion.create(\n",
    "        model = 'gpt-3.5-turbo',\n",
    "        messages = messages\n",
    "    )\n",
    "    \n",
    "    return response['choices'][0]['message']['content']"
   ]
  },
  {
   "cell_type": "code",
   "execution_count": 6,
   "id": "7da5ac14",
   "metadata": {},
   "outputs": [],
   "source": [
    "# Setting the role for ChatGPT\n",
    "\n",
    "messages = [{'role': 'system', 'content': 'You are a human resource assistant expert in identifying job roles'}]"
   ]
  },
  {
   "cell_type": "markdown",
   "id": "53ae005c",
   "metadata": {},
   "source": [
    "Answer the following questions for each job posting provided:\n",
    "\n",
    "1. Does this job post need help running payroll?\n",
    "2. Does this job post need help with invoicing?\n",
    "3. Does this job post need help with Accounts receivables?\n",
    "4. Does this job post need bookkeeping support?\n",
    "5. Is this job post for someone to work in the office or work remotely?"
   ]
  },
  {
   "cell_type": "code",
   "execution_count": 7,
   "id": "74eb9c48",
   "metadata": {},
   "outputs": [],
   "source": [
    "# List of question to ask about the job\n",
    "\n",
    "questions = [\n",
    "    \"Does this job post need help running payroll?\",\n",
    "    \"Does this job post need help with invoicing?\",\n",
    "    \"Does this job post need help with Accounts receivables?\", \n",
    "    \"Does this job post need bookkeeping support?\",\n",
    "    \"Is this job post for someone to work in the office or work remotely?\"\n",
    "]\n",
    "\n",
    "# List of jobs\n",
    "# These can also be picked up from a database or excel/csv, but we are using a simple list here for demonstration purpose\n",
    "\n",
    "jobs = [\n",
    "'''\n",
    "Duties & Responsibilities:\n",
    "\n",
    "Responsible for Leave & Attendance Management.\n",
    "Responsible for payroll process, payroll related Compliances (PF, ESI, Bonus, etc.) & Full and Final settlement.\n",
    "Responsible for assisting employees in usage of HRMS module & coordinating with vendor for troubleshooting HRMS related issues.\n",
    "Responsible for HRMIS design & deployment\n",
    "Responsible for checking of all the bills relating to efficient and effective running of office that would include office rentals, maintenance bills, electricity bills, water supply, telephone and all other utility bills and maintenance expenses periodically before the due date without incurring any penal charges on the same\n",
    "Ensure timely payment to all vendors after ensuring the payment bills / invoices are checked and validated as per the valid contract signed by the company with the corresponding vendor\n",
    "Ensure timely and proper compliance under various status related to labour and employment and also as per the compliance requirement as stipulated by the local authority for running and maintaining of office premises.\n",
    "Supervision of the front office and all the labour employed by the approved contractors for various services like HK, Pantry, security, courier, parking of employee vehicles and visitor parking\n",
    "Printing of visiting cards, letter heads and other stationery materials as per approved corporate identity manual of the company\n",
    "''',\n",
    "'''\n",
    "Full Job Description:\n",
    "\n",
    "Develop and curate large scale influencer marketing strategies and creative campaigns.\n",
    "\n",
    "Identify and build relationships with prominent influencers to build a strong influencer community.\n",
    "Create an influencer content calendar to constantly drive brand awareness and engagement.\n",
    "Monitor influencer content to ensure it aligns with brand voice and guidelines.\n",
    "Take a leading role in the planning, creation and delivery of influencer activity, ensuring the deadlines are met\n",
    "Develop KPI’s and insights both internally and with influencer to benchmark expectations.\n",
    "Set goals, track conversions, and measure success of influencer program\n",
    "Actively keep an eye on emerging influencers and trends through various social media channels such as Instagram,\n",
    "YouTube, Twitter, and Facebook, etc.\n",
    "\n",
    "Brainstorm new, creative approaches to influencer campaigns\n",
    "Keep in mind of emerging trends, technologies and influencers\n",
    "Help the legal team in drafting contracts with influencers and agents to ensure we're agreeing terms and the deliverables\n",
    "are met.\n",
    "\n",
    "Budget management, ensuring campaigns are on budget and return on investment is maximized\n",
    "Bachelor's degree in Marketing\n",
    "\n",
    "Maximum 3 years of experience with same industry\n",
    "\n",
    "Proven track record in outreach campaign strategies\n",
    "\n",
    "In depth knowledge of social media marketing industry\n",
    "\n",
    "Impeccable verbal and written communication skills\n",
    "\n",
    "Well organized with great time management skills\n",
    "\n",
    "Outstanding project management skills\n",
    "\n",
    "Excellent interpersonal and relationship buildingskills\n",
    "\n",
    "Networking aptitude.\n",
    "\n",
    "Job Type: Full-time (remote)\n",
    "'''\n",
    "]\n"
   ]
  },
  {
   "cell_type": "code",
   "execution_count": 8,
   "id": "722bbc61",
   "metadata": {
    "scrolled": false
   },
   "outputs": [
    {
     "name": "stdout",
     "output_type": "stream",
     "text": [
      "\n",
      "Job passed to ChatGPT:\n",
      "\n",
      " \n",
      "Duties & Responsibilities:\n",
      "\n",
      "Responsible for Leave & Attendance Management.\n",
      "Responsible for payroll process, payroll related Compliances (PF, ESI, Bonus, etc.) & Full and Final settlement.\n",
      "Responsible for assisting employees in usage of HRMS module & coordinating with vendor for troubleshooting HRMS related issues.\n",
      "Responsible for HRMIS design & deployment\n",
      "Responsible for checking of all the bills relating to efficient and effective running of office that would include office rentals, maintenance bills, electricity bills, water supply, telephone and all other utility bills and maintenance expenses periodically before the due date without incurring any penal charges on the same\n",
      "Ensure timely payment to all vendors after ensuring the payment bills / invoices are checked and validated as per the valid contract signed by the company with the corresponding vendor\n",
      "Ensure timely and proper compliance under various status related to labour and employment and also as per the compliance requirement as stipulated by the local authority for running and maintaining of office premises.\n",
      "Supervision of the front office and all the labour employed by the approved contractors for various services like HK, Pantry, security, courier, parking of employee vehicles and visitor parking\n",
      "Printing of visiting cards, letter heads and other stationery materials as per approved corporate identity manual of the company\n",
      "\n",
      "Can you answer the following 5 questions below one by one?\n",
      "1. Does this job post need help running payroll?\n",
      "2. Does this job post need help with invoicing?\n",
      "3. Does this job post need help with Accounts receivables?\n",
      "4. Does this job post need bookkeeping support?\n",
      "5. Is this job post for someone to work in the office or work remotely?\n",
      " \n",
      "\n",
      "ChatGPT reply:\n",
      "\n",
      " 1. Yes, this job post requires help in running payroll.\n",
      "2. No, this job post does not mention any need for help with invoicing.\n",
      "3. No, this job post does not mention any need for help with accounts receivables.\n",
      "4. No, this job post does not mention any need for bookkeeping support.\n",
      "5. It is not explicitly mentioned in the job post whether the person would work in the office or remotely. \n",
      "\n",
      "====================================================================================================\n",
      "\n",
      "Job passed to ChatGPT:\n",
      "\n",
      " \n",
      "Full Job Description:\n",
      "\n",
      "Develop and curate large scale influencer marketing strategies and creative campaigns.\n",
      "\n",
      "Identify and build relationships with prominent influencers to build a strong influencer community.\n",
      "Create an influencer content calendar to constantly drive brand awareness and engagement.\n",
      "Monitor influencer content to ensure it aligns with brand voice and guidelines.\n",
      "Take a leading role in the planning, creation and delivery of influencer activity, ensuring the deadlines are met\n",
      "Develop KPI’s and insights both internally and with influencer to benchmark expectations.\n",
      "Set goals, track conversions, and measure success of influencer program\n",
      "Actively keep an eye on emerging influencers and trends through various social media channels such as Instagram,\n",
      "YouTube, Twitter, and Facebook, etc.\n",
      "\n",
      "Brainstorm new, creative approaches to influencer campaigns\n",
      "Keep in mind of emerging trends, technologies and influencers\n",
      "Help the legal team in drafting contracts with influencers and agents to ensure we're agreeing terms and the deliverables\n",
      "are met.\n",
      "\n",
      "Budget management, ensuring campaigns are on budget and return on investment is maximized\n",
      "Bachelor's degree in Marketing\n",
      "\n",
      "Maximum 3 years of experience with same industry\n",
      "\n",
      "Proven track record in outreach campaign strategies\n",
      "\n",
      "In depth knowledge of social media marketing industry\n",
      "\n",
      "Impeccable verbal and written communication skills\n",
      "\n",
      "Well organized with great time management skills\n",
      "\n",
      "Outstanding project management skills\n",
      "\n",
      "Excellent interpersonal and relationship buildingskills\n",
      "\n",
      "Networking aptitude.\n",
      "\n",
      "Job Type: Full-time (remote)\n",
      "\n",
      "Can you answer the following 5 questions below one by one?\n",
      "1. Does this job post need help running payroll?\n",
      "2. Does this job post need help with invoicing?\n",
      "3. Does this job post need help with Accounts receivables?\n",
      "4. Does this job post need bookkeeping support?\n",
      "5. Is this job post for someone to work in the office or work remotely?\n",
      " \n",
      "\n",
      "ChatGPT reply:\n",
      "\n",
      " 1. No, this job post does not mention any need for help running payroll.\n",
      "2. No, this job post does not mention any need for help with invoicing.\n",
      "3. No, this job post does not mention any need for help with accounts receivables.\n",
      "4. No, this job post does not mention any need for bookkeeping support.\n",
      "5. The job post mentions that it's a full-time position but remote work is allowed. \n",
      "\n",
      "====================================================================================================\n"
     ]
    }
   ],
   "source": [
    "# Let's pass the jobs one by one to ChatGPT and see it's reply to our questions\n",
    "\n",
    "for job in jobs:\n",
    "    \n",
    "    job = job + \"\\nCan you answer the following \" + str(len(questions)) + \" questions below one by one?\\n\"\n",
    "    \n",
    "    for i, question in enumerate(questions):\n",
    "        job = job + str(i+1) + \". \" + question + \"\\n\"\n",
    "        \n",
    "    add_message(messages, role='user', message=job)\n",
    "    answer = query_chatgpt(messages)\n",
    "    print(\"\\nJob passed to ChatGPT:\\n\\n\", job, \"\\n\")\n",
    "    print(\"ChatGPT reply:\\n\\n\", answer, \"\\n\")\n",
    "    print(\"=\"*100)\n",
    "    add_message(messages, role='assistant', message=answer)"
   ]
  },
  {
   "cell_type": "code",
   "execution_count": 9,
   "id": "23e7ec4c",
   "metadata": {},
   "outputs": [
    {
     "data": {
      "text/plain": [
       "[{'role': 'system',\n",
       "  'content': 'You are a human resource assistant expert in identifying job roles'},\n",
       " {'role': 'user',\n",
       "  'content': '\\nDuties & Responsibilities:\\n\\nResponsible for Leave & Attendance Management.\\nResponsible for payroll process, payroll related Compliances (PF, ESI, Bonus, etc.) & Full and Final settlement.\\nResponsible for assisting employees in usage of HRMS module & coordinating with vendor for troubleshooting HRMS related issues.\\nResponsible for HRMIS design & deployment\\nResponsible for checking of all the bills relating to efficient and effective running of office that would include office rentals, maintenance bills, electricity bills, water supply, telephone and all other utility bills and maintenance expenses periodically before the due date without incurring any penal charges on the same\\nEnsure timely payment to all vendors after ensuring the payment bills / invoices are checked and validated as per the valid contract signed by the company with the corresponding vendor\\nEnsure timely and proper compliance under various status related to labour and employment and also as per the compliance requirement as stipulated by the local authority for running and maintaining of office premises.\\nSupervision of the front office and all the labour employed by the approved contractors for various services like HK, Pantry, security, courier, parking of employee vehicles and visitor parking\\nPrinting of visiting cards, letter heads and other stationery materials as per approved corporate identity manual of the company\\n\\nCan you answer the following 5 questions below one by one?\\n1. Does this job post need help running payroll?\\n2. Does this job post need help with invoicing?\\n3. Does this job post need help with Accounts receivables?\\n4. Does this job post need bookkeeping support?\\n5. Is this job post for someone to work in the office or work remotely?\\n'},\n",
       " {'role': 'assistant',\n",
       "  'content': '1. Yes, this job post requires help in running payroll.\\n2. No, this job post does not mention any need for help with invoicing.\\n3. No, this job post does not mention any need for help with accounts receivables.\\n4. No, this job post does not mention any need for bookkeeping support.\\n5. It is not explicitly mentioned in the job post whether the person would work in the office or remotely.'},\n",
       " {'role': 'user',\n",
       "  'content': \"\\nFull Job Description:\\n\\nDevelop and curate large scale influencer marketing strategies and creative campaigns.\\n\\nIdentify and build relationships with prominent influencers to build a strong influencer community.\\nCreate an influencer content calendar to constantly drive brand awareness and engagement.\\nMonitor influencer content to ensure it aligns with brand voice and guidelines.\\nTake a leading role in the planning, creation and delivery of influencer activity, ensuring the deadlines are met\\nDevelop KPI’s and insights both internally and with influencer to benchmark expectations.\\nSet goals, track conversions, and measure success of influencer program\\nActively keep an eye on emerging influencers and trends through various social media channels such as Instagram,\\nYouTube, Twitter, and Facebook, etc.\\n\\nBrainstorm new, creative approaches to influencer campaigns\\nKeep in mind of emerging trends, technologies and influencers\\nHelp the legal team in drafting contracts with influencers and agents to ensure we're agreeing terms and the deliverables\\nare met.\\n\\nBudget management, ensuring campaigns are on budget and return on investment is maximized\\nBachelor's degree in Marketing\\n\\nMaximum 3 years of experience with same industry\\n\\nProven track record in outreach campaign strategies\\n\\nIn depth knowledge of social media marketing industry\\n\\nImpeccable verbal and written communication skills\\n\\nWell organized with great time management skills\\n\\nOutstanding project management skills\\n\\nExcellent interpersonal and relationship buildingskills\\n\\nNetworking aptitude.\\n\\nJob Type: Full-time (remote)\\n\\nCan you answer the following 5 questions below one by one?\\n1. Does this job post need help running payroll?\\n2. Does this job post need help with invoicing?\\n3. Does this job post need help with Accounts receivables?\\n4. Does this job post need bookkeeping support?\\n5. Is this job post for someone to work in the office or work remotely?\\n\"},\n",
       " {'role': 'assistant',\n",
       "  'content': \"1. No, this job post does not mention any need for help running payroll.\\n2. No, this job post does not mention any need for help with invoicing.\\n3. No, this job post does not mention any need for help with accounts receivables.\\n4. No, this job post does not mention any need for bookkeeping support.\\n5. The job post mentions that it's a full-time position but remote work is allowed.\"}]"
      ]
     },
     "execution_count": 9,
     "metadata": {},
     "output_type": "execute_result"
    }
   ],
   "source": [
    "# let's see all the saved messages\n",
    "\n",
    "messages"
   ]
  },
  {
   "cell_type": "code",
   "execution_count": null,
   "id": "05c198e6",
   "metadata": {},
   "outputs": [],
   "source": []
  }
 ],
 "metadata": {
  "kernelspec": {
   "display_name": "Python 3 (ipykernel)",
   "language": "python",
   "name": "python3"
  },
  "language_info": {
   "codemirror_mode": {
    "name": "ipython",
    "version": 3
   },
   "file_extension": ".py",
   "mimetype": "text/x-python",
   "name": "python",
   "nbconvert_exporter": "python",
   "pygments_lexer": "ipython3",
   "version": "3.9.12"
  }
 },
 "nbformat": 4,
 "nbformat_minor": 5
}
